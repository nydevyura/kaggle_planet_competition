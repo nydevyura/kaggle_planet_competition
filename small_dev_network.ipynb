{
 "cells": [
  {
   "cell_type": "code",
   "execution_count": 88,
   "metadata": {
    "collapsed": false
   },
   "outputs": [
    {
     "data": {
      "text/html": [
       "<script>requirejs.config({paths: { 'plotly': ['https://cdn.plot.ly/plotly-latest.min']},});if(!window.Plotly) {{require(['plotly'],function(plotly) {window.Plotly=plotly;});}}</script>"
      ],
      "text/vnd.plotly.v1+html": [
       "<script>requirejs.config({paths: { 'plotly': ['https://cdn.plot.ly/plotly-latest.min']},});if(!window.Plotly) {{require(['plotly'],function(plotly) {window.Plotly=plotly;});}}</script>"
      ]
     },
     "metadata": {},
     "output_type": "display_data"
    }
   ],
   "source": [
    "import numpy as np # linear algebra\n",
    "import pandas as pd # data processing, CSV file I/O (e.g. pd.read_csv)\n",
    "import os\n",
    "import gc\n",
    "\n",
    "import keras as k\n",
    "from keras.models import Sequential\n",
    "from keras.layers import Dense, Dropout, Flatten\n",
    "from keras.layers import Conv2D, MaxPooling2D\n",
    "\n",
    "import cv2\n",
    "from tqdm import tqdm\n",
    "\n",
    "from multiprocessing import Pool, cpu_count\n",
    "\n",
    "from subprocess import check_output\n",
    "import plotly.offline as py\n",
    "py.init_notebook_mode(connected=True)\n",
    "import plotly.graph_objs as go\n",
    "import plotly.tools as tls\n",
    "from sklearn.model_selection import train_test_split\n",
    "from sklearn.metrics import fbeta_score\n",
    "from keras.callbacks import LambdaCallback, EarlyStopping\n",
    "import matplotlib.pyplot as plt"
   ]
  },
  {
   "cell_type": "code",
   "execution_count": 89,
   "metadata": {
    "collapsed": false
   },
   "outputs": [
    {
     "name": "stdout",
     "output_type": "stream",
     "text": [
      "Number of records in Training set 40479\n"
     ]
    },
    {
     "data": {
      "text/html": [
       "<div>\n",
       "<table border=\"1\" class=\"dataframe\">\n",
       "  <thead>\n",
       "    <tr style=\"text-align: right;\">\n",
       "      <th></th>\n",
       "      <th>image_name</th>\n",
       "      <th>tags</th>\n",
       "    </tr>\n",
       "  </thead>\n",
       "  <tbody>\n",
       "    <tr>\n",
       "      <th>0</th>\n",
       "      <td>train_0</td>\n",
       "      <td>haze primary</td>\n",
       "    </tr>\n",
       "    <tr>\n",
       "      <th>1</th>\n",
       "      <td>train_1</td>\n",
       "      <td>agriculture clear primary water</td>\n",
       "    </tr>\n",
       "  </tbody>\n",
       "</table>\n",
       "</div>"
      ],
      "text/plain": [
       "  image_name                             tags\n",
       "0    train_0                     haze primary\n",
       "1    train_1  agriculture clear primary water"
      ]
     },
     "execution_count": 89,
     "metadata": {},
     "output_type": "execute_result"
    }
   ],
   "source": [
    "df_train = pd.read_csv('inputs/train_v2.csv')\n",
    "print(\"Number of records in Training set %d\" % len(df_train))\n",
    "df_train.head(2)"
   ]
  },
  {
   "cell_type": "code",
   "execution_count": 90,
   "metadata": {
    "collapsed": false
   },
   "outputs": [
    {
     "name": "stdout",
     "output_type": "stream",
     "text": [
      "['clear', 'blooming', 'selective_logging', 'habitation', 'cultivation', 'conventional_mine', 'artisinal_mine', 'agriculture', 'haze', 'partly_cloudy', 'cloudy', 'primary', 'bare_ground', 'road', 'water', 'blow_down', 'slash_burn']\n"
     ]
    }
   ],
   "source": [
    "flatten = lambda l: [item for sublist in l for item in sublist]\n",
    "labels = list(set(flatten([l.split(' ') for l in df_train['tags'].values])))\n",
    "\n",
    "label_map = {l: i for i, l in enumerate(labels)}\n",
    "inv_label_map = {i: l for l, i in label_map.items()}\n",
    "print(labels)"
   ]
  },
  {
   "cell_type": "code",
   "execution_count": 91,
   "metadata": {
    "collapsed": false
   },
   "outputs": [
    {
     "name": "stderr",
     "output_type": "stream",
     "text": [
      "100%|█████████████████████████████████████████████████████████████████████████████████████████████████████████████████████| 1000/1000 [00:01<00:00, 578.32it/s]\n"
     ]
    },
    {
     "name": "stdout",
     "output_type": "stream",
     "text": [
      "(1000, 32, 32, 3)\n",
      "(1000, 17)\n"
     ]
    }
   ],
   "source": [
    "input_dir = 'inputs'\n",
    "subset_size = 1000\n",
    "img_size = 32\n",
    "np.random.seed(0)\n",
    "X = []\n",
    "Y = []\n",
    "for f, tags in tqdm(df_train.sample(subset_size).values, miniters=1000):\n",
    "    f_name = '{}.jpg'.format(f)\n",
    "#     print(os.path.join(input_dir, 'train-jpg', f_name))\n",
    "    img = cv2.imread(os.path.join(input_dir, 'train-jpg', f_name))\n",
    "    targets = np.zeros(17)\n",
    "    for t in tags.split(' '):\n",
    "        targets[label_map[t]] = 1 \n",
    "    X.append(cv2.resize(img, (img_size, img_size)))\n",
    "    Y.append(targets)\n",
    "\n",
    "X = np.array(X, np.float16) / 255.\n",
    "Y = np.array(Y, np.uint8)\n",
    "\n",
    "print(X.shape)\n",
    "print(Y.shape)"
   ]
  },
  {
   "cell_type": "code",
   "execution_count": 92,
   "metadata": {
    "collapsed": true
   },
   "outputs": [],
   "source": [
    "def to_tagging(one_hot_data):\n",
    "    res = pd.DataFrame(index=range(len(one_hot_data)), columns=['tags'])\n",
    "    for j in range(len(one_hot_data)):\n",
    "        tags = []\n",
    "        for i in range(17):\n",
    "            if one_hot_data[j][i] == 1:\n",
    "                tags.append(inv_label_map[i])\n",
    "        res['tags'][j] = ' '.join(sorted(tags))\n",
    "    return res"
   ]
  },
  {
   "cell_type": "code",
   "execution_count": 93,
   "metadata": {
    "collapsed": true
   },
   "outputs": [],
   "source": [
    "def plot_tags_distribution(df_with_tags):\n",
    "    labels_destribution = df_with_tags['tags'].apply(lambda x: x.split(' '))\n",
    "    from collections import Counter, defaultdict\n",
    "    counts = defaultdict(int)\n",
    "    for l in labels_destribution:\n",
    "        for l2 in l:\n",
    "            counts[l2] += 1\n",
    "\n",
    "    data=[go.Bar(x=list(counts.keys()), y=list(counts.values()))]\n",
    "    layout=dict(height=800, width=800, title='Distribution of training labels')\n",
    "    fig=dict(data=data, layout=layout)\n",
    "    py.iplot(data, filename='train-label-dist')"
   ]
  },
  {
   "cell_type": "code",
   "execution_count": 94,
   "metadata": {
    "collapsed": false
   },
   "outputs": [
    {
     "data": {
      "application/vnd.plotly.v1+json": {
       "data": [
        {
         "type": "bar",
         "x": [
          "clear",
          "blooming",
          "selective_logging",
          "habitation",
          "cultivation",
          "artisinal_mine",
          "partly_cloudy",
          "haze",
          "agriculture",
          "cloudy",
          "bare_ground",
          "primary",
          "road",
          "water",
          "blow_down",
          "conventional_mine",
          "slash_burn"
         ],
         "y": [
          28431,
          332,
          340,
          3660,
          4547,
          339,
          7261,
          2697,
          12315,
          2089,
          862,
          37513,
          8071,
          7411,
          101,
          100,
          209
         ]
        }
       ],
       "layout": {}
      },
      "text/html": [
       "<div id=\"39c95ccf-f1ab-43ae-98b4-6066b0c25e61\" style=\"height: 525px; width: 100%;\" class=\"plotly-graph-div\"></div><script type=\"text/javascript\">require([\"plotly\"], function(Plotly) { window.PLOTLYENV=window.PLOTLYENV || {};window.PLOTLYENV.BASE_URL=\"https://plot.ly\";Plotly.newPlot(\"39c95ccf-f1ab-43ae-98b4-6066b0c25e61\", [{\"x\": [\"clear\", \"blooming\", \"selective_logging\", \"habitation\", \"cultivation\", \"artisinal_mine\", \"partly_cloudy\", \"haze\", \"agriculture\", \"cloudy\", \"bare_ground\", \"primary\", \"road\", \"water\", \"blow_down\", \"conventional_mine\", \"slash_burn\"], \"type\": \"bar\", \"y\": [28431, 332, 340, 3660, 4547, 339, 7261, 2697, 12315, 2089, 862, 37513, 8071, 7411, 101, 100, 209]}], {}, {\"linkText\": \"Export to plot.ly\", \"showLink\": true})});</script>"
      ],
      "text/vnd.plotly.v1+html": [
       "<div id=\"39c95ccf-f1ab-43ae-98b4-6066b0c25e61\" style=\"height: 525px; width: 100%;\" class=\"plotly-graph-div\"></div><script type=\"text/javascript\">require([\"plotly\"], function(Plotly) { window.PLOTLYENV=window.PLOTLYENV || {};window.PLOTLYENV.BASE_URL=\"https://plot.ly\";Plotly.newPlot(\"39c95ccf-f1ab-43ae-98b4-6066b0c25e61\", [{\"x\": [\"clear\", \"blooming\", \"selective_logging\", \"habitation\", \"cultivation\", \"artisinal_mine\", \"partly_cloudy\", \"haze\", \"agriculture\", \"cloudy\", \"bare_ground\", \"primary\", \"road\", \"water\", \"blow_down\", \"conventional_mine\", \"slash_burn\"], \"type\": \"bar\", \"y\": [28431, 332, 340, 3660, 4547, 339, 7261, 2697, 12315, 2089, 862, 37513, 8071, 7411, 101, 100, 209]}], {}, {\"linkText\": \"Export to plot.ly\", \"showLink\": true})});</script>"
      ]
     },
     "metadata": {},
     "output_type": "display_data"
    }
   ],
   "source": [
    "plot_tags_distribution(df_train)"
   ]
  },
  {
   "cell_type": "code",
   "execution_count": 95,
   "metadata": {
    "collapsed": false
   },
   "outputs": [
    {
     "data": {
      "application/vnd.plotly.v1+json": {
       "data": [
        {
         "type": "bar",
         "x": [
          "clear",
          "blooming",
          "selective_logging",
          "habitation",
          "cultivation",
          "artisinal_mine",
          "partly_cloudy",
          "haze",
          "road",
          "cloudy",
          "agriculture",
          "bare_ground",
          "water",
          "blow_down",
          "slash_burn",
          "conventional_mine",
          "primary"
         ],
         "y": [
          698,
          4,
          9,
          97,
          122,
          2,
          179,
          78,
          214,
          45,
          318,
          20,
          171,
          5,
          7,
          5,
          936
         ]
        }
       ],
       "layout": {}
      },
      "text/html": [
       "<div id=\"2d0bd871-9bee-423b-84f6-5eac356bd992\" style=\"height: 525px; width: 100%;\" class=\"plotly-graph-div\"></div><script type=\"text/javascript\">require([\"plotly\"], function(Plotly) { window.PLOTLYENV=window.PLOTLYENV || {};window.PLOTLYENV.BASE_URL=\"https://plot.ly\";Plotly.newPlot(\"2d0bd871-9bee-423b-84f6-5eac356bd992\", [{\"x\": [\"clear\", \"blooming\", \"selective_logging\", \"habitation\", \"cultivation\", \"artisinal_mine\", \"partly_cloudy\", \"haze\", \"road\", \"cloudy\", \"agriculture\", \"bare_ground\", \"water\", \"blow_down\", \"slash_burn\", \"conventional_mine\", \"primary\"], \"type\": \"bar\", \"y\": [698, 4, 9, 97, 122, 2, 179, 78, 214, 45, 318, 20, 171, 5, 7, 5, 936]}], {}, {\"linkText\": \"Export to plot.ly\", \"showLink\": true})});</script>"
      ],
      "text/vnd.plotly.v1+html": [
       "<div id=\"2d0bd871-9bee-423b-84f6-5eac356bd992\" style=\"height: 525px; width: 100%;\" class=\"plotly-graph-div\"></div><script type=\"text/javascript\">require([\"plotly\"], function(Plotly) { window.PLOTLYENV=window.PLOTLYENV || {};window.PLOTLYENV.BASE_URL=\"https://plot.ly\";Plotly.newPlot(\"2d0bd871-9bee-423b-84f6-5eac356bd992\", [{\"x\": [\"clear\", \"blooming\", \"selective_logging\", \"habitation\", \"cultivation\", \"artisinal_mine\", \"partly_cloudy\", \"haze\", \"road\", \"cloudy\", \"agriculture\", \"bare_ground\", \"water\", \"blow_down\", \"slash_burn\", \"conventional_mine\", \"primary\"], \"type\": \"bar\", \"y\": [698, 4, 9, 97, 122, 2, 179, 78, 214, 45, 318, 20, 171, 5, 7, 5, 936]}], {}, {\"linkText\": \"Export to plot.ly\", \"showLink\": true})});</script>"
      ]
     },
     "metadata": {},
     "output_type": "display_data"
    }
   ],
   "source": [
    "df_train_reduced = to_tagging(Y)\n",
    "plot_tags_distribution(df_train_reduced)"
   ]
  },
  {
   "cell_type": "code",
   "execution_count": 96,
   "metadata": {
    "collapsed": false
   },
   "outputs": [],
   "source": [
    "X_train, X_valid, Y_train, Y_valid = train_test_split(X, Y, test_size=0.2)"
   ]
  },
  {
   "cell_type": "code",
   "execution_count": 113,
   "metadata": {
    "collapsed": false
   },
   "outputs": [
    {
     "name": "stdout",
     "output_type": "stream",
     "text": [
      "_________________________________________________________________\n",
      "Layer (type)                 Output Shape              Param #   \n",
      "=================================================================\n",
      "conv2d_17 (Conv2D)           (None, 15, 15, 32)        896       \n",
      "_________________________________________________________________\n",
      "conv2d_18 (Conv2D)           (None, 7, 7, 64)          8256      \n",
      "_________________________________________________________________\n",
      "max_pooling2d_9 (MaxPooling2 (None, 3, 3, 64)          0         \n",
      "_________________________________________________________________\n",
      "dropout_17 (Dropout)         (None, 3, 3, 64)          0         \n",
      "_________________________________________________________________\n",
      "flatten_9 (Flatten)          (None, 576)               0         \n",
      "_________________________________________________________________\n",
      "dense_19 (Dense)             (None, 64)                36928     \n",
      "_________________________________________________________________\n",
      "dropout_18 (Dropout)         (None, 64)                0         \n",
      "_________________________________________________________________\n",
      "dense_20 (Dense)             (None, 17)                1105      \n",
      "_________________________________________________________________\n",
      "dense_21 (Dense)             (None, 17)                306       \n",
      "=================================================================\n",
      "Total params: 47,491\n",
      "Trainable params: 47,491\n",
      "Non-trainable params: 0\n",
      "_________________________________________________________________\n"
     ]
    }
   ],
   "source": [
    "# Create small model for reference\n",
    "model = Sequential()\n",
    "model.add(Conv2D(32, (3, 3), activation='relu', strides=2, input_shape=(32, 32, 3)))\n",
    "model.add(Conv2D(64, (2, 2), strides=2, activation='relu'))\n",
    "model.add(MaxPooling2D(pool_size=(2, 2)))\n",
    "model.add(Dropout(0.25))\n",
    "model.add(Flatten())\n",
    "model.add(Dense(64, activation='relu'))\n",
    "model.add(Dropout(0.25))\n",
    "model.add(Dense(17, activation='relu'))\n",
    "model.add(Dense(17, activation='sigmoid'))\n",
    "\n",
    "model.compile(loss='binary_crossentropy', # We NEED binary here, since categorical_crossentropy l1 norms the output before calculating loss.\n",
    "              optimizer='adam',\n",
    "              metrics=['accuracy'])\n",
    "model.summary()"
   ]
  },
  {
   "cell_type": "code",
   "execution_count": 98,
   "metadata": {
    "collapsed": true
   },
   "outputs": [],
   "source": [
    "def my_callback_func(batch,logs):\n",
    "    p_valid = model.predict(X_valid, batch_size=4,verbose=2)\n",
    "    score = fbeta_score(Y_valid, np.array(p_valid) > 0.2, beta=2, average='samples')\n",
    "    fbeta_scores.append(score)"
   ]
  },
  {
   "cell_type": "code",
   "execution_count": 114,
   "metadata": {
    "collapsed": false
   },
   "outputs": [
    {
     "name": "stdout",
     "output_type": "stream",
     "text": [
      "Train on 800 samples, validate on 200 samples\n",
      "Epoch 1/40\n",
      "1s - loss: 0.3772 - acc: 0.8568 - val_loss: 0.2513 - val_acc: 0.9041\n",
      "Epoch 2/40\n",
      "0s - loss: 0.2565 - acc: 0.9023 - val_loss: 0.2546 - val_acc: 0.9050\n",
      "Epoch 3/40\n",
      "0s - loss: 0.2524 - acc: 0.9055 - val_loss: 0.2504 - val_acc: 0.9082\n",
      "Epoch 4/40\n",
      "0s - loss: 0.2487 - acc: 0.9071 - val_loss: 0.2440 - val_acc: 0.9062\n",
      "Epoch 5/40\n",
      "0s - loss: 0.2458 - acc: 0.9071 - val_loss: 0.2368 - val_acc: 0.9076\n",
      "Epoch 6/40\n",
      "0s - loss: 0.2398 - acc: 0.9076 - val_loss: 0.2328 - val_acc: 0.9068\n",
      "Epoch 7/40\n",
      "0s - loss: 0.2400 - acc: 0.9059 - val_loss: 0.2407 - val_acc: 0.9038\n",
      "Epoch 8/40\n",
      "0s - loss: 0.2362 - acc: 0.9076 - val_loss: 0.2319 - val_acc: 0.9074\n",
      "Epoch 9/40\n",
      "0s - loss: 0.2359 - acc: 0.9081 - val_loss: 0.2281 - val_acc: 0.9115\n",
      "Epoch 10/40\n",
      "0s - loss: 0.2341 - acc: 0.9086 - val_loss: 0.2291 - val_acc: 0.9079\n",
      "Epoch 11/40\n",
      "0s - loss: 0.2332 - acc: 0.9107 - val_loss: 0.2265 - val_acc: 0.9076\n",
      "Epoch 12/40\n",
      "0s - loss: 0.2325 - acc: 0.9086 - val_loss: 0.2221 - val_acc: 0.9112\n",
      "Epoch 13/40\n",
      "0s - loss: 0.2303 - acc: 0.9099 - val_loss: 0.2208 - val_acc: 0.9153\n",
      "Epoch 14/40\n",
      "0s - loss: 0.2254 - acc: 0.9115 - val_loss: 0.2214 - val_acc: 0.9179\n",
      "Epoch 15/40\n",
      "0s - loss: 0.2259 - acc: 0.9126 - val_loss: 0.2224 - val_acc: 0.9118\n",
      "Epoch 16/40\n",
      "0s - loss: 0.2265 - acc: 0.9131 - val_loss: 0.2159 - val_acc: 0.9141\n",
      "Epoch 17/40\n",
      "0s - loss: 0.2222 - acc: 0.9147 - val_loss: 0.2241 - val_acc: 0.9100\n",
      "Epoch 18/40\n",
      "0s - loss: 0.2251 - acc: 0.9119 - val_loss: 0.2152 - val_acc: 0.9165\n",
      "Epoch 19/40\n",
      "0s - loss: 0.2249 - acc: 0.9139 - val_loss: 0.2210 - val_acc: 0.9129\n",
      "Epoch 20/40\n",
      "0s - loss: 0.2182 - acc: 0.9136 - val_loss: 0.2152 - val_acc: 0.9174\n",
      "Epoch 21/40\n",
      "0s - loss: 0.2200 - acc: 0.9136 - val_loss: 0.2102 - val_acc: 0.9176\n",
      "Epoch 22/40\n",
      "0s - loss: 0.2195 - acc: 0.9147 - val_loss: 0.2218 - val_acc: 0.9156\n",
      "Epoch 23/40\n",
      "0s - loss: 0.2188 - acc: 0.9131 - val_loss: 0.2409 - val_acc: 0.9050\n",
      "Epoch 24/40\n",
      "0s - loss: 0.2210 - acc: 0.9143 - val_loss: 0.2095 - val_acc: 0.9203\n",
      "Epoch 25/40\n",
      "0s - loss: 0.2157 - acc: 0.9151 - val_loss: 0.2125 - val_acc: 0.9165\n",
      "Epoch 26/40\n",
      "0s - loss: 0.2177 - acc: 0.9148 - val_loss: 0.2068 - val_acc: 0.9209\n",
      "Epoch 27/40\n",
      "0s - loss: 0.2160 - acc: 0.9160 - val_loss: 0.2110 - val_acc: 0.9179\n",
      "Epoch 28/40\n",
      "0s - loss: 0.2132 - acc: 0.9157 - val_loss: 0.2074 - val_acc: 0.9200\n",
      "Epoch 29/40\n",
      "0s - loss: 0.2118 - acc: 0.9174 - val_loss: 0.2028 - val_acc: 0.9221\n",
      "Epoch 30/40\n",
      "0s - loss: 0.2132 - acc: 0.9165 - val_loss: 0.2102 - val_acc: 0.9203\n",
      "Epoch 31/40\n",
      "0s - loss: 0.2103 - acc: 0.9174 - val_loss: 0.2139 - val_acc: 0.9165\n",
      "Epoch 32/40\n",
      "0s - loss: 0.2092 - acc: 0.9176 - val_loss: 0.2044 - val_acc: 0.9209\n",
      "F-beta score 0.783328\n"
     ]
    }
   ],
   "source": [
    "np.random.seed(0)\n",
    "fbeta_scores = []\n",
    "my_callback = LambdaCallback(on_epoch_end=lambda batch,logs: my_callback_func(batch,logs))\n",
    "early_stop = EarlyStopping(monitor='val_loss', patience=2, verbose=0)\n",
    "callbacks = [my_callback, early_stop]\n",
    "\n",
    "batch_size = 4\n",
    "epochs = 40\n",
    "history_callback = model.fit(X_train, Y_train, batch_size=batch_size, epochs=epochs, verbose=2,\n",
    "          validation_data=(X_valid, Y_valid), callbacks=callbacks)\n",
    "\n",
    "p_valid = model.predict(X_valid, batch_size=batch_size,verbose=2)\n",
    "p_valid = (np.array(p_valid) > 0.2).astype(int)\n",
    "score = fbeta_score(Y_valid, p_valid, beta=2, average='samples')\n",
    "print(\"F-beta score %f\" % score)"
   ]
  },
  {
   "cell_type": "code",
   "execution_count": 116,
   "metadata": {
    "collapsed": false
   },
   "outputs": [
    {
     "data": {
      "image/png": "[encoded data removed]",
      "text/plain": [
       "<matplotlib.figure.Figure at 0x1f927547390>"
      ]
     },
     "metadata": {},
     "output_type": "display_data"
    }
   ],
   "source": [
    "plt.figure(figsize=(12, 4))\n",
    "plt.subplot(1, 2, 1)\n",
    "plt.plot(history_callback.history['loss'])\n",
    "plt.plot(history_callback.history['val_loss'])\n",
    "plt.legend(labels=['loss', 'val_loss'])\n",
    "plt.subplot(1, 2, 2)\n",
    "plt.plot(fbeta_scores)\n",
    "plt.legend(labels=['val_fbeta'])\n",
    "plt.show()"
   ]
  },
  {
   "cell_type": "code",
   "execution_count": 117,
   "metadata": {
    "collapsed": false
   },
   "outputs": [
    {
     "data": {
      "application/vnd.plotly.v1+json": {
       "data": [
        {
         "type": "bar",
         "x": [
          "clear",
          "blooming",
          "selective_logging",
          "habitation",
          "cultivation",
          "artisinal_mine",
          "agriculture",
          "haze",
          "bare_ground",
          "cloudy",
          "partly_cloudy",
          "primary",
          "road",
          "water",
          "blow_down",
          "conventional_mine",
          "slash_burn"
         ],
         "y": [
          556,
          3,
          6,
          80,
          98,
          1,
          253,
          69,
          16,
          33,
          142,
          750,
          170,
          137,
          4,
          4,
          6
         ]
        }
       ],
       "layout": {}
      },
      "text/html": [
       "<div id=\"ddfc93b5-e173-4671-b6e9-cb00f04645e5\" style=\"height: 525px; width: 100%;\" class=\"plotly-graph-div\"></div><script type=\"text/javascript\">require([\"plotly\"], function(Plotly) { window.PLOTLYENV=window.PLOTLYENV || {};window.PLOTLYENV.BASE_URL=\"https://plot.ly\";Plotly.newPlot(\"ddfc93b5-e173-4671-b6e9-cb00f04645e5\", [{\"x\": [\"clear\", \"blooming\", \"selective_logging\", \"habitation\", \"cultivation\", \"artisinal_mine\", \"agriculture\", \"haze\", \"bare_ground\", \"cloudy\", \"partly_cloudy\", \"primary\", \"road\", \"water\", \"blow_down\", \"conventional_mine\", \"slash_burn\"], \"type\": \"bar\", \"y\": [556, 3, 6, 80, 98, 1, 253, 69, 16, 33, 142, 750, 170, 137, 4, 4, 6]}], {}, {\"linkText\": \"Export to plot.ly\", \"showLink\": true})});</script>"
      ],
      "text/vnd.plotly.v1+html": [
       "<div id=\"ddfc93b5-e173-4671-b6e9-cb00f04645e5\" style=\"height: 525px; width: 100%;\" class=\"plotly-graph-div\"></div><script type=\"text/javascript\">require([\"plotly\"], function(Plotly) { window.PLOTLYENV=window.PLOTLYENV || {};window.PLOTLYENV.BASE_URL=\"https://plot.ly\";Plotly.newPlot(\"ddfc93b5-e173-4671-b6e9-cb00f04645e5\", [{\"x\": [\"clear\", \"blooming\", \"selective_logging\", \"habitation\", \"cultivation\", \"artisinal_mine\", \"agriculture\", \"haze\", \"bare_ground\", \"cloudy\", \"partly_cloudy\", \"primary\", \"road\", \"water\", \"blow_down\", \"conventional_mine\", \"slash_burn\"], \"type\": \"bar\", \"y\": [556, 3, 6, 80, 98, 1, 253, 69, 16, 33, 142, 750, 170, 137, 4, 4, 6]}], {}, {\"linkText\": \"Export to plot.ly\", \"showLink\": true})});</script>"
      ]
     },
     "metadata": {},
     "output_type": "display_data"
    }
   ],
   "source": [
    "plot_tags_distribution(to_tagging(Y_train))"
   ]
  },
  {
   "cell_type": "code",
   "execution_count": 118,
   "metadata": {
    "collapsed": false
   },
   "outputs": [
    {
     "data": {
      "application/vnd.plotly.v1+json": {
       "data": [
        {
         "type": "bar",
         "x": [
          "clear",
          "blooming",
          "selective_logging",
          "habitation",
          "cultivation",
          "artisinal_mine",
          "partly_cloudy",
          "haze",
          "agriculture",
          "cloudy",
          "bare_ground",
          "primary",
          "road",
          "water",
          "blow_down",
          "conventional_mine",
          "slash_burn"
         ],
         "y": [
          142,
          1,
          3,
          17,
          24,
          1,
          37,
          9,
          65,
          12,
          4,
          186,
          44,
          34,
          1,
          1,
          1
         ]
        }
       ],
       "layout": {}
      },
      "text/html": [
       "<div id=\"5a13bca5-060c-4b47-9675-7ae519ef10f9\" style=\"height: 525px; width: 100%;\" class=\"plotly-graph-div\"></div><script type=\"text/javascript\">require([\"plotly\"], function(Plotly) { window.PLOTLYENV=window.PLOTLYENV || {};window.PLOTLYENV.BASE_URL=\"https://plot.ly\";Plotly.newPlot(\"5a13bca5-060c-4b47-9675-7ae519ef10f9\", [{\"x\": [\"clear\", \"blooming\", \"selective_logging\", \"habitation\", \"cultivation\", \"artisinal_mine\", \"partly_cloudy\", \"haze\", \"agriculture\", \"cloudy\", \"bare_ground\", \"primary\", \"road\", \"water\", \"blow_down\", \"conventional_mine\", \"slash_burn\"], \"type\": \"bar\", \"y\": [142, 1, 3, 17, 24, 1, 37, 9, 65, 12, 4, 186, 44, 34, 1, 1, 1]}], {}, {\"linkText\": \"Export to plot.ly\", \"showLink\": true})});</script>"
      ],
      "text/vnd.plotly.v1+html": [
       "<div id=\"5a13bca5-060c-4b47-9675-7ae519ef10f9\" style=\"height: 525px; width: 100%;\" class=\"plotly-graph-div\"></div><script type=\"text/javascript\">require([\"plotly\"], function(Plotly) { window.PLOTLYENV=window.PLOTLYENV || {};window.PLOTLYENV.BASE_URL=\"https://plot.ly\";Plotly.newPlot(\"5a13bca5-060c-4b47-9675-7ae519ef10f9\", [{\"x\": [\"clear\", \"blooming\", \"selective_logging\", \"habitation\", \"cultivation\", \"artisinal_mine\", \"partly_cloudy\", \"haze\", \"agriculture\", \"cloudy\", \"bare_ground\", \"primary\", \"road\", \"water\", \"blow_down\", \"conventional_mine\", \"slash_burn\"], \"type\": \"bar\", \"y\": [142, 1, 3, 17, 24, 1, 37, 9, 65, 12, 4, 186, 44, 34, 1, 1, 1]}], {}, {\"linkText\": \"Export to plot.ly\", \"showLink\": true})});</script>"
      ]
     },
     "metadata": {},
     "output_type": "display_data"
    }
   ],
   "source": [
    "plot_tags_distribution(to_tagging(Y_valid))"
   ]
  },
  {
   "cell_type": "code",
   "execution_count": 121,
   "metadata": {
    "collapsed": true
   },
   "outputs": [],
   "source": [
    "y_predicted = model.predict(X_valid, batch_size=4)"
   ]
  },
  {
   "cell_type": "code",
   "execution_count": 152,
   "metadata": {
    "collapsed": false
   },
   "outputs": [
    {
     "name": "stderr",
     "output_type": "stream",
     "text": [
      "J:\\Anaconda3_4.3.0_Python3.6\\envs\\tensorflow\\lib\\site-packages\\sklearn\\metrics\\classification.py:1113: UndefinedMetricWarning:\n",
      "\n",
      "F-score is ill-defined and being set to 0.0 due to no predicted samples.\n",
      "\n"
     ]
    }
   ],
   "source": [
    "scores = np.zeros(17)\n",
    "rat = np.zeros(17)\n",
    "step = 0.05\n",
    "n = int(1/step)\n",
    "for j in range(17):\n",
    "    r = step\n",
    "    for i in range(n):\n",
    "        score = fbeta_score(Y_valid[:,j], (y_predicted[:,j] > r).astype(int), beta=2)\n",
    "        if score > scores[j]:\n",
    "            scores[j] = score\n",
    "            rat[j] = r\n",
    "        r+=step"
   ]
  },
  {
   "cell_type": "code",
   "execution_count": 160,
   "metadata": {
    "collapsed": false
   },
   "outputs": [
    {
     "data": {
      "text/plain": [
       "array([ 0.5 ,  0.05,  0.05,  0.15,  0.05,  0.05,  0.05,  0.15,  0.25,\n",
       "        0.1 ,  0.05,  0.5 ,  0.05,  0.1 ,  0.1 ,  0.05,  0.05])"
      ]
     },
     "execution_count": 160,
     "metadata": {},
     "output_type": "execute_result"
    }
   ],
   "source": [
    "rat[rat == 0] = step\n",
    "rat"
   ]
  },
  {
   "cell_type": "code",
   "execution_count": 154,
   "metadata": {
    "collapsed": false
   },
   "outputs": [
    {
     "data": {
      "text/plain": [
       "array([ 0.94722598,  0.        ,  0.        ,  0.54166667,  0.4020979 ,\n",
       "        0.        ,  0.        ,  0.78680203,  0.78431373,  0.61023622,\n",
       "        0.70422535,  0.99252935,  0.        ,  0.65602837,  0.52631579,\n",
       "        0.        ,  0.        ])"
      ]
     },
     "execution_count": 154,
     "metadata": {},
     "output_type": "execute_result"
    }
   ],
   "source": [
    "scores"
   ]
  },
  {
   "cell_type": "code",
   "execution_count": 166,
   "metadata": {
    "collapsed": false
   },
   "outputs": [
    {
     "name": "stdout",
     "output_type": "stream",
     "text": [
      "0.783328151254\n",
      "0.772245911068\n"
     ]
    }
   ],
   "source": [
    "avg = 'samples'\n",
    "print(fbeta_score(Y_valid, (y_predicted>0.2).astype(int), beta=2, average=avg))\n",
    "print(fbeta_score(Y_valid, (y_predicted>rat).astype(int), beta=2, average=avg))"
   ]
  },
  {
   "cell_type": "code",
   "execution_count": 119,
   "metadata": {
    "collapsed": false
   },
   "outputs": [
    {
     "name": "stdout",
     "output_type": "stream",
     "text": [
      "clear: 0.939153\n"
     ]
    },
    {
     "name": "stderr",
     "output_type": "stream",
     "text": [
      "J:\\Anaconda3_4.3.0_Python3.6\\envs\\tensorflow\\lib\\site-packages\\sklearn\\metrics\\classification.py:1113: UndefinedMetricWarning:\n",
      "\n",
      "F-score is ill-defined and being set to 0.0 due to no predicted samples.\n",
      "\n"
     ]
    },
    {
     "name": "stdout",
     "output_type": "stream",
     "text": [
      "blooming: 0.000000\n",
      "selective_logging: 0.000000\n",
      "habitation: 0.370370\n",
      "cultivation: 0.051546\n",
      "conventional_mine: 0.000000\n",
      "artisinal_mine: 0.000000\n",
      "agriculture: 0.745257\n",
      "haze: 0.689655\n",
      "partly_cloudy: 0.563380\n",
      "cloudy: 0.701754\n",
      "primary: 0.985169\n",
      "bare_ground: 0.000000\n",
      "road: 0.640000\n",
      "water: 0.292553\n",
      "blow_down: 0.000000\n",
      "slash_burn: 0.000000\n"
     ]
    }
   ],
   "source": [
    "for i in range(17):\n",
    "    print(\"%s: %f\" % (inv_label_map[i], fbeta_score(Y_valid[:,i], p_valid[:,i], beta=2)))"
   ]
  },
  {
   "cell_type": "code",
   "execution_count": 120,
   "metadata": {
    "collapsed": false
   },
   "outputs": [
    {
     "data": {
      "image/png": "[encoded data removed]",
      "text/plain": [
       "<matplotlib.figure.Figure at 0x1f927513160>"
      ]
     },
     "metadata": {},
     "output_type": "display_data"
    },
    {
     "data": {
      "image/png": "[encoded data removed]",
      "text/plain": [
       "<matplotlib.figure.Figure at 0x1f9231c49b0>"
      ]
     },
     "metadata": {},
     "output_type": "display_data"
    },
    {
     "data": {
      "image/png": "[encoded data removed]",
      "text/plain": [
       "<matplotlib.figure.Figure at 0x1f9275e2c18>"
      ]
     },
     "metadata": {},
     "output_type": "display_data"
    },
    {
     "data": {
      "image/png": "[encoded data removed]",
      "text/plain": [
       "<matplotlib.figure.Figure at 0x1f9275ee860>"
      ]
     },
     "metadata": {},
     "output_type": "display_data"
    },
    {
     "data": {
      "image/png": "[encoded data removed]",
      "text/plain": [
       "<matplotlib.figure.Figure at 0x1f9275b54a8>"
      ]
     },
     "metadata": {},
     "output_type": "display_data"
    },
    {
     "data": {
      "image/png": "[encoded data removed]",
      "text/plain": [
       "<matplotlib.figure.Figure at 0x1f9276f7390>"
      ]
     },
     "metadata": {},
     "output_type": "display_data"
    },
    {
     "data": {
      "image/png": "[encoded data removed]",
      "text/plain": [
       "<matplotlib.figure.Figure at 0x1f927660630>"
      ]
     },
     "metadata": {},
     "output_type": "display_data"
    },
    {
     "data": {
      "image/png": "[encoded data removed]",
      "text/plain": [
       "<matplotlib.figure.Figure at 0x1f9276b3198>"
      ]
     },
     "metadata": {},
     "output_type": "display_data"
    },
    {
     "data": {
      "image/png": "[encoded data removed]",
      "text/plain": [
       "<matplotlib.figure.Figure at 0x1f928710a90>"
      ]
     },
     "metadata": {},
     "output_type": "display_data"
    },
    {
     "data": {
      "image/png": "[encoded data removed]",
      "text/plain": [
       "<matplotlib.figure.Figure at 0x1f928770e48>"
      ]
     },
     "metadata": {},
     "output_type": "display_data"
    },
    {
     "data": {
      "image/png": "[encoded data removed]",
      "text/plain": [
       "<matplotlib.figure.Figure at 0x1f9287d1550>"
      ]
     },
     "metadata": {},
     "output_type": "display_data"
    },
    {
     "data": {
      "image/png": "[encoded data removed]",
      "text/plain": [
       "<matplotlib.figure.Figure at 0x1f92881c908>"
      ]
     },
     "metadata": {},
     "output_type": "display_data"
    },
    {
     "data": {
      "image/png": "[encoded data removed]",
      "text/plain": [
       "<matplotlib.figure.Figure at 0x1f928880c88>"
      ]
     },
     "metadata": {},
     "output_type": "display_data"
    },
    {
     "data": {
      "image/png": "[encoded data removed]",
      "text/plain": [
       "<matplotlib.figure.Figure at 0x1f9288d9828>"
      ]
     },
     "metadata": {},
     "output_type": "display_data"
    },
    {
     "data": {
      "image/png": "[encoded data removed]",
      "text/plain": [
       "<matplotlib.figure.Figure at 0x1f928939e10>"
      ]
     },
     "metadata": {},
     "output_type": "display_data"
    },
    {
     "data": {
      "image/png": "[encoded data removed]",
      "text/plain": [
       "<matplotlib.figure.Figure at 0x1f928995f98>"
      ]
     },
     "metadata": {},
     "output_type": "display_data"
    },
    {
     "data": {
      "image/png": "[encoded data removed]",
      "text/plain": [
       "<matplotlib.figure.Figure at 0x1f9289edb70>"
      ]
     },
     "metadata": {},
     "output_type": "display_data"
    }
   ],
   "source": [
    "from mlxtend.evaluate import confusion_matrix\n",
    "from mlxtend.plotting import plot_confusion_matrix\n",
    "for i in range(17):\n",
    "    cm = confusion_matrix(y_target=Y_valid[:,i], \n",
    "                      y_predicted=p_valid[:,i], binary=False)\n",
    "    _, ax = plot_confusion_matrix(conf_mat=cm)\n",
    "    ax.set_title(inv_label_map[i])\n",
    "plt.show()"
   ]
  }
 ],
 "metadata": {
  "kernelspec": {
   "display_name": "Python 3",
   "language": "python",
   "name": "python3"
  },
  "language_info": {
   "codemirror_mode": {
    "name": "ipython",
    "version": 3
   },
   "file_extension": ".py",
   "mimetype": "text/x-python",
   "name": "python",
   "nbconvert_exporter": "python",
   "pygments_lexer": "ipython3",
   "version": "3.5.3"
  }
 },
 "nbformat": 4,
 "nbformat_minor": 2
}
