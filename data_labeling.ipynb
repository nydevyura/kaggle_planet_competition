{
 "cells": [
  {
   "cell_type": "code",
   "execution_count": 2,
   "metadata": {
    "collapsed": false,
    "deletable": true,
    "editable": true
   },
   "outputs": [],
   "source": [
    "import argparse\n",
    "import os, sys\n",
    "from utils.data_utils import *\n",
    "from glob import glob\n",
    "import pandas as pd\n",
    "import numpy as np\n",
    "import shutil\n",
    "from tqdm import tqdm\n",
    "%matplotlib inline  \n",
    "import matplotlib.pyplot as plt\n",
    "plt.rcParams[\"figure.figsize\"] = [12,9]\n",
    "\n",
    "from keras.models import Input, Model, Sequential\n",
    "from keras.layers import Dense\n",
    "from keras.models import load_model\n",
    "import keras.backend as K\n",
    "\n",
    "np.set_printoptions(precision=5)\n",
    "np.set_printoptions(suppress=True)"
   ]
  },
  {
   "cell_type": "code",
   "execution_count": 3,
   "metadata": {
    "collapsed": true,
    "deletable": true,
    "editable": true
   },
   "outputs": [],
   "source": [
    "def load_jpg_data(df_csv, data_dir, label_map, img_size=None, subset_size=None):\n",
    "    X = []\n",
    "    Y = []\n",
    "\n",
    "    # for f, tags in tqdm(df_train.sample(subset_size).values, miniters=1000):\n",
    "    if subset_size is not None:\n",
    "        data_progress = tqdm(df_csv.sample(subset_size).values, miniters=1000)\n",
    "    else:\n",
    "        data_progress = tqdm(df_csv.values, miniters=1000)\n",
    "\n",
    "    for f, tags in data_progress:\n",
    "        f_name = '{}.jpg'.format(f)\n",
    "        img = cv2.imread(os.path.join(data_dir, f_name))\n",
    "        targets = np.zeros(17)\n",
    "        for t in tags.split(' '):\n",
    "            targets[label_map[t]] = 1\n",
    "        if img_size is not None:\n",
    "            X.append(cv2.resize(img, (img_size, img_size)))\n",
    "        else:\n",
    "            X.append(img)\n",
    "        Y.append(targets)\n",
    "    print(\"Creating numpy array for data...\")\n",
    "    X = np.array(X, np.float16) / 255.\n",
    "    Y = np.array(Y, np.uint8)\n",
    "    return X, Y\n",
    "\n",
    "def get_labels():\n",
    "    labels = [\n",
    "        'slash_burn',\n",
    "        'clear',\n",
    "        'blooming',\n",
    "        'primary',\n",
    "        'cloudy',\n",
    "        'conventional_mine',\n",
    "        'water',\n",
    "        'haze',\n",
    "        'cultivation',\n",
    "        'partly_cloudy',\n",
    "        'artisinal_mine',\n",
    "        'habitation',\n",
    "        'bare_ground',\n",
    "        'blow_down',\n",
    "        'agriculture',\n",
    "        'road',\n",
    "        'selective_logging'\n",
    "    ]\n",
    "\n",
    "    l_map = {l: i for i, l in enumerate(labels)}\n",
    "    inv_map = {i: l for l, i in l_map.items()}\n",
    "    return labels, l_map, inv_map\n",
    "\n",
    "def get_data_dir(a, t):\n",
    "    if t:\n",
    "        if a:\n",
    "            data_dir = 'train_ex'\n",
    "        else:\n",
    "            data_dir = 'train'\n",
    "    else:\n",
    "        if a:\n",
    "            data_dir = 'valid_ex'\n",
    "        else:\n",
    "            data_dir = 'valid'\n",
    "    return data_dir\n",
    "\n",
    "def load_loss_df(l_dirs, augmented=False, train=False):\n",
    "    data_dir = get_data_dir(augmented, train)\n",
    "    dataframes = []\n",
    "    for d in l_dirs:\n",
    "        dataframes.append(pd.read_csv(os.path.join('predictions', data_dir, d, 'models.csv')))\n",
    "\n",
    "    df_l = pd.concat(dataframes, ignore_index=True)\n",
    "    return df_l\n",
    "\n",
    "def is_windows():\n",
    "    return sys.platform == 'win32'"
   ]
  },
  {
   "cell_type": "code",
   "execution_count": 4,
   "metadata": {
    "collapsed": false,
    "deletable": true,
    "editable": true
   },
   "outputs": [
    {
     "name": "stderr",
     "output_type": "stream",
     "text": [
      "100%|██████████| 61191/61191 [00:49<00:00, 1227.54it/s]\n"
     ]
    },
    {
     "name": "stdout",
     "output_type": "stream",
     "text": [
      "Creating numpy array for data...\n"
     ]
    }
   ],
   "source": [
    "df_test = pd.read_csv(os.path.join('inputs', 'sample_submission_v2.csv'))\n",
    "test_data_dir = os.path.join('inputs', 'test-jpg')\n",
    "labels, label_map, inv_label_map = get_labels()\n",
    "X, _ = load_jpg_data(df_test, test_data_dir, label_map, img_size=128)"
   ]
  },
  {
   "cell_type": "code",
   "execution_count": 5,
   "metadata": {
    "collapsed": false,
    "deletable": true,
    "editable": true
   },
   "outputs": [
    {
     "name": "stdout",
     "output_type": "stream",
     "text": [
      "76\n"
     ]
    }
   ],
   "source": [
    "if is_windows():\n",
    "    l_dirs = ['0.21', '0.22', '0.23', '0.24', '0.25']\n",
    "else:\n",
    "    l_dirs = ['0.09']\n",
    "\n",
    "df_loss_valid = load_loss_df(l_dirs, augmented=True, train=False)\n",
    "print(len(df_loss_valid))"
   ]
  },
  {
   "cell_type": "code",
   "execution_count": 6,
   "metadata": {
    "collapsed": false,
    "deletable": true,
    "editable": true
   },
   "outputs": [
    {
     "data": {
      "text/html": [
       "<div>\n",
       "<table border=\"1\" class=\"dataframe\">\n",
       "  <thead>\n",
       "    <tr style=\"text-align: right;\">\n",
       "      <th></th>\n",
       "      <th>model</th>\n",
       "      <th>model_name</th>\n",
       "      <th>loss</th>\n",
       "      <th>epoch</th>\n",
       "      <th>path</th>\n",
       "      <th>score</th>\n",
       "      <th>res_path</th>\n",
       "    </tr>\n",
       "  </thead>\n",
       "  <tbody>\n",
       "    <tr>\n",
       "      <th>25</th>\n",
       "      <td>starter1_22_0.09</td>\n",
       "      <td>starter1</td>\n",
       "      <td>0.09</td>\n",
       "      <td>22</td>\n",
       "      <td>models/starter1_128_binary_crossentropy_rmspro...</td>\n",
       "      <td>0.922563</td>\n",
       "      <td>predictions/valid_ex/0.09/starter1_128_binary_...</td>\n",
       "    </tr>\n",
       "    <tr>\n",
       "      <th>13</th>\n",
       "      <td>net1_25_0.09</td>\n",
       "      <td>net1</td>\n",
       "      <td>0.09</td>\n",
       "      <td>25</td>\n",
       "      <td>models/net1_128_binary_crossentropy_rmsprop/ne...</td>\n",
       "      <td>0.923863</td>\n",
       "      <td>predictions/valid_ex/0.09/net1_128_binary_cros...</td>\n",
       "    </tr>\n",
       "    <tr>\n",
       "      <th>46</th>\n",
       "      <td>best1_24_0.09</td>\n",
       "      <td>best1</td>\n",
       "      <td>0.09</td>\n",
       "      <td>24</td>\n",
       "      <td>models/best1_128_binary_crossentropy_rmsprop/b...</td>\n",
       "      <td>0.923987</td>\n",
       "      <td>predictions/valid_ex/0.09/best1_128_binary_cro...</td>\n",
       "    </tr>\n",
       "  </tbody>\n",
       "</table>\n",
       "</div>"
      ],
      "text/plain": [
       "               model model_name  loss  epoch  \\\n",
       "25  starter1_22_0.09   starter1  0.09     22   \n",
       "13      net1_25_0.09       net1  0.09     25   \n",
       "46     best1_24_0.09      best1  0.09     24   \n",
       "\n",
       "                                                 path     score  \\\n",
       "25  models/starter1_128_binary_crossentropy_rmspro...  0.922563   \n",
       "13  models/net1_128_binary_crossentropy_rmsprop/ne...  0.923863   \n",
       "46  models/best1_128_binary_crossentropy_rmsprop/b...  0.923987   \n",
       "\n",
       "                                             res_path  \n",
       "25  predictions/valid_ex/0.09/starter1_128_binary_...  \n",
       "13  predictions/valid_ex/0.09/net1_128_binary_cros...  \n",
       "46  predictions/valid_ex/0.09/best1_128_binary_cro...  "
      ]
     },
     "execution_count": 6,
     "metadata": {},
     "output_type": "execute_result"
    }
   ],
   "source": [
    "ensemble = [25, 13, 46]\n",
    "df_ensemble = df_loss_valid.loc[ensemble]\n",
    "df_ensemble"
   ]
  },
  {
   "cell_type": "code",
   "execution_count": 7,
   "metadata": {
    "collapsed": false,
    "deletable": true,
    "editable": true
   },
   "outputs": [
    {
     "name": "stdout",
     "output_type": "stream",
     "text": [
      "Loading model models/starter1_128_binary_crossentropy_rmsprop_x8/starter1_22_0.09.h5\n",
      "Predicting model models/starter1_128_binary_crossentropy_rmsprop_x8/starter1_22_0.09.h5\n",
      "Loading model models/net1_128_binary_crossentropy_rmsprop/net1_25_0.09.h5\n",
      "Predicting model models/net1_128_binary_crossentropy_rmsprop/net1_25_0.09.h5\n",
      "Loading model models/best1_128_binary_crossentropy_rmsprop/best1_24_0.09.h5\n",
      "Predicting model models/best1_128_binary_crossentropy_rmsprop/best1_24_0.09.h5\n",
      "Prediction finished\n"
     ]
    },
    {
     "data": {
      "text/plain": [
       "(3, 61191, 17)"
      ]
     },
     "execution_count": 7,
     "metadata": {},
     "output_type": "execute_result"
    }
   ],
   "source": [
    "preds = []\n",
    "for m in df_ensemble.path:\n",
    "    print(\"Loading model %s\" % m)\n",
    "    model = load_model(m)\n",
    "    print(\"Predicting model %s\" % m)\n",
    "    preds.append(model.predict(X))\n",
    "    del model\n",
    "    K.clear_session()\n",
    "print(\"Prediction finished\")\n",
    "preds = np.array(preds)\n",
    "preds.shape"
   ]
  },
  {
   "cell_type": "code",
   "execution_count": 9,
   "metadata": {
    "collapsed": false,
    "deletable": true,
    "editable": true
   },
   "outputs": [
    {
     "data": {
      "text/plain": [
       "(61191, 17)"
      ]
     },
     "execution_count": 9,
     "metadata": {},
     "output_type": "execute_result"
    }
   ],
   "source": [
    "preds_avg = np.mean(preds, axis=0)\n",
    "preds_final = (preds_avg>0.2).astype(int)\n",
    "preds_final.shape"
   ]
  },
  {
   "cell_type": "code",
   "execution_count": 15,
   "metadata": {
    "collapsed": false,
    "deletable": true,
    "editable": true
   },
   "outputs": [
    {
     "data": {
      "text/plain": [
       "(5196, 17)"
      ]
     },
     "execution_count": 15,
     "metadata": {},
     "output_type": "execute_result"
    }
   ],
   "source": [
    "range_min = 0.002\n",
    "range_max = 0.999\n",
    "condition = np.all((preds_avg > range_max) | (preds_avg < range_min), axis=1)\n",
    "preds_in_range = preds_final[condition]\n",
    "X_in_range = X[condition]\n",
    "preds_in_range.shape"
   ]
  },
  {
   "cell_type": "code",
   "execution_count": 17,
   "metadata": {
    "collapsed": false,
    "deletable": true,
    "editable": true
   },
   "outputs": [
    {
     "data": {
      "text/plain": [
       "(5196,)"
      ]
     },
     "execution_count": 17,
     "metadata": {},
     "output_type": "execute_result"
    }
   ],
   "source": [
    "idx = np.arange(len(preds_final))\n",
    "idx_in_range = idx[condition]\n",
    "idx_in_range.shape"
   ]
  },
  {
   "cell_type": "code",
   "execution_count": 29,
   "metadata": {
    "collapsed": false
   },
   "outputs": [],
   "source": [
    "labeling_dir = 'extra_labeled'\n",
    "if not os.path.exists(labeling_dir):\n",
    "    os.makedirs(labeling_dir)\n",
    "\n",
    "df = pd.DataFrame(columns=['idx'])\n",
    "df.idx = idx_in_range\n",
    "df.to_csv(os.path.join(labeling_dir, 'index_orig.csv'), index=False)\n",
    "\n",
    "np.savez_compressed(os.path.join(labeling_dir, 'X_test_extra.npz'), X_in_range)\n",
    "np.savez_compressed(os.path.join(labeling_dir, 'Y_test_extra.npz'), preds_in_range)"
   ]
  }
 ],
 "metadata": {
  "kernelspec": {
   "display_name": "Python 2",
   "language": "python",
   "name": "python2"
  },
  "language_info": {
   "codemirror_mode": {
    "name": "ipython",
    "version": 2
   },
   "file_extension": ".py",
   "mimetype": "text/x-python",
   "name": "python",
   "nbconvert_exporter": "python",
   "pygments_lexer": "ipython2",
   "version": "2.7.6"
  }
 },
 "nbformat": 4,
 "nbformat_minor": 2
}
