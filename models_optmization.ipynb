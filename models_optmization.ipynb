{
 "cells": [
  {
   "cell_type": "code",
   "execution_count": 1,
   "metadata": {
    "collapsed": true,
    "deletable": true,
    "editable": true
   },
   "outputs": [],
   "source": [
    "import argparse\n",
    "import os, sys\n",
    "from utils.data_utils import *\n",
    "from glob import glob\n",
    "import pandas as pd\n",
    "import numpy as np\n",
    "import shutil\n",
    "from tqdm import tqdm\n",
    "%matplotlib inline  \n",
    "import matplotlib.pyplot as plt\n",
    "plt.rcParams[\"figure.figsize\"] = [12,9]\n",
    "pd.set_option('display.width', None)\n",
    "pd.set_option('display.max_colwidth', 100)\n",
    "pd.set_option('display.colheader_justify', 'left')"
   ]
  },
  {
   "cell_type": "code",
   "execution_count": 2,
   "metadata": {
    "collapsed": true,
    "deletable": true,
    "editable": true
   },
   "outputs": [],
   "source": [
    "def is_windows():\n",
    "    return sys.platform == 'win32'"
   ]
  },
  {
   "cell_type": "code",
   "execution_count": 3,
   "metadata": {
    "collapsed": true,
    "deletable": true,
    "editable": true
   },
   "outputs": [],
   "source": [
    "res_dir = os.path.join('predictions')\n",
    "if is_windows():\n",
    "    l_dirs = ['0.21', '0.22', '0.23', '0.24', '0.25']\n",
    "else:\n",
    "    l_dirs = ['0.09']"
   ]
  },
  {
   "cell_type": "code",
   "execution_count": 4,
   "metadata": {
    "collapsed": true,
    "deletable": true,
    "editable": true
   },
   "outputs": [],
   "source": [
    "train_augmented = True\n",
    "valid_augmented = True"
   ]
  },
  {
   "cell_type": "code",
   "execution_count": 5,
   "metadata": {
    "collapsed": true,
    "deletable": true,
    "editable": true
   },
   "outputs": [],
   "source": [
    "def get_data_dir(a, t):\n",
    "    if t:\n",
    "        if a:\n",
    "            data_dir = 'train_ex'\n",
    "        else:\n",
    "            data_dir = 'train'\n",
    "    else:\n",
    "        if a:\n",
    "            data_dir = 'valid_ex'\n",
    "        else:\n",
    "            data_dir = 'valid'\n",
    "    return data_dir\n",
    "\n",
    "def load_loss_df(l_dirs, augmented=False, train=False):\n",
    "    data_dir = get_data_dir(augmented, train)\n",
    "    dataframes = []\n",
    "    for d in l_dirs:\n",
    "        dataframes.append(pd.read_csv(os.path.join(res_dir, data_dir, d, 'models.csv')))\n",
    "\n",
    "    df_l = pd.concat(dataframes, ignore_index=True)\n",
    "    return df_l\n",
    "\n",
    "def get_gt_name(a, t):\n",
    "    if t:\n",
    "        if a:\n",
    "            name = 'Y_train_augmented.npz'\n",
    "        else:\n",
    "            name = 'Y_train.npz'\n",
    "    else:\n",
    "        if a:\n",
    "            name = 'Y_valid_augmented.npz'\n",
    "        else:\n",
    "            name = 'Y_valid.npz'\n",
    "    return name\n",
    "\n",
    "def load_ground_truth(data_dir, augmented=False, train=False):\n",
    "    gt_name = get_gt_name(augmented, train)\n",
    "    y_true_path = os.path.join('augmented', data_dir, gt_name)\n",
    "    y_true = npz_to_ndarray(np.load(y_true_path))\n",
    "    return y_true\n",
    "\n",
    "def load_preds(df_loss):\n",
    "    preds = []\n",
    "    for npz_path in df_loss.res_path:\n",
    "        p = npz_to_ndarray(np.load(npz_path))\n",
    "        preds.append(p)\n",
    "    return np.array(preds)\n",
    "\n",
    "def load_test_df(l_dirs):\n",
    "    dataframes = []\n",
    "    for d in l_dirs:\n",
    "        dataframes.append(pd.read_csv(os.path.join('test_predictions', d, 'models.csv')))\n",
    "\n",
    "    df_l = pd.concat(dataframes, ignore_index=True)\n",
    "    return df_l"
   ]
  },
  {
   "cell_type": "code",
   "execution_count": 38,
   "metadata": {
    "collapsed": false,
    "deletable": true,
    "editable": true
   },
   "outputs": [
    {
     "data": {
      "text/plain": [
       "472"
      ]
     },
     "execution_count": 38,
     "metadata": {},
     "output_type": "execute_result"
    }
   ],
   "source": [
    "# min_score = 0.922\n",
    "df_loss_valid = load_loss_df(l_dirs, augmented=valid_augmented, train=False)\n",
    "# df_loss_valid = df_loss_valid_orig[df_loss_valid_orig.score > min_score]\n",
    "len(df_loss_valid)"
   ]
  },
  {
   "cell_type": "code",
   "execution_count": 7,
   "metadata": {
    "collapsed": true,
    "deletable": true,
    "editable": true
   },
   "outputs": [],
   "source": [
    "# df_loss_train = load_loss_df(l_dirs, augmented=train_augmented, train=True)\n",
    "# len(df_loss_train)"
   ]
  },
  {
   "cell_type": "code",
   "execution_count": 34,
   "metadata": {
    "collapsed": false,
    "deletable": true,
    "editable": true
   },
   "outputs": [
    {
     "data": {
      "text/plain": [
       "17"
      ]
     },
     "execution_count": 34,
     "metadata": {},
     "output_type": "execute_result"
    }
   ],
   "source": [
    "df_test_predictions = load_test_df(l_dirs)\n",
    "len(df_test_predictions)"
   ]
  },
  {
   "cell_type": "code",
   "execution_count": 39,
   "metadata": {
    "collapsed": false,
    "deletable": true,
    "editable": true
   },
   "outputs": [
    {
     "data": {
      "text/plain": [
       "(472, 64768, 17)"
      ]
     },
     "execution_count": 39,
     "metadata": {},
     "output_type": "execute_result"
    }
   ],
   "source": [
    "preds_valid = load_preds(df_loss_valid)\n",
    "preds_valid.shape"
   ]
  },
  {
   "cell_type": "code",
   "execution_count": 35,
   "metadata": {
    "collapsed": false,
    "deletable": true,
    "editable": true
   },
   "outputs": [
    {
     "data": {
      "text/plain": [
       "(17, 61191, 17)"
      ]
     },
     "execution_count": 35,
     "metadata": {},
     "output_type": "execute_result"
    }
   ],
   "source": [
    "preds_test = load_preds(df_test_predictions)\n",
    "preds_test.shape"
   ]
  },
  {
   "cell_type": "code",
   "execution_count": 11,
   "metadata": {
    "collapsed": true,
    "deletable": true,
    "editable": true
   },
   "outputs": [],
   "source": [
    "# preds_train = load_preds(df_loss_train)\n",
    "# preds_train.shape"
   ]
  },
  {
   "cell_type": "code",
   "execution_count": 12,
   "metadata": {
    "collapsed": false,
    "deletable": true,
    "editable": true
   },
   "outputs": [
    {
     "data": {
      "text/plain": [
       "(64768, 17)"
      ]
     },
     "execution_count": 12,
     "metadata": {},
     "output_type": "execute_result"
    }
   ],
   "source": [
    "y_true_valid = load_ground_truth('train_augmented_size_128_mult_8_seed_0', augmented=valid_augmented, train=False)\n",
    "y_true_valid.shape"
   ]
  },
  {
   "cell_type": "code",
   "execution_count": 13,
   "metadata": {
    "collapsed": true,
    "deletable": true,
    "editable": true
   },
   "outputs": [],
   "source": [
    "# y_true_train = load_ground_truth('train_augmented_size_128_mult_8_seed_0', augmented=train_augmented, train=True)\n",
    "# y_true_train.shape"
   ]
  },
  {
   "cell_type": "code",
   "execution_count": 41,
   "metadata": {
    "collapsed": false,
    "deletable": true,
    "editable": true
   },
   "outputs": [
    {
     "name": "stdout",
     "output_type": "stream",
     "text": [
      "Model with best score is 435 where score is 0.928023\n",
      "resnet50_1_23_0.09\n"
     ]
    }
   ],
   "source": [
    "best_model = df_loss_valid.score.argmax()\n",
    "print(\"Model with best score is %d where score is %f\" % (best_model, df_loss_valid.score[best_model]))\n",
    "print(df_loss_valid.model[best_model])"
   ]
  },
  {
   "cell_type": "code",
   "execution_count": 15,
   "metadata": {
    "collapsed": true,
    "deletable": true,
    "editable": true
   },
   "outputs": [],
   "source": [
    "# best_model_train = df_loss_train.score.argmax()\n",
    "# print(\"Model with best score on training set is %d where score is %f\" % (best_model_train, df_loss_train.score[best_model_train]))\n",
    "# print(df_loss_train.model[best_model_train])"
   ]
  },
  {
   "cell_type": "code",
   "execution_count": 40,
   "metadata": {
    "collapsed": true,
    "deletable": true,
    "editable": true
   },
   "outputs": [],
   "source": [
    "def calc_scores(preds, y_true):\n",
    "    avg_pred = (np.mean(preds, axis=0) > 0.2).astype(int)\n",
    "    vote_pred = (np.mean((np.array(preds) > 0.2).astype(int), axis=0) > 0.5).astype(int)\n",
    "    avg_score = fbeta_score(y_true, avg_pred, beta=2, average='samples')\n",
    "    vote_score = fbeta_score(y_true, vote_pred, beta=2, average='samples')\n",
    "    mean_score = (avg_score+vote_score)/2\n",
    "    return avg_score, vote_score, mean_score\n",
    "\n",
    "def get_ensemble_scores(ensemble, all_preds, y_true):\n",
    "    ensemble_preds = [all_preds[j] for j in ensemble]\n",
    "    avg_score, vote_score, mean_score = calc_scores(ensemble_preds, y_true)\n",
    "    return avg_score, vote_score\n",
    "\n",
    "def find_best_candidate(y_true, all_preds, ensemble, opt_type = 'avg', exclude = []):\n",
    "    best_avg_score = 0\n",
    "    best_vote_score = 0\n",
    "    best_mean_score = 0\n",
    "    best_candidate = -1\n",
    "    ensemble_preds = [all_preds[j] for j in ensemble]\n",
    "    for i in tqdm(range(len(all_preds))):\n",
    "        if i not in exclude:\n",
    "            preds = ensemble_preds + [all_preds[i]]\n",
    "            avg_pred = (np.mean(preds, axis=0) > 0.2).astype(int)\n",
    "            avg_score = fbeta_score(y_true, avg_pred, beta=2, average='samples')\n",
    "            if avg_score > best_avg_score:\n",
    "                best_avg_score = avg_score                \n",
    "                best_candidate = i          \n",
    "                \n",
    "    return best_candidate, best_avg_score, best_vote_score"
   ]
  },
  {
   "cell_type": "code",
   "execution_count": 20,
   "metadata": {
    "collapsed": true,
    "deletable": true,
    "editable": true
   },
   "outputs": [],
   "source": [
    "def optimize_score_target(y_true_valid, preds_valid, init_ensemble = [], exclude = []):\n",
    "    best_ensemble = init_ensemble[:]\n",
    "    y_target = y_true_valid\n",
    "    preds_target = preds_valid\n",
    "\n",
    "    best_score = 0\n",
    "    valid_scores = []\n",
    "    counter = 0\n",
    "    while True:\n",
    "        best_candidate, avg_score, vote_score = \\\n",
    "            find_best_candidate(y_target, preds_target, ensemble=best_ensemble, exclude=exclude)\n",
    "        sys.stdout.flush()\n",
    "    \n",
    "        score = avg_score\n",
    "            \n",
    "        if score > best_score:\n",
    "            best_ensemble.append(best_candidate)\n",
    "            print(\"%d: Best candidate model is %d with improvement of %.5f\" % (counter, best_candidate, score-best_score))\n",
    "            print(\"%d: Best ensemble %s\" % (counter, best_ensemble))\n",
    "            valid_scores.append(get_ensemble_scores(best_ensemble, preds_valid, y_true_valid)[0])\n",
    "            print(\"%d: Ensemble valid score %.5f\" % (counter, valid_scores[-1]))\n",
    "            best_score = score\n",
    "            counter+=1\n",
    "        else:\n",
    "            print(\"Can't optimize any more\")\n",
    "            break\n",
    "    \n",
    "    return best_ensemble, best_score, valid_scores\n",
    "\n",
    "def val_idx_to_test(val_idx, df_test, df_valid):\n",
    "    res = df_test[df_test.path.isin(df_valid.loc[val_idx].path)].index\n",
    "    if len(res) != len(val_idx):\n",
    "        raise RuntimeError(\"Some of the indexes not in the test dataframe\")\n",
    "        \n",
    "    return res\n",
    "\n",
    "def get_labels():\n",
    "    labels = [\n",
    "        'slash_burn',\n",
    "        'clear',\n",
    "        'blooming',\n",
    "        'primary',\n",
    "        'cloudy',\n",
    "        'conventional_mine',\n",
    "        'water',\n",
    "        'haze',\n",
    "        'cultivation',\n",
    "        'partly_cloudy',\n",
    "        'artisinal_mine',\n",
    "        'habitation',\n",
    "        'bare_ground',\n",
    "        'blow_down',\n",
    "        'agriculture',\n",
    "        'road',\n",
    "        'selective_logging'\n",
    "    ]\n",
    "\n",
    "    l_map = {l: i for i, l in enumerate(labels)}\n",
    "    inv_map = {i: l for l, i in l_map.items()}\n",
    "    return labels, l_map, inv_map\n",
    "\n",
    "labels, label_map, inv_label_map = get_labels()\n",
    "\n",
    "def to_tagging(one_hot_data, inv_label_map):\n",
    "    res = pd.DataFrame(index=range(len(one_hot_data)), columns=['tags'])\n",
    "    for j in range(len(one_hot_data)):\n",
    "        tags = []\n",
    "        for i in range(17):\n",
    "            if one_hot_data[j][i] == 1:\n",
    "                tags.append(inv_label_map[i])\n",
    "        res['tags'][j] = ' '.join(sorted(tags))\n",
    "    return res\n",
    "\n",
    "def get_test_df():\n",
    "    inputs_dir = 'inputs'\n",
    "    df_submission = pd.read_csv(os.path.join(inputs_dir, 'sample_submission_v2.csv'))\n",
    "    return df_submission\n",
    "\n",
    "def create_submission(pred, sufix):\n",
    "    print(\"Reading submission dataframe\")\n",
    "    df_submission = get_test_df()\n",
    "    print(\"Creating tags\")\n",
    "    p_tags = to_tagging(pred, inv_label_map)\n",
    "    df_submission.tags = p_tags.tags\n",
    "    submission_dir = os.path.join('submissions', 'ensemble_avg_test')\n",
    "    if not os.path.exists(submission_dir):\n",
    "        os.makedirs(submission_dir)\n",
    "        \n",
    "    file_name = 'submission_' + sufix + '.csv'\n",
    "    print(\"Saving submission to file\")\n",
    "    df_submission.to_csv(os.path.join(submission_dir, file_name), index=False)\n",
    "    print(\"%s created\" % os.path.join(submission_dir, file_name))"
   ]
  },
  {
   "cell_type": "code",
   "execution_count": 42,
   "metadata": {
    "collapsed": false,
    "deletable": true,
    "editable": true,
    "scrolled": false
   },
   "outputs": [
    {
     "name": "stderr",
     "output_type": "stream",
     "text": [
      "100%|██████████| 472/472 [00:33<00:00, 14.28it/s]\n",
      "  0%|          | 0/472 [00:00<?, ?it/s]"
     ]
    },
    {
     "name": "stdout",
     "output_type": "stream",
     "text": [
      "0: Best candidate model is 435 with improvement of 0.92802\n",
      "0: Best ensemble [435]\n",
      "0: Ensemble valid score 0.92802\n"
     ]
    },
    {
     "name": "stderr",
     "output_type": "stream",
     "text": [
      "100%|██████████| 472/472 [00:33<00:00, 14.15it/s]\n",
      "  0%|          | 0/472 [00:00<?, ?it/s]"
     ]
    },
    {
     "name": "stdout",
     "output_type": "stream",
     "text": [
      "1: Best candidate model is 110 with improvement of 0.00276\n",
      "1: Best ensemble [435, 110]\n",
      "1: Ensemble valid score 0.93078\n"
     ]
    },
    {
     "name": "stderr",
     "output_type": "stream",
     "text": [
      "100%|██████████| 472/472 [00:34<00:00, 13.82it/s]\n",
      "  0%|          | 0/472 [00:00<?, ?it/s]"
     ]
    },
    {
     "name": "stdout",
     "output_type": "stream",
     "text": [
      "2: Best candidate model is 408 with improvement of 0.00074\n",
      "2: Best ensemble [435, 110, 408]\n",
      "2: Ensemble valid score 0.93152\n"
     ]
    },
    {
     "name": "stderr",
     "output_type": "stream",
     "text": [
      "100%|██████████| 472/472 [00:37<00:00, 13.76it/s]\n",
      "  0%|          | 0/472 [00:00<?, ?it/s]"
     ]
    },
    {
     "name": "stdout",
     "output_type": "stream",
     "text": [
      "3: Best candidate model is 339 with improvement of 0.00067\n",
      "3: Best ensemble [435, 110, 408, 339]\n",
      "3: Ensemble valid score 0.93219\n"
     ]
    },
    {
     "name": "stderr",
     "output_type": "stream",
     "text": [
      "100%|██████████| 472/472 [00:35<00:00, 13.44it/s]\n",
      "  0%|          | 0/472 [00:00<?, ?it/s]"
     ]
    },
    {
     "name": "stdout",
     "output_type": "stream",
     "text": [
      "4: Best candidate model is 59 with improvement of 0.00037\n",
      "4: Best ensemble [435, 110, 408, 339, 59]\n",
      "4: Ensemble valid score 0.93256\n"
     ]
    },
    {
     "name": "stderr",
     "output_type": "stream",
     "text": [
      "100%|██████████| 472/472 [00:35<00:00, 13.28it/s]\n",
      "  0%|          | 0/472 [00:00<?, ?it/s]"
     ]
    },
    {
     "name": "stdout",
     "output_type": "stream",
     "text": [
      "5: Best candidate model is 400 with improvement of 0.00017\n",
      "5: Best ensemble [435, 110, 408, 339, 59, 400]\n",
      "5: Ensemble valid score 0.93273\n"
     ]
    },
    {
     "name": "stderr",
     "output_type": "stream",
     "text": [
      "100%|██████████| 472/472 [00:38<00:00, 12.17it/s]\n"
     ]
    },
    {
     "name": "stdout",
     "output_type": "stream",
     "text": [
      "6: Best candidate model is 435 with improvement of 0.00016\n",
      "6: Best ensemble [435, 110, 408, 339, 59, 400, 435]\n"
     ]
    },
    {
     "name": "stderr",
     "output_type": "stream",
     "text": [
      "  0%|          | 2/472 [00:00<00:42, 11.06it/s]"
     ]
    },
    {
     "name": "stdout",
     "output_type": "stream",
     "text": [
      "6: Ensemble valid score 0.93290\n"
     ]
    },
    {
     "name": "stderr",
     "output_type": "stream",
     "text": [
      "100%|██████████| 472/472 [00:38<00:00, 12.24it/s]\n",
      "  0%|          | 0/472 [00:00<?, ?it/s]"
     ]
    },
    {
     "name": "stdout",
     "output_type": "stream",
     "text": [
      "7: Best candidate model is 112 with improvement of 0.00003\n",
      "7: Best ensemble [435, 110, 408, 339, 59, 400, 435, 112]\n",
      "7: Ensemble valid score 0.93293\n"
     ]
    },
    {
     "name": "stderr",
     "output_type": "stream",
     "text": [
      "100%|██████████| 472/472 [00:39<00:00, 11.92it/s]\n"
     ]
    },
    {
     "name": "stdout",
     "output_type": "stream",
     "text": [
      "8: Best candidate model is 141 with improvement of 0.00006\n",
      "8: Best ensemble [435, 110, 408, 339, 59, 400, 435, 112, 141]\n"
     ]
    },
    {
     "name": "stderr",
     "output_type": "stream",
     "text": [
      "  0%|          | 1/472 [00:00<01:11,  6.54it/s]"
     ]
    },
    {
     "name": "stdout",
     "output_type": "stream",
     "text": [
      "8: Ensemble valid score 0.93299\n"
     ]
    },
    {
     "name": "stderr",
     "output_type": "stream",
     "text": [
      "100%|██████████| 472/472 [00:42<00:00, 10.98it/s]\n"
     ]
    },
    {
     "name": "stdout",
     "output_type": "stream",
     "text": [
      "9: Best candidate model is 454 with improvement of 0.00022\n",
      "9: Best ensemble [435, 110, 408, 339, 59, 400, 435, 112, 141, 454]\n"
     ]
    },
    {
     "name": "stderr",
     "output_type": "stream",
     "text": [
      "  0%|          | 2/472 [00:00<00:40, 11.60it/s]"
     ]
    },
    {
     "name": "stdout",
     "output_type": "stream",
     "text": [
      "9: Ensemble valid score 0.93322\n"
     ]
    },
    {
     "name": "stderr",
     "output_type": "stream",
     "text": [
      "100%|██████████| 472/472 [00:42<00:00, 11.30it/s]\n"
     ]
    },
    {
     "name": "stdout",
     "output_type": "stream",
     "text": [
      "Can't optimize any more\n",
      "[435, 110, 408, 339, 59, 400, 435, 112, 141, 454]\n",
      "0.933215722643\n",
      "Ensemble valid score 0.93322\n"
     ]
    },
    {
     "data": {
      "text/plain": [
       "[<matplotlib.lines.Line2D at 0x7feab45b5a90>]"
      ]
     },
     "execution_count": 42,
     "metadata": {},
     "output_type": "execute_result"
    },
    {
     "data": {
      "image/png": "[encoded data removed]",
      "text/plain": [
       "<matplotlib.figure.Figure at 0x7feab4750590>"
      ]
     },
     "metadata": {},
     "output_type": "display_data"
    }
   ],
   "source": [
    "best_avg_ensemble, best_score, valid_scores = optimize_score_target(y_true_valid, preds_valid)\n",
    "print(best_avg_ensemble)\n",
    "print(best_score)\n",
    "# print(\"Ensemble train score %.5f\" % get_ensemble_scores(best_avg_ensemble, preds_train, y_true_train)[0])\n",
    "print(\"Ensemble valid score %.5f\" % get_ensemble_scores(best_avg_ensemble, preds_valid, y_true_valid)[0])\n",
    "# plt.plot(train_scores)\n",
    "plt.plot(valid_scores)"
   ]
  },
  {
   "cell_type": "code",
   "execution_count": 43,
   "metadata": {
    "collapsed": false,
    "deletable": true,
    "editable": true
   },
   "outputs": [
    {
     "name": "stdout",
     "output_type": "stream",
     "text": [
      "Ensemble size 10\n"
     ]
    },
    {
     "data": {
      "text/html": [
       "<div>\n",
       "<table border=\"1\" class=\"dataframe\">\n",
       "  <thead>\n",
       "    <tr style=\"text-align: left;\">\n",
       "      <th></th>\n",
       "      <th>epoch</th>\n",
       "      <th>loss</th>\n",
       "      <th>model</th>\n",
       "      <th>model_name</th>\n",
       "      <th>path</th>\n",
       "      <th>res_path</th>\n",
       "      <th>score</th>\n",
       "    </tr>\n",
       "  </thead>\n",
       "  <tbody>\n",
       "    <tr>\n",
       "      <th>435</th>\n",
       "      <td>23.0</td>\n",
       "      <td>0.09</td>\n",
       "      <td>resnet50_1_23_0.09</td>\n",
       "      <td>resnet50_1</td>\n",
       "      <td>models/resnet50_1_256_binary_crossentropy_rmsprop_synt_medium_good/resnet50_1_23_0.09.h5</td>\n",
       "      <td>predictions/valid_ex/0.09/resnet50_1_256_binary_crossentropy_rmsprop_synt_medium_good_resnet50_1...</td>\n",
       "      <td>0.928023</td>\n",
       "    </tr>\n",
       "    <tr>\n",
       "      <th>110</th>\n",
       "      <td>34.0</td>\n",
       "      <td>0.09</td>\n",
       "      <td>net1_34_0.09</td>\n",
       "      <td>net1</td>\n",
       "      <td>models/net1_128_binary_crossentropy_rmsprop_ed/net1_34_0.09.h5</td>\n",
       "      <td>predictions/valid_ex/0.09/net1_128_binary_crossentropy_rmsprop_ed_net1_34_0.09.npz</td>\n",
       "      <td>0.925849</td>\n",
       "    </tr>\n",
       "    <tr>\n",
       "      <th>408</th>\n",
       "      <td>37.0</td>\n",
       "      <td>0.09</td>\n",
       "      <td>inceptionV3_1_37_0.09</td>\n",
       "      <td>inceptionV3_1</td>\n",
       "      <td>models/inceptionV3_1_256_binary_crossentropy_rmsprop_synt_medium/inceptionV3_1_37_0.09.h5</td>\n",
       "      <td>predictions/valid_ex/0.09/inceptionV3_1_256_binary_crossentropy_rmsprop_synt_medium_inceptionV3_...</td>\n",
       "      <td>0.922666</td>\n",
       "    </tr>\n",
       "    <tr>\n",
       "      <th>339</th>\n",
       "      <td>25.0</td>\n",
       "      <td>0.09</td>\n",
       "      <td>xception6_25_0.09</td>\n",
       "      <td>xception6</td>\n",
       "      <td>models/xception6_256_binary_crossentropy_rmsprop_synt_medium/xception6_25_0.09.h5</td>\n",
       "      <td>predictions/valid_ex/0.09/xception6_256_binary_crossentropy_rmsprop_synt_medium_xception6_25_0.0...</td>\n",
       "      <td>0.924762</td>\n",
       "    </tr>\n",
       "    <tr>\n",
       "      <th>59</th>\n",
       "      <td>30.0</td>\n",
       "      <td>0.09</td>\n",
       "      <td>inception2_30_0.09</td>\n",
       "      <td>inception2</td>\n",
       "      <td>models/inception2_128_binary_crossentropy_rmsprop/inception2_30_0.09.h5</td>\n",
       "      <td>predictions/valid_ex/0.09/inception2_128_binary_crossentropy_rmsprop_inception2_30_0.09.npz</td>\n",
       "      <td>0.922770</td>\n",
       "    </tr>\n",
       "    <tr>\n",
       "      <th>400</th>\n",
       "      <td>22.0</td>\n",
       "      <td>0.09</td>\n",
       "      <td>inceptionV3_0_22_0.09</td>\n",
       "      <td>inceptionV3_0</td>\n",
       "      <td>models/inceptionV3_0_256_binary_crossentropy_rmsprop_synt_medium/inceptionV3_0_22_0.09.h5</td>\n",
       "      <td>predictions/valid_ex/0.09/inceptionV3_0_256_binary_crossentropy_rmsprop_synt_medium_inceptionV3_...</td>\n",
       "      <td>0.925353</td>\n",
       "    </tr>\n",
       "    <tr>\n",
       "      <th>435</th>\n",
       "      <td>23.0</td>\n",
       "      <td>0.09</td>\n",
       "      <td>resnet50_1_23_0.09</td>\n",
       "      <td>resnet50_1</td>\n",
       "      <td>models/resnet50_1_256_binary_crossentropy_rmsprop_synt_medium_good/resnet50_1_23_0.09.h5</td>\n",
       "      <td>predictions/valid_ex/0.09/resnet50_1_256_binary_crossentropy_rmsprop_synt_medium_good_resnet50_1...</td>\n",
       "      <td>0.928023</td>\n",
       "    </tr>\n",
       "    <tr>\n",
       "      <th>112</th>\n",
       "      <td>20.0</td>\n",
       "      <td>0.09</td>\n",
       "      <td>net1_20_0.09</td>\n",
       "      <td>net1</td>\n",
       "      <td>models/net1_128_binary_crossentropy_rmsprop_ed/net1_20_0.09.h5</td>\n",
       "      <td>predictions/valid_ex/0.09/net1_128_binary_crossentropy_rmsprop_ed_net1_20_0.09.npz</td>\n",
       "      <td>0.923111</td>\n",
       "    </tr>\n",
       "    <tr>\n",
       "      <th>141</th>\n",
       "      <td>12.0</td>\n",
       "      <td>0.09</td>\n",
       "      <td>vgg16_1_12_0.09</td>\n",
       "      <td>vgg16_1</td>\n",
       "      <td>models/vgg16_1_128_binary_crossentropy_rmsprop/vgg16_1_12_0.09.h5</td>\n",
       "      <td>predictions/valid_ex/0.09/vgg16_1_128_binary_crossentropy_rmsprop_vgg16_1_12_0.09.npz</td>\n",
       "      <td>0.920056</td>\n",
       "    </tr>\n",
       "    <tr>\n",
       "      <th>454</th>\n",
       "      <td>30.0</td>\n",
       "      <td>0.09</td>\n",
       "      <td>resnet50_0_30_0.09</td>\n",
       "      <td>resnet50_0</td>\n",
       "      <td>models/resnet50_0_256_binary_crossentropy_rmsprop_synt_medium/resnet50_0_30_0.09.h5</td>\n",
       "      <td>predictions/valid_ex/0.09/resnet50_0_256_binary_crossentropy_rmsprop_synt_medium_resnet50_0_30_0...</td>\n",
       "      <td>0.924878</td>\n",
       "    </tr>\n",
       "  </tbody>\n",
       "</table>\n",
       "</div>"
      ],
      "text/plain": [
       "     epoch  loss model                  model_name      \\\n",
       "435  23.0   0.09     resnet50_1_23_0.09     resnet50_1   \n",
       "110  34.0   0.09           net1_34_0.09           net1   \n",
       "408  37.0   0.09  inceptionV3_1_37_0.09  inceptionV3_1   \n",
       "339  25.0   0.09      xception6_25_0.09      xception6   \n",
       "59   30.0   0.09     inception2_30_0.09     inception2   \n",
       "400  22.0   0.09  inceptionV3_0_22_0.09  inceptionV3_0   \n",
       "435  23.0   0.09     resnet50_1_23_0.09     resnet50_1   \n",
       "112  20.0   0.09           net1_20_0.09           net1   \n",
       "141  12.0   0.09        vgg16_1_12_0.09        vgg16_1   \n",
       "454  30.0   0.09     resnet50_0_30_0.09     resnet50_0   \n",
       "\n",
       "    path                                                                                        \\\n",
       "435   models/resnet50_1_256_binary_crossentropy_rmsprop_synt_medium_good/resnet50_1_23_0.09.h5   \n",
       "110                             models/net1_128_binary_crossentropy_rmsprop_ed/net1_34_0.09.h5   \n",
       "408  models/inceptionV3_1_256_binary_crossentropy_rmsprop_synt_medium/inceptionV3_1_37_0.09.h5   \n",
       "339          models/xception6_256_binary_crossentropy_rmsprop_synt_medium/xception6_25_0.09.h5   \n",
       "59                     models/inception2_128_binary_crossentropy_rmsprop/inception2_30_0.09.h5   \n",
       "400  models/inceptionV3_0_256_binary_crossentropy_rmsprop_synt_medium/inceptionV3_0_22_0.09.h5   \n",
       "435   models/resnet50_1_256_binary_crossentropy_rmsprop_synt_medium_good/resnet50_1_23_0.09.h5   \n",
       "112                             models/net1_128_binary_crossentropy_rmsprop_ed/net1_20_0.09.h5   \n",
       "141                          models/vgg16_1_128_binary_crossentropy_rmsprop/vgg16_1_12_0.09.h5   \n",
       "454        models/resnet50_0_256_binary_crossentropy_rmsprop_synt_medium/resnet50_0_30_0.09.h5   \n",
       "\n",
       "    res_path                                                                                              \\\n",
       "435  predictions/valid_ex/0.09/resnet50_1_256_binary_crossentropy_rmsprop_synt_medium_good_resnet50_1...   \n",
       "110                   predictions/valid_ex/0.09/net1_128_binary_crossentropy_rmsprop_ed_net1_34_0.09.npz   \n",
       "408  predictions/valid_ex/0.09/inceptionV3_1_256_binary_crossentropy_rmsprop_synt_medium_inceptionV3_...   \n",
       "339  predictions/valid_ex/0.09/xception6_256_binary_crossentropy_rmsprop_synt_medium_xception6_25_0.0...   \n",
       "59           predictions/valid_ex/0.09/inception2_128_binary_crossentropy_rmsprop_inception2_30_0.09.npz   \n",
       "400  predictions/valid_ex/0.09/inceptionV3_0_256_binary_crossentropy_rmsprop_synt_medium_inceptionV3_...   \n",
       "435  predictions/valid_ex/0.09/resnet50_1_256_binary_crossentropy_rmsprop_synt_medium_good_resnet50_1...   \n",
       "112                   predictions/valid_ex/0.09/net1_128_binary_crossentropy_rmsprop_ed_net1_20_0.09.npz   \n",
       "141                predictions/valid_ex/0.09/vgg16_1_128_binary_crossentropy_rmsprop_vgg16_1_12_0.09.npz   \n",
       "454  predictions/valid_ex/0.09/resnet50_0_256_binary_crossentropy_rmsprop_synt_medium_resnet50_0_30_0...   \n",
       "\n",
       "     score     \n",
       "435  0.928023  \n",
       "110  0.925849  \n",
       "408  0.922666  \n",
       "339  0.924762  \n",
       "59   0.922770  \n",
       "400  0.925353  \n",
       "435  0.928023  \n",
       "112  0.923111  \n",
       "141  0.920056  \n",
       "454  0.924878  "
      ]
     },
     "execution_count": 43,
     "metadata": {},
     "output_type": "execute_result"
    }
   ],
   "source": [
    "print(\"Ensemble size %s\" % len(best_avg_ensemble))\n",
    "df_loss_valid.loc[best_avg_ensemble]"
   ]
  },
  {
   "cell_type": "code",
   "execution_count": 44,
   "metadata": {
    "collapsed": true,
    "deletable": true,
    "editable": true
   },
   "outputs": [],
   "source": [
    "df_ensemble = df_loss_valid.loc[best_avg_ensemble]\n",
    "df_ensemble.to_csv('best_ensemble.csv', index=False)"
   ]
  },
  {
   "cell_type": "code",
   "execution_count": 37,
   "metadata": {
    "collapsed": false,
    "deletable": true,
    "editable": true
   },
   "outputs": [
    {
     "name": "stdout",
     "output_type": "stream",
     "text": [
      "[435, 110, 408, 339, 59, 400, 435, 112, 141, 336, 138, 395, 367, 112, 177, 138, 382]\n",
      "[0, 1, 2, 3, 4, 5, 6, 7, 8, 9, 10, 11, 12, 13, 14, 15, 16]\n",
      "(17, 61191, 17)\n",
      "Reading submission dataframe\n",
      "Creating tags\n",
      "Saving submission to file\n",
      "submissions/ensemble_avg_test/submission__val_loss_0.93360.csv created\n"
     ]
    }
   ],
   "source": [
    "print(best_avg_ensemble)\n",
    "test_idx = val_idx_to_test(best_avg_ensemble, df_test=df_test_predictions, df_valid=df_loss_valid)\n",
    "print(list(test_idx))\n",
    "preds_for_submission = preds_test[test_idx]\n",
    "print(preds_for_submission.shape)\n",
    "pred_test = np.mean(preds_for_submission, axis=0)\n",
    "pred_test_final = (pred_test>0.2).astype(int)\n",
    "create_submission(pred_test_final, '_val_loss_0.93360')"
   ]
  },
  {
   "cell_type": "code",
   "execution_count": 94,
   "metadata": {
    "collapsed": true,
    "deletable": true,
    "editable": true
   },
   "outputs": [],
   "source": [
    "# new_ensemble = best_avg_ensemble[:]\n",
    "# new_ensemble.remove(138)\n",
    "# print(\"Ensemble score %.5f\" % get_ensemble_scores(new_ensemble, preds_valid, y_true_valid)[0])"
   ]
  },
  {
   "cell_type": "code",
   "execution_count": 95,
   "metadata": {
    "collapsed": true,
    "deletable": true,
    "editable": true
   },
   "outputs": [],
   "source": [
    "# ens, bs, vs = optimize_score_target(y_true_valid, preds_valid, init_ensemble=new_ensemble)\n",
    "# print(ens)\n",
    "# print(bs)\n",
    "# # print(\"Ensemble train score %.5f\" % get_ensemble_scores(best_avg_ensemble, preds_train, y_true_train)[0])\n",
    "# print(\"Ensemble valid score %.5f\" % get_ensemble_scores(ens, preds_valid, y_true_valid)[0])\n",
    "# # plt.plot(train_scores)\n",
    "# plt.plot(vs)"
   ]
  },
  {
   "cell_type": "code",
   "execution_count": 78,
   "metadata": {
    "collapsed": false,
    "deletable": true,
    "editable": true
   },
   "outputs": [
    {
     "name": "stdout",
     "output_type": "stream",
     "text": [
      "(8, 61191, 17)\n",
      "Reading submission dataframe\n",
      "Creating tags\n",
      "Saving submission to file\n",
      "submissions/ensemble_avg_test/submission__val_loss_0.93280.csv created\n"
     ]
    }
   ],
   "source": [
    "preds_for_submission = preds_test[test_idx]\n",
    "print(preds_for_submission.shape)\n",
    "pred_test = np.mean(preds_for_submission, axis=0)\n",
    "pred_test_final = (pred_test>0.2).astype(int)\n",
    "create_submission(pred_test_final, '_val_loss_0.93280')"
   ]
  },
  {
   "cell_type": "code",
   "execution_count": 63,
   "metadata": {
    "collapsed": false,
    "deletable": true,
    "editable": true
   },
   "outputs": [
    {
     "name": "stdout",
     "output_type": "stream",
     "text": [
      "[110, 58, 108, 13, 132, 94, 51, 112, 22, 89, 68, 119, 117, 93, 125]\n",
      "0.930605228728\n",
      "Done\n"
     ]
    }
   ],
   "source": [
    "import shutil\n",
    "ensemble_dir = os.path.join('other_models', 'ensembles_avg')\n",
    "if not os.path.exists(ensemble_dir):\n",
    "    os.makedirs(ensemble_dir)\n",
    "\n",
    "print(my_ensemble)\n",
    "print(best_score)\n",
    "csv_name = \"ensemble2_val_score_%.5f.csv\" % best_score\n",
    "df_loss_valid.loc[my_ensemble].to_csv(os.path.join(ensemble_dir, csv_name), index=False)\n",
    "\n",
    "print(\"Done\")"
   ]
  },
  {
   "cell_type": "code",
   "execution_count": null,
   "metadata": {
    "collapsed": true,
    "deletable": true,
    "editable": true
   },
   "outputs": [],
   "source": [
    "import shutil\n",
    "copy_to = os.path.join('other_models', 'ensemble20')\n",
    "if not os.path.exists(copy_to):\n",
    "    os.makedirs(copy_to)\n",
    "for j, i in enumerate(my_ensemble):\n",
    "    m = df_loss_valid.loc[i].path\n",
    "    dest = os.path.join(copy_to, df_loss_valid.loc[i].model + '.h5')\n",
    "    shutil.copyfile(m, dest)\n",
    "print(\"Done\")"
   ]
  },
  {
   "cell_type": "code",
   "execution_count": 37,
   "metadata": {
    "collapsed": false,
    "deletable": true,
    "editable": true
   },
   "outputs": [
    {
     "name": "stdout",
     "output_type": "stream",
     "text": [
      "Mean bias of validation vs LB 0.00080\n"
     ]
    },
    {
     "data": {
      "text/plain": [
       "<matplotlib.legend.Legend at 0x7f0608110290>"
      ]
     },
     "execution_count": 37,
     "metadata": {},
     "output_type": "execute_result"
    },
    {
     "data": {
      "image/png": "[encoded data removed]",
      "text/plain": [
       "<matplotlib.figure.Figure at 0x7f0608045650>"
      ]
     },
     "metadata": {},
     "output_type": "display_data"
    }
   ],
   "source": [
    "x = [1,2,5,6,9]\n",
    "val_score = [0.92422, 0.92712, 0.92870, 0.92885, 0.92913]\n",
    "lb_score = [0.92350, 0.92604, 0.92814, 0.92804, 0.92832]\n",
    "print(\"Mean bias of validation vs LB %.5f\" % (np.array(val_score) - np.array(lb_score)).mean())\n",
    "plt.plot(x, val_score)\n",
    "plt.plot(x, lb_score)\n",
    "plt.legend(labels=['val', 'LB'])"
   ]
  }
 ],
 "metadata": {
  "kernelspec": {
   "display_name": "Python 2",
   "language": "python",
   "name": "python2"
  },
  "language_info": {
   "codemirror_mode": {
    "name": "ipython",
    "version": 2
   },
   "file_extension": ".py",
   "mimetype": "text/x-python",
   "name": "python",
   "nbconvert_exporter": "python",
   "pygments_lexer": "ipython2",
   "version": "2.7.6"
  }
 },
 "nbformat": 4,
 "nbformat_minor": 2
}
