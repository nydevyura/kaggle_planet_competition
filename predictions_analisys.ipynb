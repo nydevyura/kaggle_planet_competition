{
 "cells": [
  {
   "cell_type": "code",
   "execution_count": 1,
   "metadata": {
    "collapsed": false,
    "deletable": true,
    "editable": true
   },
   "outputs": [
    {
     "name": "stderr",
     "output_type": "stream",
     "text": [
      "Using TensorFlow backend.\n"
     ]
    }
   ],
   "source": [
    "import argparse\n",
    "import os, sys\n",
    "from utils.data_utils import *\n",
    "from glob import glob\n",
    "import pandas as pd\n",
    "import numpy as np\n",
    "import shutil\n",
    "from tqdm import tqdm\n",
    "%matplotlib inline  \n",
    "import matplotlib.pyplot as plt\n",
    "plt.rcParams[\"figure.figsize\"] = [12,9]\n",
    "\n",
    "from keras.models import Input, Model, Sequential\n",
    "from keras.layers import Dense\n",
    "from keras.regularizers import l1, l2, l1_l2\n",
    "from keras.callbacks import LambdaCallback\n",
    "from sklearn.model_selection import StratifiedKFold, train_test_split\n",
    "\n",
    "np.set_printoptions(precision=5)\n",
    "np.set_printoptions(suppress=True)"
   ]
  },
  {
   "cell_type": "code",
   "execution_count": 38,
   "metadata": {
    "collapsed": true,
    "deletable": true,
    "editable": true
   },
   "outputs": [],
   "source": [
    "def is_windows():\n",
    "    return sys.platform == 'win32'\n",
    "\n",
    "res_dir = os.path.join('predictions')\n",
    "if is_windows():\n",
    "    l_dirs = ['0.21', '0.22', '0.23', '0.24', '0.25']\n",
    "else:\n",
    "    l_dirs = ['0.09']\n",
    "    \n",
    "def get_data_dir(a, t):\n",
    "    if t:\n",
    "        if a:\n",
    "            data_dir = 'train_ex'\n",
    "        else:\n",
    "            data_dir = 'train'\n",
    "    else:\n",
    "        if a:\n",
    "            data_dir = 'valid_ex'\n",
    "        else:\n",
    "            data_dir = 'valid'\n",
    "    return data_dir\n",
    "\n",
    "def load_loss_df(l_dirs, augmented=False, train=False):\n",
    "    data_dir = get_data_dir(augmented, train)\n",
    "    dataframes = []\n",
    "    for d in l_dirs:\n",
    "        dataframes.append(pd.read_csv(os.path.join(res_dir, data_dir, d, 'models.csv')))\n",
    "\n",
    "    df_l = pd.concat(dataframes, ignore_index=True)\n",
    "    return df_l\n",
    "\n",
    "def get_gt_name(a, t):\n",
    "    if t:\n",
    "        if a:\n",
    "            name = 'Y_train_augmented.npz'\n",
    "        else:\n",
    "            name = 'Y_train.npz'\n",
    "    else:\n",
    "        if a:\n",
    "            name = 'Y_valid_augmented.npz'\n",
    "        else:\n",
    "            name = 'Y_valid.npz'\n",
    "    return name\n",
    "\n",
    "def load_ground_truth(data_dir, augmented=False, train=False):\n",
    "    gt_name = get_gt_name(augmented, train)\n",
    "    y_true_path = os.path.join('augmented', data_dir, gt_name)\n",
    "    y_true = npz_to_ndarray(np.load(y_true_path))\n",
    "    return y_true\n",
    "\n",
    "def load_preds(df_loss, transposed=False):\n",
    "    preds = []\n",
    "    for npz_path in df_loss.res_path:\n",
    "        p = npz_to_ndarray(np.load(npz_path))\n",
    "        if transposed:\n",
    "            preds.append(p.transpose())\n",
    "        else:\n",
    "            preds.append(p)\n",
    "    return np.array(preds)\n",
    "\n",
    "labels = [\n",
    "    'slash_burn',\n",
    "    'clear',\n",
    "    'blooming',\n",
    "    'primary',\n",
    "    'cloudy',\n",
    "    'conventional_mine',\n",
    "    'water',\n",
    "    'haze',\n",
    "    'cultivation',\n",
    "    'partly_cloudy',\n",
    "    'artisinal_mine',\n",
    "    'habitation',\n",
    "    'bare_ground',\n",
    "    'blow_down',\n",
    "    'agriculture',\n",
    "    'road',\n",
    "    'selective_logging'\n",
    "]"
   ]
  },
  {
   "cell_type": "code",
   "execution_count": 3,
   "metadata": {
    "collapsed": true,
    "deletable": true,
    "editable": true
   },
   "outputs": [],
   "source": [
    "valid_augmented = True"
   ]
  },
  {
   "cell_type": "code",
   "execution_count": 4,
   "metadata": {
    "collapsed": false,
    "deletable": true,
    "editable": true
   },
   "outputs": [
    {
     "name": "stdout",
     "output_type": "stream",
     "text": [
      "123\n"
     ]
    }
   ],
   "source": [
    "df_loss_valid = load_loss_df(l_dirs, augmented=valid_augmented, train=False)\n",
    "print(len(df_loss_valid))"
   ]
  },
  {
   "cell_type": "code",
   "execution_count": 5,
   "metadata": {
    "collapsed": false,
    "deletable": true,
    "editable": true
   },
   "outputs": [
    {
     "name": "stdout",
     "output_type": "stream",
     "text": [
      "(123, 64768, 17)\n"
     ]
    }
   ],
   "source": [
    "preds_valid = load_preds(df_loss_valid)\n",
    "print(preds_valid.shape)"
   ]
  },
  {
   "cell_type": "code",
   "execution_count": 6,
   "metadata": {
    "collapsed": false,
    "deletable": true,
    "editable": true
   },
   "outputs": [
    {
     "name": "stdout",
     "output_type": "stream",
     "text": [
      "(64768, 17)\n"
     ]
    }
   ],
   "source": [
    "y_true_valid = load_ground_truth('train_augmented_size_128_mult_8_seed_0', augmented=valid_augmented, train=False)\n",
    "print(y_true_valid.shape)"
   ]
  },
  {
   "cell_type": "code",
   "execution_count": 7,
   "metadata": {
    "collapsed": true,
    "deletable": true,
    "editable": true
   },
   "outputs": [],
   "source": [
    "def get_ensemble_avg_score(ensemble, all_preds, y_true, opt_th=False, opt_step=0.05, th=0.2):\n",
    "    ensemble_preds = [all_preds[j] for j in ensemble]\n",
    "    avg_pred = np.mean(ensemble_preds, axis=0)\n",
    "    if not opt_th:\n",
    "        avg_pred_final = (avg_pred > th).astype(int)\n",
    "    else:\n",
    "        thresholds = find_ratios(y_true, avg_pred, step=opt_step)\n",
    "        avg_pred_final = (avg_pred > thresholds).astype(int)\n",
    "    avg_score = fbeta_score(y_true, avg_pred_final, beta=2, average='samples')\n",
    "    return avg_score"
   ]
  },
  {
   "cell_type": "code",
   "execution_count": 8,
   "metadata": {
    "collapsed": false,
    "deletable": true,
    "editable": true
   },
   "outputs": [],
   "source": [
    "# ensemble = [20]\n",
    "# ensemble = [20, 62]\n",
    "# ensemble = [20, 62, 13]\n",
    "# ensemble = [25, 13, 46]\n",
    "# ensemble = [20, 25, 13, 46, 51, 8, 12]\n",
    "# ensemble = [20, 62, 13, 46]\n",
    "# ensemble = [20, 62, 13, 46, 8]\n",
    "# ensemble = [20, 62, 13, 46, 8, 22, 12, 51, 25]\n",
    "ensemble = [110, 58, 108, 13, 89, 112, 119, 86, 22, 66]"
   ]
  },
  {
   "cell_type": "code",
   "execution_count": 9,
   "metadata": {
    "collapsed": false,
    "deletable": true,
    "editable": true
   },
   "outputs": [
    {
     "name": "stdout",
     "output_type": "stream",
     "text": [
      "(10, 64768, 17)\n"
     ]
    }
   ],
   "source": [
    "preds_ensemble = np.array([preds_valid[j] for j in ensemble])\n",
    "print(\"%s\" % str(preds_ensemble.shape))\n",
    "dim_batch_valid = preds_ensemble.shape[2]\n",
    "dim_classes = preds_ensemble.shape[1]\n",
    "dim_models = preds_ensemble.shape[0]"
   ]
  },
  {
   "cell_type": "code",
   "execution_count": 10,
   "metadata": {
    "collapsed": false,
    "deletable": true,
    "editable": true
   },
   "outputs": [
    {
     "name": "stdout",
     "output_type": "stream",
     "text": [
      "Score: 0.93029\n"
     ]
    }
   ],
   "source": [
    "preds_avg = np.mean(preds_ensemble, axis=0)\n",
    "preds_final = (preds_avg>0.2).astype(int)\n",
    "score = fbeta_score(y_true_valid, preds_final, beta=2, average='samples')\n",
    "print(\"Score: %.5f\" % score)"
   ]
  },
  {
   "cell_type": "code",
   "execution_count": 11,
   "metadata": {
    "collapsed": false,
    "deletable": true,
    "editable": true
   },
   "outputs": [
    {
     "data": {
      "text/plain": [
       "(1055804,)"
      ]
     },
     "execution_count": 11,
     "metadata": {},
     "output_type": "execute_result"
    }
   ],
   "source": [
    "tp_tn = preds_avg[preds_final == y_true_valid]\n",
    "tp_tn.shape"
   ]
  },
  {
   "cell_type": "code",
   "execution_count": 12,
   "metadata": {
    "collapsed": false,
    "deletable": true,
    "editable": true
   },
   "outputs": [
    {
     "name": "stdout",
     "output_type": "stream",
     "text": [
      "(175178,) (880626,)\n"
     ]
    }
   ],
   "source": [
    "tp = tp_tn[tp_tn > 0.2]\n",
    "tn = tp_tn[tp_tn <= 0.2]\n",
    "print(\"%s %s\" % (tp.shape, tn.shape))"
   ]
  },
  {
   "cell_type": "code",
   "execution_count": 13,
   "metadata": {
    "collapsed": false,
    "deletable": true,
    "editable": true
   },
   "outputs": [],
   "source": [
    "def show_statistics(data):\n",
    "    print(\"Length: %d\" % len(data))\n",
    "    print(\"Min: %f; Max %f\" % (data.min(), data.max()))\n",
    "    print(\"Mean: %f; Std %f\" % (data.mean(), data.std()))\n",
    "    print(\"Mean+2std: %f; Mean-2std %f\" % (data.mean() + data.std(), data.mean() - data.std()))"
   ]
  },
  {
   "cell_type": "code",
   "execution_count": 14,
   "metadata": {
    "collapsed": false,
    "deletable": true,
    "editable": true
   },
   "outputs": [
    {
     "name": "stdout",
     "output_type": "stream",
     "text": [
      "Length: 175178\n",
      "Min: 0.200046; Max 0.999996\n",
      "Mean: 0.889833; Std 0.188399\n",
      "Mean+2std: 1.078232; Mean-2std 0.701434\n",
      "--------------------------------\n",
      "Length: 880626\n",
      "Min: 0.000000; Max 0.199982\n",
      "Mean: 0.011944; Std 0.029126\n",
      "Mean+2std: 0.041070; Mean-2std -0.017182\n"
     ]
    }
   ],
   "source": [
    "show_statistics(tp)\n",
    "print(\"--------------------------------\")\n",
    "show_statistics(tn)"
   ]
  },
  {
   "cell_type": "code",
   "execution_count": 15,
   "metadata": {
    "collapsed": false,
    "deletable": true,
    "editable": true
   },
   "outputs": [
    {
     "data": {
      "text/plain": [
       "(45252,)"
      ]
     },
     "execution_count": 15,
     "metadata": {},
     "output_type": "execute_result"
    }
   ],
   "source": [
    "fp_fn = preds_avg[preds_final != y_true_valid]\n",
    "fp_fn.shape"
   ]
  },
  {
   "cell_type": "code",
   "execution_count": 16,
   "metadata": {
    "collapsed": false,
    "deletable": true,
    "editable": true
   },
   "outputs": [
    {
     "name": "stdout",
     "output_type": "stream",
     "text": [
      "(34262,) (10990,)\n"
     ]
    }
   ],
   "source": [
    "fp = fp_fn[fp_fn > 0.2]\n",
    "fn = fp_fn[fp_fn <= 0.2]\n",
    "print(\"%s %s\" % (fp.shape, fn.shape))"
   ]
  },
  {
   "cell_type": "code",
   "execution_count": 17,
   "metadata": {
    "collapsed": false,
    "deletable": true,
    "editable": true
   },
   "outputs": [
    {
     "name": "stdout",
     "output_type": "stream",
     "text": [
      "Length: 34262\n",
      "Min: 0.200005; Max 0.998808\n",
      "Mean: 0.443065; Std 0.207572\n",
      "Mean+2std: 0.650636; Mean-2std 0.235493\n",
      "--------------------------------\n",
      "Length: 10990\n",
      "Min: 0.000243; Max 0.199994\n",
      "Mean: 0.091343; Std 0.057310\n",
      "Mean+2std: 0.148653; Mean-2std 0.034033\n"
     ]
    }
   ],
   "source": [
    "show_statistics(fp)\n",
    "print(\"--------------------------------\")\n",
    "show_statistics(fn)"
   ]
  },
  {
   "cell_type": "code",
   "execution_count": 20,
   "metadata": {
    "collapsed": false,
    "deletable": true,
    "editable": true
   },
   "outputs": [
    {
     "name": "stdout",
     "output_type": "stream",
     "text": [
      "(37047, 17) (27721, 17)\n"
     ]
    }
   ],
   "source": [
    "correct = preds_avg[np.all(preds_final == y_true_valid, axis=1)]\n",
    "incorrect = preds_avg[np.any(preds_final != y_true_valid, axis=1)]\n",
    "print(\"%s %s\" % (correct.shape, incorrect.shape))"
   ]
  },
  {
   "cell_type": "code",
   "execution_count": 21,
   "metadata": {
    "collapsed": false,
    "deletable": true,
    "editable": true
   },
   "outputs": [
    {
     "name": "stdout",
     "output_type": "stream",
     "text": [
      "(1980, 17) (8, 17)\n",
      "Misslabeling 0.40%\n"
     ]
    }
   ],
   "source": [
    "range_min = 0.002\n",
    "range_max = 0.999\n",
    "correct_in_range = correct[np.all((correct > range_max) | (correct < range_min), axis=1)]\n",
    "incorrect_in_range = incorrect[np.all((incorrect > range_max) | (incorrect < range_min), axis=1)]\n",
    "print(\"%s %s\" % (correct_in_range.shape, incorrect_in_range.shape))\n",
    "print(\"Misslabeling %.2f%%\" % (100*float(incorrect_in_range.shape[0])/(correct_in_range.shape[0] + incorrect_in_range.shape[0])))"
   ]
  },
  {
   "cell_type": "code",
   "execution_count": 29,
   "metadata": {
    "collapsed": false,
    "deletable": true,
    "editable": true
   },
   "outputs": [],
   "source": [
    "def improve_score_per_class(preds, cls, fp=True, fn=True):\n",
    "    p_improved = preds.copy()\n",
    "    if fp:\n",
    "        p_improved[(p_improved[:,cls] != y_true_valid[:,cls]) & (p_improved[:,cls] == 1),cls] = 0\n",
    "    if fn:\n",
    "        p_improved[(p_improved[:,cls] != y_true_valid[:,cls]) & (p_improved[:,cls] == 0),cls] = 1\n",
    "    score = fbeta_score(y_true_valid, p_improved, beta=2, average='samples')\n",
    "    return score"
   ]
  },
  {
   "cell_type": "code",
   "execution_count": 52,
   "metadata": {
    "collapsed": false,
    "deletable": true,
    "editable": true
   },
   "outputs": [
    {
     "name": "stdout",
     "output_type": "stream",
     "text": [
      "Improved score for class 0: 0.93147\n",
      "Improved score for class 1: 0.93217\n",
      "Improved score for class 2: 0.93200\n",
      "Improved score for class 3: 0.93102\n",
      "Improved score for class 4: 0.93142\n",
      "Improved score for class 5: 0.93056\n",
      "Improved score for class 6: 0.93590\n",
      "Improved score for class 7: 0.93339\n",
      "Improved score for class 8: 0.93547\n",
      "Improved score for class 9: 0.93152\n",
      "Improved score for class 10: 0.93038\n",
      "Improved score for class 11: 0.93311\n",
      "Improved score for class 12: 0.93322\n",
      "Improved score for class 13: 0.93066\n",
      "Improved score for class 14: 0.93399\n",
      "Improved score for class 15: 0.93387\n",
      "Improved score for class 16: 0.93141\n"
     ]
    }
   ],
   "source": [
    "scores_per_class = []\n",
    "for i in range(17):\n",
    "    scores_per_class.append(improve_score_per_class(preds_final, i, fp=False, fn=True))\n",
    "    print(\"Improved score for class %d: %.5f\" % (i, scores_per_class[-1]))"
   ]
  },
  {
   "cell_type": "code",
   "execution_count": 53,
   "metadata": {
    "collapsed": false
   },
   "outputs": [
    {
     "name": "stdout",
     "output_type": "stream",
     "text": [
      "------------------------------------------------------\n",
      "Average improved score 0.93245\n",
      "Improved score for class [10] - artisinal_mine: 0.93038\n",
      "Improved score for class [5] - conventional_mine: 0.93056\n",
      "Improved score for class [13] - blow_down: 0.93066\n",
      "Improved score for class [3] - primary: 0.93102\n",
      "Improved score for class [16] - selective_logging: 0.93141\n",
      "Improved score for class [4] - cloudy: 0.93142\n",
      "Improved score for class [0] - slash_burn: 0.93147\n",
      "Improved score for class [9] - partly_cloudy: 0.93152\n",
      "Improved score for class [2] - blooming: 0.93200\n",
      "Improved score for class [1] - clear: 0.93217\n",
      "Improved score for class [11] - habitation: 0.93311\n",
      "Improved score for class [12] - bare_ground: 0.93322\n",
      "Improved score for class [7] - haze: 0.93339\n",
      "Improved score for class [15] - road: 0.93387\n",
      "Improved score for class [14] - agriculture: 0.93399\n",
      "Improved score for class [8] - cultivation: 0.93547\n",
      "Improved score for class [6] - water: 0.93590\n"
     ]
    }
   ],
   "source": [
    "print(\"------------------------------------------------------\")\n",
    "print(\"Average improved score %.5f\" % np.mean(scores_per_class))\n",
    "for s in np.sort(scores_per_class):\n",
    "    i = scores_per_class.index(s)\n",
    "    print(\"Improved score for class [%d] - %s: %.5f\" % (i, labels[i], s))"
   ]
  }
 ],
 "metadata": {
  "kernelspec": {
   "display_name": "Python 2",
   "language": "python",
   "name": "python2"
  },
  "language_info": {
   "codemirror_mode": {
    "name": "ipython",
    "version": 2
   },
   "file_extension": ".py",
   "mimetype": "text/x-python",
   "name": "python",
   "nbconvert_exporter": "python",
   "pygments_lexer": "ipython2",
   "version": "2.7.6"
  }
 },
 "nbformat": 4,
 "nbformat_minor": 2
}
