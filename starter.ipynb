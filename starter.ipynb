{
 "cells": [
  {
   "cell_type": "code",
   "execution_count": 1,
   "metadata": {
    "collapsed": false,
    "deletable": true,
    "editable": true
   },
   "outputs": [
    {
     "name": "stderr",
     "output_type": "stream",
     "text": [
      "Using TensorFlow backend.\n"
     ]
    }
   ],
   "source": [
    "# This Python 3 environment comes with many helpful analytics libraries installed\n",
    "# It is defined by the kaggle/python docker image: https://github.com/kaggle/docker-python\n",
    "# For example, here's several helpful packages to load in \n",
    "\n",
    "import numpy as np # linear algebra\n",
    "import pandas as pd # data processing, CSV file I/O (e.g. pd.read_csv)\n",
    "import os\n",
    "import gc\n",
    "\n",
    "import keras as k\n",
    "from keras.models import Sequential\n",
    "from keras.layers import Dense, Dropout, Flatten\n",
    "from keras.layers import Conv2D, MaxPooling2D\n",
    "from keras.layers.normalization import BatchNormalization\n",
    "\n",
    "import cv2\n",
    "from tqdm import tqdm\n",
    "\n",
    "from multiprocessing import Pool, cpu_count\n",
    "\n",
    "# Input data files are available in the \"../input/\" directory.\n",
    "# For example, running this (by clicking run or pressing Shift+Enter) will list the files in the input directory\n",
    "\n",
    "from subprocess import check_output\n",
    "from sklearn.metrics import fbeta_score\n",
    "import matplotlib.pyplot as plt\n",
    "# Any results you write to the current directory are saved as output."
   ]
  },
  {
   "cell_type": "code",
   "execution_count": 2,
   "metadata": {
    "collapsed": false,
    "deletable": true,
    "editable": true
   },
   "outputs": [
    {
     "data": {
      "text/html": [
       "<div>\n",
       "<table border=\"1\" class=\"dataframe\">\n",
       "  <thead>\n",
       "    <tr style=\"text-align: right;\">\n",
       "      <th></th>\n",
       "      <th>image_name</th>\n",
       "      <th>tags</th>\n",
       "    </tr>\n",
       "  </thead>\n",
       "  <tbody>\n",
       "    <tr>\n",
       "      <th>0</th>\n",
       "      <td>train_0</td>\n",
       "      <td>haze primary</td>\n",
       "    </tr>\n",
       "    <tr>\n",
       "      <th>1</th>\n",
       "      <td>train_1</td>\n",
       "      <td>agriculture clear primary water</td>\n",
       "    </tr>\n",
       "    <tr>\n",
       "      <th>2</th>\n",
       "      <td>train_2</td>\n",
       "      <td>clear primary</td>\n",
       "    </tr>\n",
       "    <tr>\n",
       "      <th>3</th>\n",
       "      <td>train_3</td>\n",
       "      <td>clear primary</td>\n",
       "    </tr>\n",
       "    <tr>\n",
       "      <th>4</th>\n",
       "      <td>train_4</td>\n",
       "      <td>agriculture clear habitation primary road</td>\n",
       "    </tr>\n",
       "  </tbody>\n",
       "</table>\n",
       "</div>"
      ],
      "text/plain": [
       "  image_name                                       tags\n",
       "0    train_0                               haze primary\n",
       "1    train_1            agriculture clear primary water\n",
       "2    train_2                              clear primary\n",
       "3    train_3                              clear primary\n",
       "4    train_4  agriculture clear habitation primary road"
      ]
     },
     "execution_count": 2,
     "metadata": {},
     "output_type": "execute_result"
    }
   ],
   "source": [
    "df_train = pd.read_csv('train_v2.csv')\n",
    "df_train.head()"
   ]
  },
  {
   "cell_type": "code",
   "execution_count": 3,
   "metadata": {
    "collapsed": true,
    "deletable": true,
    "editable": true
   },
   "outputs": [],
   "source": [
    "flatten = lambda l: [item for sublist in l for item in sublist]\n",
    "labels = list(set(flatten([l.split(' ') for l in df_train['tags'].values])))\n",
    "\n",
    "label_map = {l: i for i, l in enumerate(labels)}\n",
    "inv_label_map = {i: l for l, i in label_map.items()}"
   ]
  },
  {
   "cell_type": "code",
   "execution_count": 4,
   "metadata": {
    "collapsed": true,
    "deletable": true,
    "editable": true
   },
   "outputs": [],
   "source": [
    "in_size = 64"
   ]
  },
  {
   "cell_type": "code",
   "execution_count": 5,
   "metadata": {
    "collapsed": false,
    "deletable": true,
    "editable": true
   },
   "outputs": [
    {
     "name": "stderr",
     "output_type": "stream",
     "text": [
      "100%|██████████| 40479/40479 [00:34<00:00, 1190.00it/s]\n"
     ]
    },
    {
     "name": "stdout",
     "output_type": "stream",
     "text": [
      "(40479, 64, 64, 3)\n",
      "(40479, 17)\n"
     ]
    }
   ],
   "source": [
    "# input_dir = r'e:\\kaggle\\planet_amazon'\n",
    "input_dir = 'inputs'\n",
    "\n",
    "x_train = []\n",
    "x_test = []\n",
    "y_train = []\n",
    "for f, tags in tqdm(df_train.values, miniters=1000):\n",
    "    f_name = '{}.jpg'.format(f)\n",
    "#     print(os.path.join(input_dir, 'train-jpg', f_name))\n",
    "    img = cv2.imread(os.path.join(input_dir, 'train-jpg', f_name))\n",
    "    targets = np.zeros(17)\n",
    "    for t in tags.split(' '):\n",
    "        targets[label_map[t]] = 1 \n",
    "    x_train.append(cv2.resize(img, (in_size, in_size)))\n",
    "    y_train.append(targets)\n",
    "    \n",
    "y_train = np.array(y_train, np.uint8)\n",
    "x_train = np.array(x_train, np.float16) / 255.\n",
    "\n",
    "print(x_train.shape)\n",
    "print(y_train.shape)"
   ]
  },
  {
   "cell_type": "code",
   "execution_count": 6,
   "metadata": {
    "collapsed": true,
    "deletable": true,
    "editable": true
   },
   "outputs": [],
   "source": [
    "np.random.seed(0)\n",
    "from sklearn.model_selection import train_test_split\n",
    "X_train, X_valid, Y_train, Y_valid = train_test_split(x_train, y_train, test_size=0.2)"
   ]
  },
  {
   "cell_type": "code",
   "execution_count": 7,
   "metadata": {
    "collapsed": false,
    "deletable": true,
    "editable": true,
    "scrolled": true
   },
   "outputs": [],
   "source": [
    "model = Sequential()\n",
    "model.add(Conv2D(32, kernel_size=(3, 3), strides=(2,2), activation='relu', input_shape=(in_size,in_size,3)))\n",
    "model.add(Conv2D(64, kernel_size=(3, 3), activation='relu'))\n",
    "# model.add(BatchNormalization())\n",
    "model.add(MaxPooling2D(pool_size=(2, 2)))\n",
    "model.add(Dropout(0.25))\n",
    "# model.add(Conv2D(64, kernel_size=(3, 3), strides=(2,2), activation='relu'))\n",
    "model.add(Conv2D(128, kernel_size=(3, 3), strides=(2,2), activation='relu'))\n",
    "# model.add(BatchNormalization())\n",
    "# model.add(Dropout(0.5))\n",
    "model.add(Flatten())\n",
    "model.add(Dense(128, activation='relu'))\n",
    "model.add(Dropout(0.5))\n",
    "model.add(Dense(17, activation='sigmoid'))\n",
    "\n",
    "model.compile(loss='mean_squared_error', # We NEED binary here, since categorical_crossentropy l1 norms the output before calculating loss.\n",
    "              optimizer='adam',\n",
    "              metrics=['accuracy'])"
   ]
  },
  {
   "cell_type": "code",
   "execution_count": 8,
   "metadata": {
    "collapsed": false,
    "deletable": true,
    "editable": true,
    "scrolled": true
   },
   "outputs": [
    {
     "name": "stdout",
     "output_type": "stream",
     "text": [
      "Epoch 0\n",
      "Train on 32383 samples, validate on 8096 samples\n",
      "Epoch 1/1\n",
      "8s - loss: 0.0909 - acc: 0.2854 - val_loss: 0.0682 - val_acc: 0.2430\n",
      "Epoch 1\n",
      "Train on 32383 samples, validate on 8096 samples\n",
      "Epoch 1/1\n",
      "5s - loss: 0.0686 - acc: 0.2674 - val_loss: 0.0632 - val_acc: 0.2591\n",
      "Epoch 2\n",
      "Train on 32383 samples, validate on 8096 samples\n",
      "Epoch 1/1\n",
      "6s - loss: 0.0642 - acc: 0.2603 - val_loss: 0.0603 - val_acc: 0.2596\n",
      "Epoch 3\n",
      "Train on 32383 samples, validate on 8096 samples\n",
      "Epoch 1/1\n",
      "6s - loss: 0.0613 - acc: 0.2568 - val_loss: 0.0585 - val_acc: 0.2568\n",
      "Epoch 4\n",
      "Train on 32383 samples, validate on 8096 samples\n",
      "Epoch 1/1\n",
      "6s - loss: 0.0589 - acc: 0.2569 - val_loss: 0.0555 - val_acc: 0.2586\n",
      "Epoch 5\n",
      "Train on 32383 samples, validate on 8096 samples\n",
      "Epoch 1/1\n",
      "7s - loss: 0.0562 - acc: 0.2589 - val_loss: 0.0534 - val_acc: 0.2610\n",
      "Epoch 6\n",
      "Train on 32383 samples, validate on 8096 samples\n",
      "Epoch 1/1\n",
      "7s - loss: 0.0554 - acc: 0.2613 - val_loss: 0.0532 - val_acc: 0.2598\n",
      "Epoch 7\n",
      "Train on 32383 samples, validate on 8096 samples\n",
      "Epoch 1/1\n",
      "6s - loss: 0.0536 - acc: 0.2607 - val_loss: 0.0520 - val_acc: 0.2630\n",
      "Epoch 8\n",
      "Train on 32383 samples, validate on 8096 samples\n",
      "Epoch 1/1\n",
      "6s - loss: 0.0527 - acc: 0.2576 - val_loss: 0.0509 - val_acc: 0.2631\n",
      "Epoch 9\n",
      "Train on 32383 samples, validate on 8096 samples\n",
      "Epoch 1/1\n",
      "7s - loss: 0.0515 - acc: 0.2591 - val_loss: 0.0485 - val_acc: 0.2498\n",
      "Epoch 10\n",
      "Train on 32383 samples, validate on 8096 samples\n",
      "Epoch 1/1\n",
      "7s - loss: 0.0503 - acc: 0.2545 - val_loss: 0.0486 - val_acc: 0.2442\n",
      "Epoch 11\n",
      "Train on 32383 samples, validate on 8096 samples\n",
      "Epoch 1/1\n",
      "5s - loss: 0.0495 - acc: 0.2535 - val_loss: 0.0467 - val_acc: 0.2252\n",
      "Epoch 12\n",
      "Train on 32383 samples, validate on 8096 samples\n",
      "Epoch 1/1\n",
      "6s - loss: 0.0485 - acc: 0.2477 - val_loss: 0.0469 - val_acc: 0.2393\n",
      "Epoch 13\n",
      "Train on 32383 samples, validate on 8096 samples\n",
      "Epoch 1/1\n",
      "7s - loss: 0.0479 - acc: 0.2438 - val_loss: 0.0463 - val_acc: 0.2264\n",
      "Epoch 14\n",
      "Train on 32383 samples, validate on 8096 samples\n",
      "Epoch 1/1\n",
      "6s - loss: 0.0477 - acc: 0.2432 - val_loss: 0.0458 - val_acc: 0.2307\n",
      "Epoch 15\n",
      "Train on 32383 samples, validate on 8096 samples\n",
      "Epoch 1/1\n",
      "6s - loss: 0.0471 - acc: 0.2447 - val_loss: 0.0453 - val_acc: 0.2023\n",
      "Epoch 16\n",
      "Train on 32383 samples, validate on 8096 samples\n",
      "Epoch 1/1\n",
      "5s - loss: 0.0467 - acc: 0.2424 - val_loss: 0.0443 - val_acc: 0.2199\n",
      "Epoch 17\n",
      "Train on 32383 samples, validate on 8096 samples\n",
      "Epoch 1/1\n",
      "5s - loss: 0.0464 - acc: 0.2394 - val_loss: 0.0441 - val_acc: 0.2250\n",
      "Epoch 18\n",
      "Train on 32383 samples, validate on 8096 samples\n",
      "Epoch 1/1\n",
      "6s - loss: 0.0462 - acc: 0.2461 - val_loss: 0.0452 - val_acc: 0.2359\n",
      "Epoch 19\n",
      "Train on 32383 samples, validate on 8096 samples\n",
      "Epoch 1/1\n",
      "6s - loss: 0.0457 - acc: 0.2451 - val_loss: 0.0449 - val_acc: 0.2106\n",
      "Epoch 20\n",
      "Train on 32383 samples, validate on 8096 samples\n",
      "Epoch 1/1\n",
      "6s - loss: 0.0453 - acc: 0.2417 - val_loss: 0.0430 - val_acc: 0.2083\n",
      "Epoch 21\n",
      "Train on 32383 samples, validate on 8096 samples\n",
      "Epoch 1/1\n",
      "6s - loss: 0.0448 - acc: 0.2464 - val_loss: 0.0431 - val_acc: 0.2153\n",
      "Epoch 22\n",
      "Train on 32383 samples, validate on 8096 samples\n",
      "Epoch 1/1\n",
      "7s - loss: 0.0447 - acc: 0.2519 - val_loss: 0.0432 - val_acc: 0.2225\n",
      "Epoch 23\n",
      "Train on 32383 samples, validate on 8096 samples\n",
      "Epoch 1/1\n",
      "7s - loss: 0.0443 - acc: 0.2549 - val_loss: 0.0424 - val_acc: 0.2260\n",
      "Epoch 24\n",
      "Train on 32383 samples, validate on 8096 samples\n",
      "Epoch 1/1\n",
      "6s - loss: 0.0438 - acc: 0.2620 - val_loss: 0.0426 - val_acc: 0.2085\n",
      "Epoch 25\n",
      "Train on 32383 samples, validate on 8096 samples\n",
      "Epoch 1/1\n",
      "6s - loss: 0.0437 - acc: 0.2603 - val_loss: 0.0440 - val_acc: 0.2246\n",
      "Epoch 26\n",
      "Train on 32383 samples, validate on 8096 samples\n",
      "Epoch 1/1\n",
      "5s - loss: 0.0437 - acc: 0.2748 - val_loss: 0.0428 - val_acc: 0.2136\n",
      "Epoch 27\n",
      "Train on 32383 samples, validate on 8096 samples\n",
      "Epoch 1/1\n",
      "6s - loss: 0.0431 - acc: 0.2794 - val_loss: 0.0423 - val_acc: 0.2295\n",
      "Epoch 28\n",
      "Train on 32383 samples, validate on 8096 samples\n",
      "Epoch 1/1\n",
      "5s - loss: 0.0427 - acc: 0.2933 - val_loss: 0.0419 - val_acc: 0.2459\n",
      "Epoch 29\n",
      "Train on 32383 samples, validate on 8096 samples\n",
      "Epoch 1/1\n",
      "6s - loss: 0.0426 - acc: 0.2939 - val_loss: 0.0421 - val_acc: 0.2355\n",
      "Epoch 30\n",
      "Train on 32383 samples, validate on 8096 samples\n",
      "Epoch 1/1\n",
      "5s - loss: 0.0425 - acc: 0.3022 - val_loss: 0.0430 - val_acc: 0.2579\n",
      "Epoch 31\n",
      "Train on 32383 samples, validate on 8096 samples\n",
      "Epoch 1/1\n",
      "6s - loss: 0.0421 - acc: 0.2998 - val_loss: 0.0415 - val_acc: 0.2412\n",
      "Epoch 32\n",
      "Train on 32383 samples, validate on 8096 samples\n",
      "Epoch 1/1\n",
      "5s - loss: 0.0417 - acc: 0.3163 - val_loss: 0.0413 - val_acc: 0.2428\n",
      "Epoch 33\n",
      "Train on 32383 samples, validate on 8096 samples\n",
      "Epoch 1/1\n",
      "5s - loss: 0.0415 - acc: 0.3313 - val_loss: 0.0417 - val_acc: 0.2643\n",
      "Epoch 34\n",
      "Train on 32383 samples, validate on 8096 samples\n",
      "Epoch 1/1\n",
      "6s - loss: 0.0412 - acc: 0.3317 - val_loss: 0.0413 - val_acc: 0.2462\n",
      "Epoch 35\n",
      "Train on 32383 samples, validate on 8096 samples\n",
      "Epoch 1/1\n",
      "6s - loss: 0.0412 - acc: 0.3407 - val_loss: 0.0402 - val_acc: 0.2559\n",
      "Epoch 36\n",
      "Train on 32383 samples, validate on 8096 samples\n",
      "Epoch 1/1\n",
      "5s - loss: 0.0405 - acc: 0.3318 - val_loss: 0.0400 - val_acc: 0.2668\n",
      "Epoch 37\n",
      "Train on 32383 samples, validate on 8096 samples\n",
      "Epoch 1/1\n",
      "5s - loss: 0.0406 - acc: 0.3407 - val_loss: 0.0401 - val_acc: 0.2609\n",
      "Epoch 38\n",
      "Train on 32383 samples, validate on 8096 samples\n",
      "Epoch 1/1\n",
      "5s - loss: 0.0400 - acc: 0.3450 - val_loss: 0.0410 - val_acc: 0.2657\n",
      "Epoch 39\n",
      "Train on 32383 samples, validate on 8096 samples\n",
      "Epoch 1/1\n",
      "5s - loss: 0.0399 - acc: 0.3486 - val_loss: 0.0396 - val_acc: 0.2811\n",
      "Done\n"
     ]
    }
   ],
   "source": [
    "epochs = 40\n",
    "loss = []\n",
    "val_loss = []\n",
    "f_score = []\n",
    "val_f_score = []\n",
    "for i in range(epochs):\n",
    "    print(\"Epoch %d\" % i)\n",
    "    history = model.fit(X_train, Y_train,\n",
    "              batch_size=256,\n",
    "              epochs=1,\n",
    "              verbose=2,\n",
    "              validation_data=(X_valid, Y_valid))\n",
    "    loss.append(history.history['loss'][0])\n",
    "    val_loss.append(history.history['val_loss'][0])\n",
    "\n",
    "    p_train = model.predict(X_train, batch_size=128)\n",
    "    p_valid = model.predict(X_valid, batch_size=128)\n",
    "    f_score.append(fbeta_score(Y_train, np.array(p_train) > 0.2, beta=2, average='samples'))\n",
    "    val_f_score.append(fbeta_score(Y_valid, np.array(p_valid) > 0.2, beta=2, average='samples'))\n",
    "print('Done')"
   ]
  },
  {
   "cell_type": "code",
   "execution_count": 9,
   "metadata": {
    "collapsed": false,
    "deletable": true,
    "editable": true
   },
   "outputs": [
    {
     "name": "stdout",
     "output_type": "stream",
     "text": [
      "Train f-beta score 0.891780\n",
      "Val f-beta score 0.879359\n"
     ]
    },
    {
     "data": {
      "image/png": "[encoded data removed]",
      "text/plain": [
       "<matplotlib.figure.Figure at 0x7fbba5051b10>"
      ]
     },
     "metadata": {},
     "output_type": "display_data"
    }
   ],
   "source": [
    "print(\"Train f-beta score %f\" % f_score[-1])\n",
    "print(\"Val f-beta score %f\" % val_f_score[-1])\n",
    "plt.plot(np.array(loss)*4)\n",
    "plt.plot(np.array(val_loss)*4)\n",
    "plt.plot(f_score)\n",
    "plt.plot(val_f_score)\n",
    "plt.legend(['loss', 'val_loss', 'f_score', 'val_f_score'], loc='right')\n",
    "plt.show()"
   ]
  },
  {
   "cell_type": "code",
   "execution_count": 10,
   "metadata": {
    "collapsed": true,
    "deletable": true,
    "editable": true
   },
   "outputs": [],
   "source": [
    "# model.save('starter_0.883.h5')"
   ]
  }
 ],
 "metadata": {
  "kernelspec": {
   "display_name": "Python 2",
   "language": "python",
   "name": "python2"
  },
  "language_info": {
   "codemirror_mode": {
    "name": "ipython",
    "version": 2
   },
   "file_extension": ".py",
   "mimetype": "text/x-python",
   "name": "python",
   "nbconvert_exporter": "python",
   "pygments_lexer": "ipython2",
   "version": "2.7.6"
  }
 },
 "nbformat": 4,
 "nbformat_minor": 2
}
