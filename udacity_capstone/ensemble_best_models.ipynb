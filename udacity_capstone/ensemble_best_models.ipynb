{
 "cells": [
  {
   "cell_type": "code",
   "execution_count": 1,
   "metadata": {
    "collapsed": true
   },
   "outputs": [],
   "source": [
    "import argparse\n",
    "import os, sys\n",
    "from utils.data_utils import *\n",
    "from glob import glob\n",
    "import pandas as pd\n",
    "import numpy as np\n",
    "import shutil\n",
    "from tqdm import tqdm\n",
    "%matplotlib inline  \n",
    "import matplotlib.pyplot as plt\n",
    "plt.rcParams[\"figure.figsize\"] = [12,9]\n",
    "pd.set_option('display.width', None)\n",
    "pd.set_option('display.max_colwidth', 100)\n",
    "pd.set_option('display.colheader_justify', 'left')"
   ]
  },
  {
   "cell_type": "code",
   "execution_count": 2,
   "metadata": {
    "collapsed": true
   },
   "outputs": [],
   "source": [
    "def get_data_dir(a, t):\n",
    "    if t:\n",
    "        if a:\n",
    "            data_dir = 'train_ex'\n",
    "        else:\n",
    "            data_dir = 'train'\n",
    "    else:\n",
    "        if a:\n",
    "            data_dir = 'valid_ex'\n",
    "        else:\n",
    "            data_dir = 'valid'\n",
    "    return data_dir\n",
    "\n",
    "def load_loss_df(l_dirs, augmented=False, train=False):\n",
    "    data_dir = get_data_dir(augmented, train)\n",
    "    dataframes = []\n",
    "    for d in l_dirs:\n",
    "        dataframes.append(pd.read_csv(os.path.join('predictions', data_dir, d, 'models.csv')))\n",
    "\n",
    "    df_l = pd.concat(dataframes, ignore_index=True)\n",
    "    return df_l\n",
    "\n",
    "def get_gt_name(a, t):\n",
    "    if t:\n",
    "        if a:\n",
    "            name = 'Y_train_augmented.npz'\n",
    "        else:\n",
    "            name = 'Y_train.npz'\n",
    "    else:\n",
    "        if a:\n",
    "            name = 'Y_valid_augmented.npz'\n",
    "        else:\n",
    "            name = 'Y_valid.npz'\n",
    "    return name\n",
    "\n",
    "def load_ground_truth(data_dir, augmented=False, train=False):\n",
    "    gt_name = get_gt_name(augmented, train)\n",
    "    y_true_path = os.path.join('augmented', data_dir, gt_name)\n",
    "    y_true = npz_to_ndarray(np.load(y_true_path))\n",
    "    return y_true\n",
    "\n",
    "def load_preds(df_loss):\n",
    "    preds = []\n",
    "    for npz_path in tqdm(df_loss.res_path):\n",
    "        p = npz_to_ndarray(np.load(npz_path))\n",
    "        preds.append(p)\n",
    "    return np.array(preds)\n",
    "\n",
    "def load_test_df(l_dirs):\n",
    "    dataframes = []\n",
    "    for d in l_dirs:\n",
    "        dataframes.append(pd.read_csv(os.path.join('test_predictions', d, 'models.csv')))\n",
    "\n",
    "    df_l = pd.concat(dataframes, ignore_index=True)\n",
    "    return df_l\n",
    "\n",
    "def get_labels():\n",
    "    labels = [\n",
    "        'slash_burn',\n",
    "        'clear',\n",
    "        'blooming',\n",
    "        'primary',\n",
    "        'cloudy',\n",
    "        'conventional_mine',\n",
    "        'water',\n",
    "        'haze',\n",
    "        'cultivation',\n",
    "        'partly_cloudy',\n",
    "        'artisinal_mine',\n",
    "        'habitation',\n",
    "        'bare_ground',\n",
    "        'blow_down',\n",
    "        'agriculture',\n",
    "        'road',\n",
    "        'selective_logging'\n",
    "    ]\n",
    "\n",
    "    l_map = {l: i for i, l in enumerate(labels)}\n",
    "    inv_map = {i: l for l, i in l_map.items()}\n",
    "    return labels, l_map, inv_map\n",
    "\n",
    "labels, label_map, inv_label_map = get_labels()\n",
    "\n",
    "def to_tagging(one_hot_data, inv_label_map):\n",
    "    res = pd.DataFrame(index=range(len(one_hot_data)), columns=['tags'])\n",
    "    for j in tqdm(range(len(one_hot_data))):\n",
    "        tags = []\n",
    "        for i in range(17):\n",
    "            if one_hot_data[j][i] == 1:\n",
    "                tags.append(inv_label_map[i])\n",
    "        res['tags'][j] = ' '.join(sorted(tags))\n",
    "    return res\n",
    "\n",
    "def get_test_df():\n",
    "    inputs_dir = 'inputs'\n",
    "    df_submission = pd.read_csv(os.path.join(inputs_dir, 'sample_submission_v2.csv'))\n",
    "    return df_submission\n",
    "\n",
    "def create_submission(pred, sufix):\n",
    "    print(\"Reading submission dataframe\")\n",
    "    df_submission = get_test_df()\n",
    "    print(\"Creating tags\")\n",
    "    p_tags = to_tagging(pred, inv_label_map)\n",
    "    df_submission.tags = p_tags.tags\n",
    "    submission_dir = os.path.join('submissions', 'ensemble_avg_test')\n",
    "    if not os.path.exists(submission_dir):\n",
    "        os.makedirs(submission_dir)\n",
    "        \n",
    "    file_name = 'submission_' + sufix + '.csv'\n",
    "    print(\"Saving submission to file\")\n",
    "    df_submission.to_csv(os.path.join(submission_dir, file_name), index=False)\n",
    "    print(\"%s created\" % os.path.join(submission_dir, file_name))\n",
    "    \n",
    "def val_idx_to_test(val_idx, df_test, df_valid):\n",
    "    res = [df_test[df_test.path == p].index[0] for p in df_valid.loc[val_idx].path]\n",
    "    if len(res) != len(val_idx):\n",
    "        missing_idx = -1\n",
    "        for i in val_idx:\n",
    "            if not df_valid.loc[i].path in list(df_test.path):\n",
    "                missing_idx = i\n",
    "        raise RuntimeError(\"Model %d not in the test dataframe\" % missing_idx)\n",
    "        \n",
    "    return res"
   ]
  },
  {
   "cell_type": "code",
   "execution_count": 23,
   "metadata": {},
   "outputs": [
    {
     "name": "stderr",
     "output_type": "stream",
     "text": [
      "  0%|          | 2/499 [00:00<00:28, 17.61it/s]"
     ]
    },
    {
     "name": "stdout",
     "output_type": "stream",
     "text": [
      "val dataframe size 499\n"
     ]
    },
    {
     "name": "stderr",
     "output_type": "stream",
     "text": [
      "100%|██████████| 499/499 [00:20<00:00, 24.34it/s]\n"
     ]
    },
    {
     "name": "stdout",
     "output_type": "stream",
     "text": [
      "val predictions shape (499, 64768, 17)\n"
     ]
    }
   ],
   "source": [
    "l_dirs = ['0.09']\n",
    "df_valid = load_loss_df(l_dirs, augmented=True, train=False)\n",
    "print(\"val dataframe size %d\" % len(df_valid))\n",
    "preds_valid = load_preds(df_valid)\n",
    "print(\"val predictions shape %s\" % str(preds_valid.shape))"
   ]
  },
  {
   "cell_type": "code",
   "execution_count": 34,
   "metadata": {},
   "outputs": [
    {
     "name": "stderr",
     "output_type": "stream",
     "text": [
      "  6%|▌         | 3/50 [00:00<00:02, 22.57it/s]"
     ]
    },
    {
     "name": "stdout",
     "output_type": "stream",
     "text": [
      "test dataframe size 50\n"
     ]
    },
    {
     "name": "stderr",
     "output_type": "stream",
     "text": [
      "100%|██████████| 50/50 [00:01<00:00, 36.93it/s]"
     ]
    },
    {
     "name": "stdout",
     "output_type": "stream",
     "text": [
      "val predictions shape (50, 61191, 17)\n"
     ]
    },
    {
     "name": "stderr",
     "output_type": "stream",
     "text": [
      "\n"
     ]
    }
   ],
   "source": [
    "df_test = load_test_df(l_dirs)\n",
    "print(\"test dataframe size %d\" % len(df_test))\n",
    "preds_test = load_preds(df_test)\n",
    "print(\"val predictions shape %s\" % str(preds_test.shape))"
   ]
  },
  {
   "cell_type": "code",
   "execution_count": 6,
   "metadata": {},
   "outputs": [
    {
     "name": "stdout",
     "output_type": "stream",
     "text": [
      "Y ground truth shape (64768, 17)\n"
     ]
    }
   ],
   "source": [
    "y_true_valid = load_ground_truth('train_augmented_size_128_mult_8_seed_0', augmented=True, train=False)\n",
    "print(\"Y ground truth shape %s\" % str(y_true_valid.shape))"
   ]
  },
  {
   "cell_type": "code",
   "execution_count": 7,
   "metadata": {
    "collapsed": true
   },
   "outputs": [],
   "source": [
    "def vote(preds):\n",
    "    return (preds.mean(axis=0) > 0.5).astype(int)\n",
    "\n",
    "epsilon = 0.00001\n",
    "def find_best_candidate(y_true, all_preds, ensemble):\n",
    "    best_avg_score = 0\n",
    "    best_candidate = None\n",
    "    ensemble_preds = [all_preds[j] for j in ensemble]\n",
    "    for i in tqdm(range(len(all_preds))):\n",
    "        preds = ensemble_preds + [all_preds[i]]\n",
    "        avg_pred = (np.mean(preds, axis=0) > 0.2).astype(int)\n",
    "        avg_score = fbeta_score(y_true, avg_pred, beta=2, average='samples')\n",
    "        if avg_score > best_avg_score:\n",
    "            best_avg_score = avg_score                \n",
    "            best_candidate = i          \n",
    "                \n",
    "    return best_candidate, best_avg_score\n",
    "\n",
    "def optimize_score(y_true, preds, init_ensemble = [], exclude = []):\n",
    "    best_ensemble = init_ensemble[:]\n",
    "    best_score = 0\n",
    "    scores = []\n",
    "    counter = 0\n",
    "    while True:\n",
    "        best_candidate, ens_score = find_best_candidate(y_true, preds, ensemble=best_ensemble)\n",
    "        sys.stdout.flush()\n",
    "            \n",
    "        if ens_score > (best_score + epsilon):\n",
    "            best_ensemble.append(best_candidate)\n",
    "            print(\"%d: Best candidate model is %d with improvement of %.5f\" % (counter, best_candidate, ens_score-best_score))\n",
    "            print(\"%d: Best ensemble %s\" % (counter, best_ensemble))\n",
    "            print(\"%d: New ensemble score %.5f\" % (counter, ens_score))\n",
    "            scores.append(ens_score)\n",
    "            best_score = ens_score\n",
    "            counter+=1\n",
    "        else:\n",
    "            print(\"Can't optimize any more\")\n",
    "            break\n",
    "    \n",
    "    return best_ensemble, scores"
   ]
  },
  {
   "cell_type": "code",
   "execution_count": 10,
   "metadata": {
    "collapsed": true
   },
   "outputs": [],
   "source": [
    "def optimize_with_split(n_splits, preds_in, y_true):\n",
    "    preds = preds_in.copy()\n",
    "\n",
    "    counter = 0\n",
    "    bag_size = len(preds)/n_splits\n",
    "    last_bag_size = len(preds) - bag_size*(n_splits-1)\n",
    "    print(\"Split to bas of %d where last %d\" % (bag_size, last_bag_size))\n",
    "\n",
    "    all_ensembles = []\n",
    "    all_scores = []\n",
    "    orig_idxes = np.arange(len(preds))\n",
    "    curr_idxes = orig_idxes.copy()\n",
    "    while len(curr_idxes) > 0:\n",
    "        print(\"Optimizing bag %d\" % counter)\n",
    "        selection = np.random.choice(curr_idxes, replace=False, \\\n",
    "                                     size=(bag_size if len(curr_idxes) > last_bag_size else last_bag_size))\n",
    "\n",
    "        p = preds[selection]\n",
    "        ensemble, scores = optimize_score(y_true, p)\n",
    "        all_ensembles.append(selection[ensemble])\n",
    "        all_scores.append(scores)\n",
    "        curr_idxes = curr_idxes[[i not in selection for i in curr_idxes]]\n",
    "        counter+=1\n",
    "\n",
    "    best_scores = [slist[-1] for slist in all_scores]\n",
    "    print(best_scores)\n",
    "    print(\"Average score %.5f\" % np.mean(best_scores))\n",
    "    \n",
    "    return all_ensembles, all_scores"
   ]
  },
  {
   "cell_type": "code",
   "execution_count": 18,
   "metadata": {
    "scrolled": true
   },
   "outputs": [
    {
     "name": "stdout",
     "output_type": "stream",
     "text": [
      "\n",
      "Iteration 0\n",
      "Split to bas of 166 where last 166\n",
      "Optimizing bag 0\n"
     ]
    },
    {
     "name": "stderr",
     "output_type": "stream",
     "text": [
      "100%|██████████| 166/166 [00:13<00:00, 12.54it/s]\n",
      "  1%|          | 2/166 [00:00<00:11, 14.05it/s]"
     ]
    },
    {
     "name": "stdout",
     "output_type": "stream",
     "text": [
      "0: Best candidate model is 69 with improvement of 0.92802\n",
      "0: Best ensemble [69]\n",
      "0: New ensemble score 0.92802\n"
     ]
    },
    {
     "name": "stderr",
     "output_type": "stream",
     "text": [
      "100%|██████████| 166/166 [00:11<00:00, 14.06it/s]\n",
      "  1%|          | 2/166 [00:00<00:12, 13.04it/s]"
     ]
    },
    {
     "name": "stdout",
     "output_type": "stream",
     "text": [
      "1: Best candidate model is 133 with improvement of 0.00189\n",
      "1: Best ensemble [69, 133]\n",
      "1: New ensemble score 0.92991\n"
     ]
    },
    {
     "name": "stderr",
     "output_type": "stream",
     "text": [
      "100%|██████████| 166/166 [00:12<00:00, 13.84it/s]\n",
      "  1%|          | 2/166 [00:00<00:12, 13.28it/s]"
     ]
    },
    {
     "name": "stdout",
     "output_type": "stream",
     "text": [
      "2: Best candidate model is 124 with improvement of 0.00138\n",
      "2: Best ensemble [69, 133, 124]\n",
      "2: New ensemble score 0.93129\n"
     ]
    },
    {
     "name": "stderr",
     "output_type": "stream",
     "text": [
      "100%|██████████| 166/166 [00:12<00:00, 13.18it/s]\n",
      "  1%|          | 1/166 [00:00<00:23,  7.05it/s]"
     ]
    },
    {
     "name": "stdout",
     "output_type": "stream",
     "text": [
      "3: Best candidate model is 101 with improvement of 0.00057\n",
      "3: Best ensemble [69, 133, 124, 101]\n",
      "3: New ensemble score 0.93186\n"
     ]
    },
    {
     "name": "stderr",
     "output_type": "stream",
     "text": [
      "100%|██████████| 166/166 [00:12<00:00, 13.13it/s]\n",
      "  1%|          | 2/166 [00:00<00:12, 13.00it/s]"
     ]
    },
    {
     "name": "stdout",
     "output_type": "stream",
     "text": [
      "4: Best candidate model is 109 with improvement of 0.00027\n",
      "4: Best ensemble [69, 133, 124, 101, 109]\n",
      "4: New ensemble score 0.93213\n"
     ]
    },
    {
     "name": "stderr",
     "output_type": "stream",
     "text": [
      "100%|██████████| 166/166 [00:12<00:00, 12.98it/s]\n",
      "  1%|          | 2/166 [00:00<00:12, 12.76it/s]"
     ]
    },
    {
     "name": "stdout",
     "output_type": "stream",
     "text": [
      "5: Best candidate model is 15 with improvement of 0.00030\n",
      "5: Best ensemble [69, 133, 124, 101, 109, 15]\n",
      "5: New ensemble score 0.93243\n"
     ]
    },
    {
     "name": "stderr",
     "output_type": "stream",
     "text": [
      "100%|██████████| 166/166 [00:12<00:00, 12.82it/s]\n",
      "  1%|          | 1/166 [00:00<00:26,  6.32it/s]"
     ]
    },
    {
     "name": "stdout",
     "output_type": "stream",
     "text": [
      "6: Best candidate model is 159 with improvement of 0.00032\n",
      "6: Best ensemble [69, 133, 124, 101, 109, 15, 159]\n",
      "6: New ensemble score 0.93275\n"
     ]
    },
    {
     "name": "stderr",
     "output_type": "stream",
     "text": [
      "100%|██████████| 166/166 [00:14<00:00, 11.80it/s]\n",
      "  1%|          | 2/166 [00:00<00:13, 11.98it/s]"
     ]
    },
    {
     "name": "stdout",
     "output_type": "stream",
     "text": [
      "7: Best candidate model is 10 with improvement of 0.00008\n",
      "7: Best ensemble [69, 133, 124, 101, 109, 15, 159, 10]\n",
      "7: New ensemble score 0.93282\n"
     ]
    },
    {
     "name": "stderr",
     "output_type": "stream",
     "text": [
      "100%|██████████| 166/166 [00:13<00:00, 11.85it/s]\n"
     ]
    },
    {
     "name": "stdout",
     "output_type": "stream",
     "text": [
      "Can't optimize any more\n",
      "Optimizing bag 1\n"
     ]
    },
    {
     "name": "stderr",
     "output_type": "stream",
     "text": [
      "100%|██████████| 166/166 [00:12<00:00, 13.19it/s]\n",
      "  1%|          | 1/166 [00:00<00:23,  7.13it/s]"
     ]
    },
    {
     "name": "stdout",
     "output_type": "stream",
     "text": [
      "0: Best candidate model is 115 with improvement of 0.92763\n",
      "0: Best ensemble [115]\n",
      "0: New ensemble score 0.92763\n"
     ]
    },
    {
     "name": "stderr",
     "output_type": "stream",
     "text": [
      "100%|██████████| 166/166 [00:12<00:00, 13.63it/s]\n",
      "  1%|          | 1/166 [00:00<00:23,  7.05it/s]"
     ]
    },
    {
     "name": "stdout",
     "output_type": "stream",
     "text": [
      "1: Best candidate model is 116 with improvement of 0.00284\n",
      "1: Best ensemble [115, 116]\n",
      "1: New ensemble score 0.93047\n"
     ]
    },
    {
     "name": "stderr",
     "output_type": "stream",
     "text": [
      "100%|██████████| 166/166 [00:12<00:00, 13.47it/s]\n",
      "  1%|          | 2/166 [00:00<00:12, 12.99it/s]"
     ]
    },
    {
     "name": "stdout",
     "output_type": "stream",
     "text": [
      "2: Best candidate model is 64 with improvement of 0.00093\n",
      "2: Best ensemble [115, 116, 64]\n",
      "2: New ensemble score 0.93139\n"
     ]
    },
    {
     "name": "stderr",
     "output_type": "stream",
     "text": [
      "100%|██████████| 166/166 [00:12<00:00, 13.68it/s]\n",
      "  1%|          | 2/166 [00:00<00:12, 13.45it/s]"
     ]
    },
    {
     "name": "stdout",
     "output_type": "stream",
     "text": [
      "3: Best candidate model is 15 with improvement of 0.00066\n",
      "3: Best ensemble [115, 116, 64, 15]\n",
      "3: New ensemble score 0.93206\n"
     ]
    },
    {
     "name": "stderr",
     "output_type": "stream",
     "text": [
      "100%|██████████| 166/166 [00:12<00:00, 13.40it/s]\n",
      "  1%|          | 1/166 [00:00<00:26,  6.24it/s]"
     ]
    },
    {
     "name": "stdout",
     "output_type": "stream",
     "text": [
      "4: Best candidate model is 23 with improvement of 0.00014\n",
      "4: Best ensemble [115, 116, 64, 15, 23]\n",
      "4: New ensemble score 0.93219\n"
     ]
    },
    {
     "name": "stderr",
     "output_type": "stream",
     "text": [
      "100%|██████████| 166/166 [00:13<00:00, 12.75it/s]\n",
      "  1%|          | 2/166 [00:00<00:12, 12.78it/s]"
     ]
    },
    {
     "name": "stdout",
     "output_type": "stream",
     "text": [
      "5: Best candidate model is 165 with improvement of 0.00028\n",
      "5: Best ensemble [115, 116, 64, 15, 23, 165]\n",
      "5: New ensemble score 0.93247\n"
     ]
    },
    {
     "name": "stderr",
     "output_type": "stream",
     "text": [
      "100%|██████████| 166/166 [00:12<00:00, 12.83it/s]\n",
      "  1%|          | 1/166 [00:00<00:24,  6.82it/s]"
     ]
    },
    {
     "name": "stdout",
     "output_type": "stream",
     "text": [
      "6: Best candidate model is 153 with improvement of 0.00019\n",
      "6: Best ensemble [115, 116, 64, 15, 23, 165, 153]\n",
      "6: New ensemble score 0.93266\n"
     ]
    },
    {
     "name": "stderr",
     "output_type": "stream",
     "text": [
      "100%|██████████| 166/166 [00:13<00:00, 12.53it/s]\n",
      "  1%|          | 2/166 [00:00<00:13, 12.50it/s]"
     ]
    },
    {
     "name": "stdout",
     "output_type": "stream",
     "text": [
      "7: Best candidate model is 5 with improvement of 0.00007\n",
      "7: Best ensemble [115, 116, 64, 15, 23, 165, 153, 5]\n",
      "7: New ensemble score 0.93273\n"
     ]
    },
    {
     "name": "stderr",
     "output_type": "stream",
     "text": [
      "100%|██████████| 166/166 [00:14<00:00, 11.71it/s]\n",
      "  1%|          | 2/166 [00:00<00:13, 11.89it/s]"
     ]
    },
    {
     "name": "stdout",
     "output_type": "stream",
     "text": [
      "8: Best candidate model is 128 with improvement of 0.00015\n",
      "8: Best ensemble [115, 116, 64, 15, 23, 165, 153, 5, 128]\n",
      "8: New ensemble score 0.93289\n"
     ]
    },
    {
     "name": "stderr",
     "output_type": "stream",
     "text": [
      "100%|██████████| 166/166 [00:14<00:00, 11.78it/s]\n",
      "  1%|          | 1/166 [00:00<00:27,  6.10it/s]"
     ]
    },
    {
     "name": "stdout",
     "output_type": "stream",
     "text": [
      "9: Best candidate model is 115 with improvement of 0.00008\n",
      "9: Best ensemble [115, 116, 64, 15, 23, 165, 153, 5, 128, 115]\n",
      "9: New ensemble score 0.93296\n"
     ]
    },
    {
     "name": "stderr",
     "output_type": "stream",
     "text": [
      "100%|██████████| 166/166 [00:15<00:00, 10.86it/s]\n",
      "  1%|          | 2/166 [00:00<00:13, 11.92it/s]"
     ]
    },
    {
     "name": "stdout",
     "output_type": "stream",
     "text": [
      "10: Best candidate model is 97 with improvement of 0.00009\n",
      "10: Best ensemble [115, 116, 64, 15, 23, 165, 153, 5, 128, 115, 97]\n",
      "10: New ensemble score 0.93305\n"
     ]
    },
    {
     "name": "stderr",
     "output_type": "stream",
     "text": [
      "100%|██████████| 166/166 [00:14<00:00, 11.38it/s]\n",
      "  1%|          | 2/166 [00:00<00:13, 11.80it/s]"
     ]
    },
    {
     "name": "stdout",
     "output_type": "stream",
     "text": [
      "11: Best candidate model is 46 with improvement of 0.00005\n",
      "11: Best ensemble [115, 116, 64, 15, 23, 165, 153, 5, 128, 115, 97, 46]\n",
      "11: New ensemble score 0.93310\n"
     ]
    },
    {
     "name": "stderr",
     "output_type": "stream",
     "text": [
      "100%|██████████| 166/166 [00:14<00:00, 11.12it/s]\n",
      "  1%|          | 1/166 [00:00<00:17,  9.68it/s]"
     ]
    },
    {
     "name": "stdout",
     "output_type": "stream",
     "text": [
      "12: Best candidate model is 159 with improvement of 0.00009\n",
      "12: Best ensemble [115, 116, 64, 15, 23, 165, 153, 5, 128, 115, 97, 46, 159]\n",
      "12: New ensemble score 0.93319\n"
     ]
    },
    {
     "name": "stderr",
     "output_type": "stream",
     "text": [
      "100%|██████████| 166/166 [00:16<00:00, 10.30it/s]\n"
     ]
    },
    {
     "name": "stdout",
     "output_type": "stream",
     "text": [
      "Can't optimize any more\n",
      "Optimizing bag 2\n"
     ]
    },
    {
     "name": "stderr",
     "output_type": "stream",
     "text": [
      "100%|██████████| 166/166 [00:11<00:00, 14.34it/s]\n",
      "  1%|          | 2/166 [00:00<00:12, 13.54it/s]"
     ]
    },
    {
     "name": "stdout",
     "output_type": "stream",
     "text": [
      "0: Best candidate model is 89 with improvement of 0.92613\n",
      "0: Best ensemble [89]\n",
      "0: New ensemble score 0.92613\n"
     ]
    },
    {
     "name": "stderr",
     "output_type": "stream",
     "text": [
      "100%|██████████| 166/166 [00:11<00:00, 14.07it/s]\n",
      "  1%|          | 1/166 [00:00<00:26,  6.34it/s]"
     ]
    },
    {
     "name": "stdout",
     "output_type": "stream",
     "text": [
      "1: Best candidate model is 26 with improvement of 0.00365\n",
      "1: Best ensemble [89, 26]\n",
      "1: New ensemble score 0.92978\n"
     ]
    },
    {
     "name": "stderr",
     "output_type": "stream",
     "text": [
      "100%|██████████| 166/166 [00:12<00:00, 13.83it/s]\n",
      "  1%|          | 2/166 [00:00<00:12, 13.38it/s]"
     ]
    },
    {
     "name": "stdout",
     "output_type": "stream",
     "text": [
      "2: Best candidate model is 24 with improvement of 0.00167\n",
      "2: Best ensemble [89, 26, 24]\n",
      "2: New ensemble score 0.93145\n"
     ]
    },
    {
     "name": "stderr",
     "output_type": "stream",
     "text": [
      "100%|██████████| 166/166 [00:12<00:00, 13.47it/s]\n",
      "  1%|          | 2/166 [00:00<00:12, 13.19it/s]"
     ]
    },
    {
     "name": "stdout",
     "output_type": "stream",
     "text": [
      "3: Best candidate model is 48 with improvement of 0.00066\n",
      "3: Best ensemble [89, 26, 24, 48]\n",
      "3: New ensemble score 0.93210\n"
     ]
    },
    {
     "name": "stderr",
     "output_type": "stream",
     "text": [
      "100%|██████████| 166/166 [00:12<00:00, 13.32it/s]\n",
      "  1%|          | 2/166 [00:00<00:12, 13.03it/s]"
     ]
    },
    {
     "name": "stdout",
     "output_type": "stream",
     "text": [
      "4: Best candidate model is 98 with improvement of 0.00021\n",
      "4: Best ensemble [89, 26, 24, 48, 98]\n",
      "4: New ensemble score 0.93231\n"
     ]
    },
    {
     "name": "stderr",
     "output_type": "stream",
     "text": [
      "100%|██████████| 166/166 [00:12<00:00, 13.03it/s]\n",
      "  1%|          | 2/166 [00:00<00:12, 12.86it/s]"
     ]
    },
    {
     "name": "stdout",
     "output_type": "stream",
     "text": [
      "5: Best candidate model is 115 with improvement of 0.00029\n",
      "5: Best ensemble [89, 26, 24, 48, 98, 115]\n",
      "5: New ensemble score 0.93260\n"
     ]
    },
    {
     "name": "stderr",
     "output_type": "stream",
     "text": [
      "100%|██████████| 166/166 [00:13<00:00, 11.07it/s]\n",
      "  1%|          | 2/166 [00:00<00:14, 11.18it/s]"
     ]
    },
    {
     "name": "stdout",
     "output_type": "stream",
     "text": [
      "6: Best candidate model is 37 with improvement of 0.00032\n",
      "6: Best ensemble [89, 26, 24, 48, 98, 115, 37]\n",
      "6: New ensemble score 0.93292\n"
     ]
    },
    {
     "name": "stderr",
     "output_type": "stream",
     "text": [
      "100%|██████████| 166/166 [00:13<00:00, 12.22it/s]\n"
     ]
    },
    {
     "name": "stdout",
     "output_type": "stream",
     "text": [
      "Can't optimize any more\n",
      "[0.93282496466409714, 0.93318993130235728, 0.93291977901832968]\n",
      "Average score 0.93298\n",
      "\n",
      "Iteration 1\n",
      "Split to bas of 166 where last 166\n",
      "Optimizing bag 0\n"
     ]
    },
    {
     "name": "stderr",
     "output_type": "stream",
     "text": [
      "100%|██████████| 166/166 [00:11<00:00, 14.35it/s]\n",
      "  1%|          | 2/166 [00:00<00:11, 13.74it/s]"
     ]
    },
    {
     "name": "stdout",
     "output_type": "stream",
     "text": [
      "0: Best candidate model is 123 with improvement of 0.92802\n",
      "0: Best ensemble [123]\n",
      "0: New ensemble score 0.92802\n"
     ]
    },
    {
     "name": "stderr",
     "output_type": "stream",
     "text": [
      "100%|██████████| 166/166 [00:12<00:00, 14.10it/s]\n",
      "  1%|          | 2/166 [00:00<00:12, 13.54it/s]"
     ]
    },
    {
     "name": "stdout",
     "output_type": "stream",
     "text": [
      "1: Best candidate model is 78 with improvement of 0.00215\n",
      "1: Best ensemble [123, 78]\n",
      "1: New ensemble score 0.93017\n"
     ]
    },
    {
     "name": "stderr",
     "output_type": "stream",
     "text": [
      "100%|██████████| 166/166 [00:12<00:00, 13.43it/s]\n",
      "  1%|          | 2/166 [00:00<00:12, 13.06it/s]"
     ]
    },
    {
     "name": "stdout",
     "output_type": "stream",
     "text": [
      "2: Best candidate model is 71 with improvement of 0.00112\n",
      "2: Best ensemble [123, 78, 71]\n",
      "2: New ensemble score 0.93129\n"
     ]
    },
    {
     "name": "stderr",
     "output_type": "stream",
     "text": [
      "100%|██████████| 166/166 [00:13<00:00, 13.56it/s]\n",
      "  1%|          | 1/166 [00:00<00:24,  6.80it/s]"
     ]
    },
    {
     "name": "stdout",
     "output_type": "stream",
     "text": [
      "3: Best candidate model is 74 with improvement of 0.00056\n",
      "3: Best ensemble [123, 78, 71, 74]\n",
      "3: New ensemble score 0.93186\n"
     ]
    },
    {
     "name": "stderr",
     "output_type": "stream",
     "text": [
      "100%|██████████| 166/166 [00:13<00:00, 12.41it/s]\n",
      "  1%|          | 1/166 [00:00<00:24,  6.81it/s]"
     ]
    },
    {
     "name": "stdout",
     "output_type": "stream",
     "text": [
      "4: Best candidate model is 24 with improvement of 0.00055\n",
      "4: Best ensemble [123, 78, 71, 74, 24]\n",
      "4: New ensemble score 0.93240\n"
     ]
    },
    {
     "name": "stderr",
     "output_type": "stream",
     "text": [
      "100%|██████████| 166/166 [00:13<00:00, 13.26it/s]\n",
      "  1%|          | 2/166 [00:00<00:13, 12.21it/s]"
     ]
    },
    {
     "name": "stdout",
     "output_type": "stream",
     "text": [
      "5: Best candidate model is 33 with improvement of 0.00032\n",
      "5: Best ensemble [123, 78, 71, 74, 24, 33]\n",
      "5: New ensemble score 0.93272\n"
     ]
    },
    {
     "name": "stderr",
     "output_type": "stream",
     "text": [
      "100%|██████████| 166/166 [00:13<00:00, 12.61it/s]\n",
      "  1%|          | 1/166 [00:00<00:24,  6.63it/s]"
     ]
    },
    {
     "name": "stdout",
     "output_type": "stream",
     "text": [
      "6: Best candidate model is 149 with improvement of 0.00009\n",
      "6: Best ensemble [123, 78, 71, 74, 24, 33, 149]\n",
      "6: New ensemble score 0.93282\n"
     ]
    },
    {
     "name": "stderr",
     "output_type": "stream",
     "text": [
      "100%|██████████| 166/166 [00:14<00:00, 11.15it/s]\n",
      "  1%|          | 1/166 [00:00<00:22,  7.31it/s]"
     ]
    },
    {
     "name": "stdout",
     "output_type": "stream",
     "text": [
      "7: Best candidate model is 142 with improvement of 0.00010\n",
      "7: Best ensemble [123, 78, 71, 74, 24, 33, 149, 142]\n",
      "7: New ensemble score 0.93291\n"
     ]
    },
    {
     "name": "stderr",
     "output_type": "stream",
     "text": [
      "100%|██████████| 166/166 [00:14<00:00, 11.18it/s]\n",
      "  1%|          | 1/166 [00:00<00:25,  6.58it/s]"
     ]
    },
    {
     "name": "stdout",
     "output_type": "stream",
     "text": [
      "8: Best candidate model is 116 with improvement of 0.00012\n",
      "8: Best ensemble [123, 78, 71, 74, 24, 33, 149, 142, 116]\n",
      "8: New ensemble score 0.93304\n"
     ]
    },
    {
     "name": "stderr",
     "output_type": "stream",
     "text": [
      "100%|██████████| 166/166 [00:15<00:00, 10.55it/s]\n",
      "  1%|          | 2/166 [00:00<00:13, 11.77it/s]"
     ]
    },
    {
     "name": "stdout",
     "output_type": "stream",
     "text": [
      "9: Best candidate model is 90 with improvement of 0.00006\n",
      "9: Best ensemble [123, 78, 71, 74, 24, 33, 149, 142, 116, 90]\n",
      "9: New ensemble score 0.93309\n"
     ]
    },
    {
     "name": "stderr",
     "output_type": "stream",
     "text": [
      "100%|██████████| 166/166 [00:14<00:00, 11.13it/s]\n",
      "  1%|          | 2/166 [00:00<00:13, 11.96it/s]"
     ]
    },
    {
     "name": "stdout",
     "output_type": "stream",
     "text": [
      "10: Best candidate model is 98 with improvement of 0.00008\n",
      "10: Best ensemble [123, 78, 71, 74, 24, 33, 149, 142, 116, 90, 98]\n",
      "10: New ensemble score 0.93318\n"
     ]
    },
    {
     "name": "stderr",
     "output_type": "stream",
     "text": [
      "100%|██████████| 166/166 [00:14<00:00, 11.31it/s]\n",
      "  1%|          | 2/166 [00:00<00:13, 11.72it/s]"
     ]
    },
    {
     "name": "stdout",
     "output_type": "stream",
     "text": [
      "11: Best candidate model is 71 with improvement of 0.00012\n",
      "11: Best ensemble [123, 78, 71, 74, 24, 33, 149, 142, 116, 90, 98, 71]\n",
      "11: New ensemble score 0.93330\n"
     ]
    },
    {
     "name": "stderr",
     "output_type": "stream",
     "text": [
      "100%|██████████| 166/166 [00:14<00:00, 11.02it/s]\n",
      "  1%|          | 1/166 [00:00<00:17,  9.60it/s]"
     ]
    },
    {
     "name": "stdout",
     "output_type": "stream",
     "text": [
      "12: Best candidate model is 140 with improvement of 0.00001\n",
      "12: Best ensemble [123, 78, 71, 74, 24, 33, 149, 142, 116, 90, 98, 71, 140]\n",
      "12: New ensemble score 0.93331\n"
     ]
    },
    {
     "name": "stderr",
     "output_type": "stream",
     "text": [
      "100%|██████████| 166/166 [00:16<00:00, 10.03it/s]\n",
      "  1%|          | 1/166 [00:00<00:17,  9.59it/s]"
     ]
    },
    {
     "name": "stdout",
     "output_type": "stream",
     "text": [
      "13: Best candidate model is 54 with improvement of 0.00002\n",
      "13: Best ensemble [123, 78, 71, 74, 24, 33, 149, 142, 116, 90, 98, 71, 140, 54]\n",
      "13: New ensemble score 0.93333\n"
     ]
    },
    {
     "name": "stderr",
     "output_type": "stream",
     "text": [
      "100%|██████████| 166/166 [00:17<00:00,  9.80it/s]\n"
     ]
    },
    {
     "name": "stdout",
     "output_type": "stream",
     "text": [
      "Can't optimize any more\n",
      "Optimizing bag 1\n"
     ]
    },
    {
     "name": "stderr",
     "output_type": "stream",
     "text": [
      "100%|██████████| 166/166 [00:11<00:00, 14.37it/s]\n",
      "  1%|          | 1/166 [00:00<00:23,  7.04it/s]"
     ]
    },
    {
     "name": "stdout",
     "output_type": "stream",
     "text": [
      "0: Best candidate model is 13 with improvement of 0.92763\n",
      "0: Best ensemble [13]\n",
      "0: New ensemble score 0.92763\n"
     ]
    },
    {
     "name": "stderr",
     "output_type": "stream",
     "text": [
      "100%|██████████| 166/166 [00:12<00:00, 13.44it/s]\n",
      "  1%|          | 2/166 [00:00<00:12, 13.03it/s]"
     ]
    },
    {
     "name": "stdout",
     "output_type": "stream",
     "text": [
      "1: Best candidate model is 111 with improvement of 0.00251\n",
      "1: Best ensemble [13, 111]\n",
      "1: New ensemble score 0.93014\n"
     ]
    },
    {
     "name": "stderr",
     "output_type": "stream",
     "text": [
      "100%|██████████| 166/166 [00:12<00:00, 13.84it/s]\n",
      "  1%|          | 1/166 [00:00<00:23,  6.93it/s]"
     ]
    },
    {
     "name": "stdout",
     "output_type": "stream",
     "text": [
      "2: Best candidate model is 142 with improvement of 0.00105\n",
      "2: Best ensemble [13, 111, 142]\n",
      "2: New ensemble score 0.93119\n"
     ]
    },
    {
     "name": "stderr",
     "output_type": "stream",
     "text": [
      "100%|██████████| 166/166 [00:12<00:00, 12.97it/s]\n",
      "  1%|          | 1/166 [00:00<00:24,  6.62it/s]"
     ]
    },
    {
     "name": "stdout",
     "output_type": "stream",
     "text": [
      "3: Best candidate model is 122 with improvement of 0.00051\n",
      "3: Best ensemble [13, 111, 142, 122]\n",
      "3: New ensemble score 0.93170\n"
     ]
    },
    {
     "name": "stderr",
     "output_type": "stream",
     "text": [
      "100%|██████████| 166/166 [00:12<00:00, 13.12it/s]\n",
      "  1%|          | 1/166 [00:00<00:24,  6.83it/s]"
     ]
    },
    {
     "name": "stdout",
     "output_type": "stream",
     "text": [
      "4: Best candidate model is 13 with improvement of 0.00020\n",
      "4: Best ensemble [13, 111, 142, 122, 13]\n",
      "4: New ensemble score 0.93190\n"
     ]
    },
    {
     "name": "stderr",
     "output_type": "stream",
     "text": [
      "100%|██████████| 166/166 [00:12<00:00, 12.77it/s]\n",
      "  1%|          | 1/166 [00:00<00:21,  7.82it/s]"
     ]
    },
    {
     "name": "stdout",
     "output_type": "stream",
     "text": [
      "5: Best candidate model is 103 with improvement of 0.00032\n",
      "5: Best ensemble [13, 111, 142, 122, 13, 103]\n",
      "5: New ensemble score 0.93222\n"
     ]
    },
    {
     "name": "stderr",
     "output_type": "stream",
     "text": [
      "100%|██████████| 166/166 [00:13<00:00, 11.39it/s]\n",
      "  1%|          | 1/166 [00:00<00:23,  6.94it/s]"
     ]
    },
    {
     "name": "stdout",
     "output_type": "stream",
     "text": [
      "6: Best candidate model is 22 with improvement of 0.00027\n",
      "6: Best ensemble [13, 111, 142, 122, 13, 103, 22]\n",
      "6: New ensemble score 0.93249\n"
     ]
    },
    {
     "name": "stderr",
     "output_type": "stream",
     "text": [
      "100%|██████████| 166/166 [00:14<00:00, 11.65it/s]\n",
      "  1%|          | 2/166 [00:00<00:14, 11.71it/s]"
     ]
    },
    {
     "name": "stdout",
     "output_type": "stream",
     "text": [
      "7: Best candidate model is 93 with improvement of 0.00014\n",
      "7: Best ensemble [13, 111, 142, 122, 13, 103, 22, 93]\n",
      "7: New ensemble score 0.93263\n"
     ]
    },
    {
     "name": "stderr",
     "output_type": "stream",
     "text": [
      "100%|██████████| 166/166 [00:14<00:00, 11.43it/s]\n",
      "  1%|          | 2/166 [00:00<00:14, 11.58it/s]"
     ]
    },
    {
     "name": "stdout",
     "output_type": "stream",
     "text": [
      "8: Best candidate model is 108 with improvement of 0.00001\n",
      "8: Best ensemble [13, 111, 142, 122, 13, 103, 22, 93, 108]\n",
      "8: New ensemble score 0.93264\n"
     ]
    },
    {
     "name": "stderr",
     "output_type": "stream",
     "text": [
      "100%|██████████| 166/166 [00:14<00:00, 11.70it/s]\n",
      "  1%|          | 1/166 [00:00<00:25,  6.44it/s]"
     ]
    },
    {
     "name": "stdout",
     "output_type": "stream",
     "text": [
      "9: Best candidate model is 4 with improvement of 0.00008\n",
      "9: Best ensemble [13, 111, 142, 122, 13, 103, 22, 93, 108, 4]\n",
      "9: New ensemble score 0.93272\n"
     ]
    },
    {
     "name": "stderr",
     "output_type": "stream",
     "text": [
      "100%|██████████| 166/166 [00:14<00:00, 11.26it/s]\n"
     ]
    },
    {
     "name": "stdout",
     "output_type": "stream",
     "text": [
      "Can't optimize any more\n",
      "Optimizing bag 2\n"
     ]
    },
    {
     "name": "stderr",
     "output_type": "stream",
     "text": [
      "100%|██████████| 166/166 [00:11<00:00, 14.31it/s]\n",
      "  1%|          | 2/166 [00:00<00:11, 13.83it/s]"
     ]
    },
    {
     "name": "stdout",
     "output_type": "stream",
     "text": [
      "0: Best candidate model is 8 with improvement of 0.92691\n",
      "0: Best ensemble [8]\n",
      "0: New ensemble score 0.92691\n"
     ]
    },
    {
     "name": "stderr",
     "output_type": "stream",
     "text": [
      "100%|██████████| 166/166 [00:11<00:00, 14.07it/s]\n",
      "  1%|          | 1/166 [00:00<00:23,  6.91it/s]"
     ]
    },
    {
     "name": "stdout",
     "output_type": "stream",
     "text": [
      "1: Best candidate model is 0 with improvement of 0.00355\n",
      "1: Best ensemble [8, 0]\n",
      "1: New ensemble score 0.93046\n"
     ]
    },
    {
     "name": "stderr",
     "output_type": "stream",
     "text": [
      "100%|██████████| 166/166 [00:12<00:00, 13.80it/s]\n",
      "  1%|          | 2/166 [00:00<00:12, 13.43it/s]"
     ]
    },
    {
     "name": "stdout",
     "output_type": "stream",
     "text": [
      "2: Best candidate model is 113 with improvement of 0.00098\n",
      "2: Best ensemble [8, 0, 113]\n",
      "2: New ensemble score 0.93143\n"
     ]
    },
    {
     "name": "stderr",
     "output_type": "stream",
     "text": [
      "100%|██████████| 166/166 [00:12<00:00, 13.48it/s]\n",
      "  1%|          | 2/166 [00:00<00:12, 13.27it/s]"
     ]
    },
    {
     "name": "stdout",
     "output_type": "stream",
     "text": [
      "3: Best candidate model is 40 with improvement of 0.00037\n",
      "3: Best ensemble [8, 0, 113, 40]\n",
      "3: New ensemble score 0.93180\n"
     ]
    },
    {
     "name": "stderr",
     "output_type": "stream",
     "text": [
      "100%|██████████| 166/166 [00:12<00:00, 13.36it/s]\n",
      "  1%|          | 2/166 [00:00<00:12, 13.00it/s]"
     ]
    },
    {
     "name": "stdout",
     "output_type": "stream",
     "text": [
      "4: Best candidate model is 80 with improvement of 0.00043\n",
      "4: Best ensemble [8, 0, 113, 40, 80]\n",
      "4: New ensemble score 0.93223\n"
     ]
    },
    {
     "name": "stderr",
     "output_type": "stream",
     "text": [
      "100%|██████████| 166/166 [00:12<00:00, 12.90it/s]\n",
      "  1%|          | 2/166 [00:00<00:12, 12.80it/s]"
     ]
    },
    {
     "name": "stdout",
     "output_type": "stream",
     "text": [
      "5: Best candidate model is 123 with improvement of 0.00023\n",
      "5: Best ensemble [8, 0, 113, 40, 80, 123]\n",
      "5: New ensemble score 0.93245\n"
     ]
    },
    {
     "name": "stderr",
     "output_type": "stream",
     "text": [
      "100%|██████████| 166/166 [00:13<00:00, 12.48it/s]\n",
      "  1%|          | 2/166 [00:00<00:13, 12.02it/s]"
     ]
    },
    {
     "name": "stdout",
     "output_type": "stream",
     "text": [
      "6: Best candidate model is 14 with improvement of 0.00011\n",
      "6: Best ensemble [8, 0, 113, 40, 80, 123, 14]\n",
      "6: New ensemble score 0.93256\n"
     ]
    },
    {
     "name": "stderr",
     "output_type": "stream",
     "text": [
      "100%|██████████| 166/166 [00:13<00:00, 12.47it/s]\n",
      "  1%|          | 2/166 [00:00<00:13, 12.42it/s]"
     ]
    },
    {
     "name": "stdout",
     "output_type": "stream",
     "text": [
      "7: Best candidate model is 82 with improvement of 0.00010\n",
      "7: Best ensemble [8, 0, 113, 40, 80, 123, 14, 82]\n",
      "7: New ensemble score 0.93266\n"
     ]
    },
    {
     "name": "stderr",
     "output_type": "stream",
     "text": [
      "100%|██████████| 166/166 [00:13<00:00, 12.53it/s]\n",
      "  1%|          | 2/166 [00:00<00:13, 12.21it/s]"
     ]
    },
    {
     "name": "stdout",
     "output_type": "stream",
     "text": [
      "8: Best candidate model is 124 with improvement of 0.00011\n",
      "8: Best ensemble [8, 0, 113, 40, 80, 123, 14, 82, 124]\n",
      "8: New ensemble score 0.93277\n"
     ]
    },
    {
     "name": "stderr",
     "output_type": "stream",
     "text": [
      "100%|██████████| 166/166 [00:13<00:00, 12.12it/s]\n",
      "  1%|          | 2/166 [00:00<00:13, 11.90it/s]"
     ]
    },
    {
     "name": "stdout",
     "output_type": "stream",
     "text": [
      "9: Best candidate model is 140 with improvement of 0.00012\n",
      "9: Best ensemble [8, 0, 113, 40, 80, 123, 14, 82, 124, 140]\n",
      "9: New ensemble score 0.93289\n"
     ]
    },
    {
     "name": "stderr",
     "output_type": "stream",
     "text": [
      "100%|██████████| 166/166 [00:14<00:00, 11.50it/s]\n",
      "  1%|          | 2/166 [00:00<00:13, 11.86it/s]"
     ]
    },
    {
     "name": "stdout",
     "output_type": "stream",
     "text": [
      "10: Best candidate model is 33 with improvement of 0.00010\n",
      "10: Best ensemble [8, 0, 113, 40, 80, 123, 14, 82, 124, 140, 33]\n",
      "10: New ensemble score 0.93299\n"
     ]
    },
    {
     "name": "stderr",
     "output_type": "stream",
     "text": [
      "100%|██████████| 166/166 [00:14<00:00, 11.30it/s]\n",
      "  1%|          | 2/166 [00:00<00:14, 11.68it/s]"
     ]
    },
    {
     "name": "stdout",
     "output_type": "stream",
     "text": [
      "11: Best candidate model is 131 with improvement of 0.00003\n",
      "11: Best ensemble [8, 0, 113, 40, 80, 123, 14, 82, 124, 140, 33, 131]\n",
      "11: New ensemble score 0.93302\n"
     ]
    },
    {
     "name": "stderr",
     "output_type": "stream",
     "text": [
      "100%|██████████| 166/166 [00:16<00:00, 10.27it/s]\n",
      "  1%|          | 1/166 [00:00<00:20,  8.23it/s]"
     ]
    },
    {
     "name": "stdout",
     "output_type": "stream",
     "text": [
      "12: Best candidate model is 160 with improvement of 0.00008\n",
      "12: Best ensemble [8, 0, 113, 40, 80, 123, 14, 82, 124, 140, 33, 131, 160]\n",
      "12: New ensemble score 0.93310\n"
     ]
    },
    {
     "name": "stderr",
     "output_type": "stream",
     "text": [
      "100%|██████████| 166/166 [00:17<00:00,  9.81it/s]\n"
     ]
    },
    {
     "name": "stdout",
     "output_type": "stream",
     "text": [
      "Can't optimize any more\n",
      "[0.93333410006506912, 0.93271591575250434, 0.93309748711133944]\n",
      "Average score 0.93305\n",
      "\n",
      "Iteration 2\n",
      "Split to bas of 166 where last 166\n",
      "Optimizing bag 0\n"
     ]
    },
    {
     "name": "stderr",
     "output_type": "stream",
     "text": [
      "100%|██████████| 166/166 [00:12<00:00, 13.18it/s]\n",
      "  1%|          | 2/166 [00:00<00:12, 12.97it/s]"
     ]
    },
    {
     "name": "stdout",
     "output_type": "stream",
     "text": [
      "0: Best candidate model is 126 with improvement of 0.92613\n",
      "0: Best ensemble [126]\n",
      "0: New ensemble score 0.92613\n"
     ]
    },
    {
     "name": "stderr",
     "output_type": "stream",
     "text": [
      "100%|██████████| 166/166 [00:12<00:00, 14.09it/s]\n",
      "  1%|          | 1/166 [00:00<00:19,  8.65it/s]"
     ]
    },
    {
     "name": "stdout",
     "output_type": "stream",
     "text": [
      "1: Best candidate model is 22 with improvement of 0.00354\n",
      "1: Best ensemble [126, 22]\n",
      "1: New ensemble score 0.92967\n"
     ]
    },
    {
     "name": "stderr",
     "output_type": "stream",
     "text": [
      "100%|██████████| 166/166 [00:12<00:00, 12.82it/s]\n",
      "  1%|          | 2/166 [00:00<00:12, 13.45it/s]"
     ]
    },
    {
     "name": "stdout",
     "output_type": "stream",
     "text": [
      "2: Best candidate model is 73 with improvement of 0.00134\n",
      "2: Best ensemble [126, 22, 73]\n",
      "2: New ensemble score 0.93101\n"
     ]
    },
    {
     "name": "stderr",
     "output_type": "stream",
     "text": [
      "100%|██████████| 166/166 [00:12<00:00, 13.20it/s]\n",
      "  1%|          | 1/166 [00:00<00:24,  6.79it/s]"
     ]
    },
    {
     "name": "stdout",
     "output_type": "stream",
     "text": [
      "3: Best candidate model is 119 with improvement of 0.00096\n",
      "3: Best ensemble [126, 22, 73, 119]\n",
      "3: New ensemble score 0.93198\n"
     ]
    },
    {
     "name": "stderr",
     "output_type": "stream",
     "text": [
      "100%|██████████| 166/166 [00:13<00:00, 12.45it/s]\n",
      "  1%|          | 2/166 [00:00<00:12, 12.68it/s]"
     ]
    },
    {
     "name": "stdout",
     "output_type": "stream",
     "text": [
      "4: Best candidate model is 160 with improvement of 0.00026\n",
      "4: Best ensemble [126, 22, 73, 119, 160]\n",
      "4: New ensemble score 0.93224\n"
     ]
    },
    {
     "name": "stderr",
     "output_type": "stream",
     "text": [
      "100%|██████████| 166/166 [00:13<00:00, 12.34it/s]\n",
      "  1%|          | 2/166 [00:00<00:13, 12.15it/s]"
     ]
    },
    {
     "name": "stdout",
     "output_type": "stream",
     "text": [
      "5: Best candidate model is 96 with improvement of 0.00032\n",
      "5: Best ensemble [126, 22, 73, 119, 160, 96]\n",
      "5: New ensemble score 0.93256\n"
     ]
    },
    {
     "name": "stderr",
     "output_type": "stream",
     "text": [
      "100%|██████████| 166/166 [00:13<00:00, 12.60it/s]\n",
      "  1%|          | 2/166 [00:00<00:12, 12.77it/s]"
     ]
    },
    {
     "name": "stdout",
     "output_type": "stream",
     "text": [
      "6: Best candidate model is 136 with improvement of 0.00014\n",
      "6: Best ensemble [126, 22, 73, 119, 160, 96, 136]\n",
      "6: New ensemble score 0.93271\n"
     ]
    },
    {
     "name": "stderr",
     "output_type": "stream",
     "text": [
      "100%|██████████| 166/166 [00:13<00:00, 11.89it/s]\n",
      "  1%|          | 1/166 [00:00<00:28,  5.89it/s]"
     ]
    },
    {
     "name": "stdout",
     "output_type": "stream",
     "text": [
      "7: Best candidate model is 78 with improvement of 0.00003\n",
      "7: Best ensemble [126, 22, 73, 119, 160, 96, 136, 78]\n",
      "7: New ensemble score 0.93274\n"
     ]
    },
    {
     "name": "stderr",
     "output_type": "stream",
     "text": [
      "100%|██████████| 166/166 [00:14<00:00, 11.07it/s]\n",
      "  1%|          | 2/166 [00:00<00:13, 11.84it/s]"
     ]
    },
    {
     "name": "stdout",
     "output_type": "stream",
     "text": [
      "8: Best candidate model is 49 with improvement of 0.00011\n",
      "8: Best ensemble [126, 22, 73, 119, 160, 96, 136, 78, 49]\n",
      "8: New ensemble score 0.93285\n"
     ]
    },
    {
     "name": "stderr",
     "output_type": "stream",
     "text": [
      "100%|██████████| 166/166 [00:15<00:00, 10.85it/s]\n",
      "  1%|          | 2/166 [00:00<00:13, 11.96it/s]"
     ]
    },
    {
     "name": "stdout",
     "output_type": "stream",
     "text": [
      "9: Best candidate model is 94 with improvement of 0.00006\n",
      "9: Best ensemble [126, 22, 73, 119, 160, 96, 136, 78, 49, 94]\n",
      "9: New ensemble score 0.93291\n"
     ]
    },
    {
     "name": "stderr",
     "output_type": "stream",
     "text": [
      "100%|██████████| 166/166 [00:15<00:00, 10.71it/s]\n",
      "  1%|          | 2/166 [00:00<00:14, 11.29it/s]"
     ]
    },
    {
     "name": "stdout",
     "output_type": "stream",
     "text": [
      "10: Best candidate model is 96 with improvement of 0.00001\n",
      "10: Best ensemble [126, 22, 73, 119, 160, 96, 136, 78, 49, 94, 96]\n",
      "10: New ensemble score 0.93292\n"
     ]
    },
    {
     "name": "stderr",
     "output_type": "stream",
     "text": [
      "100%|██████████| 166/166 [00:15<00:00, 10.60it/s]\n"
     ]
    },
    {
     "name": "stdout",
     "output_type": "stream",
     "text": [
      "Can't optimize any more\n",
      "Optimizing bag 1\n"
     ]
    },
    {
     "name": "stderr",
     "output_type": "stream",
     "text": [
      "100%|██████████| 166/166 [00:13<00:00, 13.37it/s]\n",
      "  1%|          | 2/166 [00:00<00:12, 13.00it/s]"
     ]
    },
    {
     "name": "stdout",
     "output_type": "stream",
     "text": [
      "0: Best candidate model is 150 with improvement of 0.92802\n",
      "0: Best ensemble [150]\n",
      "0: New ensemble score 0.92802\n"
     ]
    },
    {
     "name": "stderr",
     "output_type": "stream",
     "text": [
      "100%|██████████| 166/166 [00:13<00:00, 12.66it/s]\n",
      "  1%|          | 2/166 [00:00<00:12, 13.52it/s]"
     ]
    },
    {
     "name": "stdout",
     "output_type": "stream",
     "text": [
      "1: Best candidate model is 123 with improvement of 0.00243\n",
      "1: Best ensemble [150, 123]\n",
      "1: New ensemble score 0.93045\n"
     ]
    },
    {
     "name": "stderr",
     "output_type": "stream",
     "text": [
      "100%|██████████| 166/166 [00:13<00:00, 12.77it/s]\n",
      "  1%|          | 1/166 [00:00<00:19,  8.26it/s]"
     ]
    },
    {
     "name": "stdout",
     "output_type": "stream",
     "text": [
      "2: Best candidate model is 25 with improvement of 0.00107\n",
      "2: Best ensemble [150, 123, 25]\n",
      "2: New ensemble score 0.93152\n"
     ]
    },
    {
     "name": "stderr",
     "output_type": "stream",
     "text": [
      "100%|██████████| 166/166 [00:13<00:00, 12.10it/s]\n",
      "  1%|          | 2/166 [00:00<00:13, 12.20it/s]"
     ]
    },
    {
     "name": "stdout",
     "output_type": "stream",
     "text": [
      "3: Best candidate model is 38 with improvement of 0.00082\n",
      "3: Best ensemble [150, 123, 25, 38]\n",
      "3: New ensemble score 0.93235\n"
     ]
    },
    {
     "name": "stderr",
     "output_type": "stream",
     "text": [
      "100%|██████████| 166/166 [00:13<00:00, 10.98it/s]\n",
      "  1%|          | 2/166 [00:00<00:14, 11.54it/s]"
     ]
    },
    {
     "name": "stdout",
     "output_type": "stream",
     "text": [
      "4: Best candidate model is 44 with improvement of 0.00040\n",
      "4: Best ensemble [150, 123, 25, 38, 44]\n",
      "4: New ensemble score 0.93275\n"
     ]
    },
    {
     "name": "stderr",
     "output_type": "stream",
     "text": [
      "100%|██████████| 166/166 [00:14<00:00, 10.79it/s]\n",
      "  1%|          | 1/166 [00:00<00:24,  6.75it/s]"
     ]
    },
    {
     "name": "stdout",
     "output_type": "stream",
     "text": [
      "5: Best candidate model is 26 with improvement of 0.00013\n",
      "5: Best ensemble [150, 123, 25, 38, 44, 26]\n",
      "5: New ensemble score 0.93288\n"
     ]
    },
    {
     "name": "stderr",
     "output_type": "stream",
     "text": [
      "100%|██████████| 166/166 [00:13<00:00, 12.26it/s]\n",
      "  1%|          | 2/166 [00:00<00:13, 12.45it/s]"
     ]
    },
    {
     "name": "stdout",
     "output_type": "stream",
     "text": [
      "6: Best candidate model is 132 with improvement of 0.00018\n",
      "6: Best ensemble [150, 123, 25, 38, 44, 26, 132]\n",
      "6: New ensemble score 0.93306\n"
     ]
    },
    {
     "name": "stderr",
     "output_type": "stream",
     "text": [
      "100%|██████████| 166/166 [00:14<00:00, 12.23it/s]\n",
      "  1%|          | 2/166 [00:00<00:13, 12.04it/s]"
     ]
    },
    {
     "name": "stdout",
     "output_type": "stream",
     "text": [
      "7: Best candidate model is 35 with improvement of 0.00006\n",
      "7: Best ensemble [150, 123, 25, 38, 44, 26, 132, 35]\n",
      "7: New ensemble score 0.93313\n"
     ]
    },
    {
     "name": "stderr",
     "output_type": "stream",
     "text": [
      "100%|██████████| 166/166 [00:14<00:00, 11.78it/s]\n",
      "  1%|          | 2/166 [00:00<00:13, 11.79it/s]"
     ]
    },
    {
     "name": "stdout",
     "output_type": "stream",
     "text": [
      "8: Best candidate model is 25 with improvement of 0.00014\n",
      "8: Best ensemble [150, 123, 25, 38, 44, 26, 132, 35, 25]\n",
      "8: New ensemble score 0.93326\n"
     ]
    },
    {
     "name": "stderr",
     "output_type": "stream",
     "text": [
      "100%|██████████| 166/166 [00:14<00:00, 12.10it/s]\n",
      "  1%|          | 2/166 [00:00<00:13, 12.11it/s]"
     ]
    },
    {
     "name": "stdout",
     "output_type": "stream",
     "text": [
      "9: Best candidate model is 39 with improvement of 0.00002\n",
      "9: Best ensemble [150, 123, 25, 38, 44, 26, 132, 35, 25, 39]\n",
      "9: New ensemble score 0.93328\n"
     ]
    },
    {
     "name": "stderr",
     "output_type": "stream",
     "text": [
      "100%|██████████| 166/166 [00:15<00:00, 10.09it/s]\n"
     ]
    },
    {
     "name": "stdout",
     "output_type": "stream",
     "text": [
      "Can't optimize any more\n",
      "Optimizing bag 2\n"
     ]
    },
    {
     "name": "stderr",
     "output_type": "stream",
     "text": [
      "100%|██████████| 166/166 [00:12<00:00, 14.33it/s]\n",
      "  1%|          | 2/166 [00:00<00:11, 13.83it/s]"
     ]
    },
    {
     "name": "stdout",
     "output_type": "stream",
     "text": [
      "0: Best candidate model is 42 with improvement of 0.92691\n",
      "0: Best ensemble [42]\n",
      "0: New ensemble score 0.92691\n"
     ]
    },
    {
     "name": "stderr",
     "output_type": "stream",
     "text": [
      "100%|██████████| 166/166 [00:12<00:00, 14.11it/s]\n",
      "  1%|          | 2/166 [00:00<00:12, 13.65it/s]"
     ]
    },
    {
     "name": "stdout",
     "output_type": "stream",
     "text": [
      "1: Best candidate model is 146 with improvement of 0.00292\n",
      "1: Best ensemble [42, 146]\n",
      "1: New ensemble score 0.92983\n"
     ]
    },
    {
     "name": "stderr",
     "output_type": "stream",
     "text": [
      "100%|██████████| 166/166 [00:12<00:00, 13.76it/s]\n",
      "  1%|          | 2/166 [00:00<00:12, 13.39it/s]"
     ]
    },
    {
     "name": "stdout",
     "output_type": "stream",
     "text": [
      "2: Best candidate model is 109 with improvement of 0.00124\n",
      "2: Best ensemble [42, 146, 109]\n",
      "2: New ensemble score 0.93106\n"
     ]
    },
    {
     "name": "stderr",
     "output_type": "stream",
     "text": [
      "100%|██████████| 166/166 [00:12<00:00, 13.35it/s]\n",
      "  1%|          | 2/166 [00:00<00:12, 13.17it/s]"
     ]
    },
    {
     "name": "stdout",
     "output_type": "stream",
     "text": [
      "3: Best candidate model is 20 with improvement of 0.00051\n",
      "3: Best ensemble [42, 146, 109, 20]\n",
      "3: New ensemble score 0.93158\n"
     ]
    },
    {
     "name": "stderr",
     "output_type": "stream",
     "text": [
      "100%|██████████| 166/166 [00:13<00:00, 13.50it/s]\n",
      "  1%|          | 2/166 [00:00<00:12, 13.07it/s]"
     ]
    },
    {
     "name": "stdout",
     "output_type": "stream",
     "text": [
      "4: Best candidate model is 95 with improvement of 0.00028\n",
      "4: Best ensemble [42, 146, 109, 20, 95]\n",
      "4: New ensemble score 0.93185\n"
     ]
    },
    {
     "name": "stderr",
     "output_type": "stream",
     "text": [
      "100%|██████████| 166/166 [00:12<00:00, 13.26it/s]\n",
      "  1%|          | 2/166 [00:00<00:12, 13.04it/s]"
     ]
    },
    {
     "name": "stdout",
     "output_type": "stream",
     "text": [
      "5: Best candidate model is 153 with improvement of 0.00022\n",
      "5: Best ensemble [42, 146, 109, 20, 95, 153]\n",
      "5: New ensemble score 0.93207\n"
     ]
    },
    {
     "name": "stderr",
     "output_type": "stream",
     "text": [
      "100%|██████████| 166/166 [00:12<00:00, 13.11it/s]\n",
      "  1%|          | 1/166 [00:00<00:24,  6.68it/s]"
     ]
    },
    {
     "name": "stdout",
     "output_type": "stream",
     "text": [
      "6: Best candidate model is 4 with improvement of 0.00007\n",
      "6: Best ensemble [42, 146, 109, 20, 95, 153, 4]\n",
      "6: New ensemble score 0.93214\n"
     ]
    },
    {
     "name": "stderr",
     "output_type": "stream",
     "text": [
      "100%|██████████| 166/166 [00:13<00:00, 12.78it/s]\n",
      "  1%|          | 1/166 [00:00<00:17,  9.53it/s]"
     ]
    },
    {
     "name": "stdout",
     "output_type": "stream",
     "text": [
      "7: Best candidate model is 56 with improvement of 0.00017\n",
      "7: Best ensemble [42, 146, 109, 20, 95, 153, 4, 56]\n",
      "7: New ensemble score 0.93231\n"
     ]
    },
    {
     "name": "stderr",
     "output_type": "stream",
     "text": [
      "100%|██████████| 166/166 [00:13<00:00, 11.96it/s]\n"
     ]
    },
    {
     "name": "stdout",
     "output_type": "stream",
     "text": [
      "Can't optimize any more\n",
      "[0.9329213686182346, 0.93328039099387672, 0.93231324468846577]\n",
      "Average score 0.93284\n",
      "\n",
      "Iteration 3\n",
      "Split to bas of 166 where last 166\n",
      "Optimizing bag 0\n"
     ]
    },
    {
     "name": "stderr",
     "output_type": "stream",
     "text": [
      "100%|██████████| 166/166 [00:12<00:00, 13.55it/s]\n",
      "  1%|          | 1/166 [00:00<00:23,  6.97it/s]"
     ]
    },
    {
     "name": "stdout",
     "output_type": "stream",
     "text": [
      "0: Best candidate model is 51 with improvement of 0.92802\n",
      "0: Best ensemble [51]\n",
      "0: New ensemble score 0.92802\n"
     ]
    },
    {
     "name": "stderr",
     "output_type": "stream",
     "text": [
      "100%|██████████| 166/166 [00:12<00:00, 12.90it/s]\n",
      "  1%|          | 2/166 [00:00<00:12, 13.38it/s]"
     ]
    },
    {
     "name": "stdout",
     "output_type": "stream",
     "text": [
      "1: Best candidate model is 21 with improvement of 0.00189\n",
      "1: Best ensemble [51, 21]\n",
      "1: New ensemble score 0.92991\n"
     ]
    },
    {
     "name": "stderr",
     "output_type": "stream",
     "text": [
      "100%|██████████| 166/166 [00:12<00:00, 13.83it/s]\n",
      "  1%|          | 2/166 [00:00<00:12, 13.41it/s]"
     ]
    },
    {
     "name": "stdout",
     "output_type": "stream",
     "text": [
      "2: Best candidate model is 144 with improvement of 0.00138\n",
      "2: Best ensemble [51, 21, 144]\n",
      "2: New ensemble score 0.93129\n"
     ]
    },
    {
     "name": "stderr",
     "output_type": "stream",
     "text": [
      "100%|██████████| 166/166 [00:12<00:00, 13.63it/s]\n",
      "  1%|          | 2/166 [00:00<00:12, 13.23it/s]"
     ]
    },
    {
     "name": "stdout",
     "output_type": "stream",
     "text": [
      "3: Best candidate model is 54 with improvement of 0.00057\n",
      "3: Best ensemble [51, 21, 144, 54]\n",
      "3: New ensemble score 0.93186\n"
     ]
    },
    {
     "name": "stderr",
     "output_type": "stream",
     "text": [
      "100%|██████████| 166/166 [00:12<00:00, 13.41it/s]\n",
      "  1%|          | 1/166 [00:00<00:24,  6.63it/s]"
     ]
    },
    {
     "name": "stdout",
     "output_type": "stream",
     "text": [
      "4: Best candidate model is 36 with improvement of 0.00005\n",
      "4: Best ensemble [51, 21, 144, 54, 36]\n",
      "4: New ensemble score 0.93191\n"
     ]
    },
    {
     "name": "stderr",
     "output_type": "stream",
     "text": [
      "100%|██████████| 166/166 [00:12<00:00, 12.88it/s]\n",
      "  1%|          | 1/166 [00:00<00:25,  6.57it/s]"
     ]
    },
    {
     "name": "stdout",
     "output_type": "stream",
     "text": [
      "5: Best candidate model is 47 with improvement of 0.00024\n",
      "5: Best ensemble [51, 21, 144, 54, 36, 47]\n",
      "5: New ensemble score 0.93215\n"
     ]
    },
    {
     "name": "stderr",
     "output_type": "stream",
     "text": [
      "100%|██████████| 166/166 [00:13<00:00, 12.20it/s]\n",
      "  1%|          | 2/166 [00:00<00:13, 11.84it/s]"
     ]
    },
    {
     "name": "stdout",
     "output_type": "stream",
     "text": [
      "6: Best candidate model is 123 with improvement of 0.00006\n",
      "6: Best ensemble [51, 21, 144, 54, 36, 47, 123]\n",
      "6: New ensemble score 0.93221\n"
     ]
    },
    {
     "name": "stderr",
     "output_type": "stream",
     "text": [
      "100%|██████████| 166/166 [00:13<00:00, 12.79it/s]\n",
      "  1%|          | 2/166 [00:00<00:13, 12.35it/s]"
     ]
    },
    {
     "name": "stdout",
     "output_type": "stream",
     "text": [
      "7: Best candidate model is 15 with improvement of 0.00013\n",
      "7: Best ensemble [51, 21, 144, 54, 36, 47, 123, 15]\n",
      "7: New ensemble score 0.93234\n"
     ]
    },
    {
     "name": "stderr",
     "output_type": "stream",
     "text": [
      "100%|██████████| 166/166 [00:13<00:00, 12.41it/s]\n"
     ]
    },
    {
     "name": "stdout",
     "output_type": "stream",
     "text": [
      "Can't optimize any more\n",
      "Optimizing bag 1\n"
     ]
    },
    {
     "name": "stderr",
     "output_type": "stream",
     "text": [
      "100%|██████████| 166/166 [00:11<00:00, 14.20it/s]\n",
      "  1%|          | 2/166 [00:00<00:11, 13.86it/s]"
     ]
    },
    {
     "name": "stdout",
     "output_type": "stream",
     "text": [
      "0: Best candidate model is 53 with improvement of 0.92666\n",
      "0: Best ensemble [53]\n",
      "0: New ensemble score 0.92666\n"
     ]
    },
    {
     "name": "stderr",
     "output_type": "stream",
     "text": [
      "100%|██████████| 166/166 [00:11<00:00, 13.96it/s]\n",
      "  1%|          | 1/166 [00:00<00:23,  6.98it/s]"
     ]
    },
    {
     "name": "stdout",
     "output_type": "stream",
     "text": [
      "1: Best candidate model is 37 with improvement of 0.00363\n",
      "1: Best ensemble [53, 37]\n",
      "1: New ensemble score 0.93029\n"
     ]
    },
    {
     "name": "stderr",
     "output_type": "stream",
     "text": [
      "100%|██████████| 166/166 [00:14<00:00, 11.84it/s]\n",
      "  1%|          | 1/166 [00:00<00:24,  6.85it/s]"
     ]
    },
    {
     "name": "stdout",
     "output_type": "stream",
     "text": [
      "2: Best candidate model is 117 with improvement of 0.00107\n",
      "2: Best ensemble [53, 37, 117]\n",
      "2: New ensemble score 0.93135\n"
     ]
    },
    {
     "name": "stderr",
     "output_type": "stream",
     "text": [
      "100%|██████████| 166/166 [00:12<00:00, 13.28it/s]\n",
      "  1%|          | 2/166 [00:00<00:12, 13.25it/s]"
     ]
    },
    {
     "name": "stdout",
     "output_type": "stream",
     "text": [
      "3: Best candidate model is 9 with improvement of 0.00038\n",
      "3: Best ensemble [53, 37, 117, 9]\n",
      "3: New ensemble score 0.93173\n"
     ]
    },
    {
     "name": "stderr",
     "output_type": "stream",
     "text": [
      "100%|██████████| 166/166 [00:12<00:00, 13.26it/s]\n",
      "  1%|          | 1/166 [00:00<00:24,  6.81it/s]"
     ]
    },
    {
     "name": "stdout",
     "output_type": "stream",
     "text": [
      "4: Best candidate model is 97 with improvement of 0.00036\n",
      "4: Best ensemble [53, 37, 117, 9, 97]\n",
      "4: New ensemble score 0.93209\n"
     ]
    },
    {
     "name": "stderr",
     "output_type": "stream",
     "text": [
      "100%|██████████| 166/166 [00:12<00:00, 13.12it/s]\n",
      "  1%|          | 1/166 [00:00<00:25,  6.49it/s]"
     ]
    },
    {
     "name": "stdout",
     "output_type": "stream",
     "text": [
      "5: Best candidate model is 107 with improvement of 0.00023\n",
      "5: Best ensemble [53, 37, 117, 9, 97, 107]\n",
      "5: New ensemble score 0.93232\n"
     ]
    },
    {
     "name": "stderr",
     "output_type": "stream",
     "text": [
      "100%|██████████| 166/166 [00:13<00:00, 10.28it/s]\n",
      "  1%|          | 2/166 [00:00<00:15, 10.47it/s]"
     ]
    },
    {
     "name": "stdout",
     "output_type": "stream",
     "text": [
      "6: Best candidate model is 29 with improvement of 0.00037\n",
      "6: Best ensemble [53, 37, 117, 9, 97, 107, 29]\n",
      "6: New ensemble score 0.93269\n"
     ]
    },
    {
     "name": "stderr",
     "output_type": "stream",
     "text": [
      "100%|██████████| 166/166 [00:13<00:00, 12.45it/s]\n",
      "  1%|          | 1/166 [00:00<00:24,  6.65it/s]"
     ]
    },
    {
     "name": "stdout",
     "output_type": "stream",
     "text": [
      "7: Best candidate model is 53 with improvement of 0.00007\n",
      "7: Best ensemble [53, 37, 117, 9, 97, 107, 29, 53]\n",
      "7: New ensemble score 0.93276\n"
     ]
    },
    {
     "name": "stderr",
     "output_type": "stream",
     "text": [
      "100%|██████████| 166/166 [00:13<00:00, 12.16it/s]\n",
      "  1%|          | 1/166 [00:00<00:29,  5.66it/s]"
     ]
    },
    {
     "name": "stdout",
     "output_type": "stream",
     "text": [
      "8: Best candidate model is 56 with improvement of 0.00004\n",
      "8: Best ensemble [53, 37, 117, 9, 97, 107, 29, 53, 56]\n",
      "8: New ensemble score 0.93280\n"
     ]
    },
    {
     "name": "stderr",
     "output_type": "stream",
     "text": [
      "100%|██████████| 166/166 [00:13<00:00, 11.96it/s]\n",
      "  1%|          | 1/166 [00:00<00:25,  6.50it/s]"
     ]
    },
    {
     "name": "stdout",
     "output_type": "stream",
     "text": [
      "9: Best candidate model is 130 with improvement of 0.00003\n",
      "9: Best ensemble [53, 37, 117, 9, 97, 107, 29, 53, 56, 130]\n",
      "9: New ensemble score 0.93283\n"
     ]
    },
    {
     "name": "stderr",
     "output_type": "stream",
     "text": [
      "100%|██████████| 166/166 [00:14<00:00, 12.17it/s]\n",
      "  1%|          | 1/166 [00:00<00:25,  6.41it/s]"
     ]
    },
    {
     "name": "stdout",
     "output_type": "stream",
     "text": [
      "10: Best candidate model is 162 with improvement of 0.00020\n",
      "10: Best ensemble [53, 37, 117, 9, 97, 107, 29, 53, 56, 130, 162]\n",
      "10: New ensemble score 0.93303\n"
     ]
    },
    {
     "name": "stderr",
     "output_type": "stream",
     "text": [
      "100%|██████████| 166/166 [00:15<00:00, 10.57it/s]\n",
      "  1%|          | 2/166 [00:00<00:14, 11.68it/s]"
     ]
    },
    {
     "name": "stdout",
     "output_type": "stream",
     "text": [
      "11: Best candidate model is 148 with improvement of 0.00007\n",
      "11: Best ensemble [53, 37, 117, 9, 97, 107, 29, 53, 56, 130, 162, 148]\n",
      "11: New ensemble score 0.93310\n"
     ]
    },
    {
     "name": "stderr",
     "output_type": "stream",
     "text": [
      "100%|██████████| 166/166 [00:15<00:00, 10.97it/s]\n"
     ]
    },
    {
     "name": "stdout",
     "output_type": "stream",
     "text": [
      "Can't optimize any more\n",
      "Optimizing bag 2\n"
     ]
    },
    {
     "name": "stderr",
     "output_type": "stream",
     "text": [
      "100%|██████████| 166/166 [00:13<00:00, 14.25it/s]\n",
      "  1%|          | 1/166 [00:00<00:23,  7.00it/s]"
     ]
    },
    {
     "name": "stdout",
     "output_type": "stream",
     "text": [
      "0: Best candidate model is 135 with improvement of 0.92763\n",
      "0: Best ensemble [135]\n",
      "0: New ensemble score 0.92763\n"
     ]
    },
    {
     "name": "stderr",
     "output_type": "stream",
     "text": [
      "100%|██████████| 166/166 [00:12<00:00, 13.53it/s]\n",
      "  1%|          | 1/166 [00:00<00:24,  6.80it/s]"
     ]
    },
    {
     "name": "stdout",
     "output_type": "stream",
     "text": [
      "1: Best candidate model is 11 with improvement of 0.00284\n",
      "1: Best ensemble [135, 11]\n",
      "1: New ensemble score 0.93047\n"
     ]
    },
    {
     "name": "stderr",
     "output_type": "stream",
     "text": [
      "100%|██████████| 166/166 [00:12<00:00, 12.84it/s]\n",
      "  1%|          | 1/166 [00:00<00:24,  6.85it/s]"
     ]
    },
    {
     "name": "stdout",
     "output_type": "stream",
     "text": [
      "2: Best candidate model is 128 with improvement of 0.00090\n",
      "2: Best ensemble [135, 11, 128]\n",
      "2: New ensemble score 0.93137\n"
     ]
    },
    {
     "name": "stderr",
     "output_type": "stream",
     "text": [
      "100%|██████████| 166/166 [00:12<00:00, 12.87it/s]\n",
      "  1%|          | 1/166 [00:00<00:23,  7.05it/s]"
     ]
    },
    {
     "name": "stdout",
     "output_type": "stream",
     "text": [
      "3: Best candidate model is 22 with improvement of 0.00060\n",
      "3: Best ensemble [135, 11, 128, 22]\n",
      "3: New ensemble score 0.93197\n"
     ]
    },
    {
     "name": "stderr",
     "output_type": "stream",
     "text": [
      "100%|██████████| 166/166 [00:13<00:00, 12.95it/s]\n",
      "  1%|          | 1/166 [00:00<00:24,  6.81it/s]"
     ]
    },
    {
     "name": "stdout",
     "output_type": "stream",
     "text": [
      "4: Best candidate model is 43 with improvement of 0.00028\n",
      "4: Best ensemble [135, 11, 128, 22, 43]\n",
      "4: New ensemble score 0.93225\n"
     ]
    },
    {
     "name": "stderr",
     "output_type": "stream",
     "text": [
      "100%|██████████| 166/166 [00:13<00:00, 12.68it/s]\n",
      "  1%|          | 1/166 [00:00<00:25,  6.51it/s]"
     ]
    },
    {
     "name": "stdout",
     "output_type": "stream",
     "text": [
      "5: Best candidate model is 61 with improvement of 0.00040\n",
      "5: Best ensemble [135, 11, 128, 22, 43, 61]\n",
      "5: New ensemble score 0.93265\n"
     ]
    },
    {
     "name": "stderr",
     "output_type": "stream",
     "text": [
      "100%|██████████| 166/166 [00:13<00:00, 12.63it/s]\n",
      "  1%|          | 2/166 [00:00<00:13, 12.48it/s]"
     ]
    },
    {
     "name": "stdout",
     "output_type": "stream",
     "text": [
      "6: Best candidate model is 151 with improvement of 0.00021\n",
      "6: Best ensemble [135, 11, 128, 22, 43, 61, 151]\n",
      "6: New ensemble score 0.93285\n"
     ]
    },
    {
     "name": "stderr",
     "output_type": "stream",
     "text": [
      "100%|██████████| 166/166 [00:13<00:00, 12.15it/s]\n",
      "  1%|          | 2/166 [00:00<00:13, 12.16it/s]"
     ]
    },
    {
     "name": "stdout",
     "output_type": "stream",
     "text": [
      "7: Best candidate model is 115 with improvement of 0.00020\n",
      "7: Best ensemble [135, 11, 128, 22, 43, 61, 151, 115]\n",
      "7: New ensemble score 0.93306\n"
     ]
    },
    {
     "name": "stderr",
     "output_type": "stream",
     "text": [
      "100%|██████████| 166/166 [00:14<00:00, 11.85it/s]\n",
      "  1%|          | 1/166 [00:00<00:25,  6.60it/s]"
     ]
    },
    {
     "name": "stdout",
     "output_type": "stream",
     "text": [
      "8: Best candidate model is 72 with improvement of 0.00008\n",
      "8: Best ensemble [135, 11, 128, 22, 43, 61, 151, 115, 72]\n",
      "8: New ensemble score 0.93313\n"
     ]
    },
    {
     "name": "stderr",
     "output_type": "stream",
     "text": [
      "100%|██████████| 166/166 [00:14<00:00, 11.35it/s]\n"
     ]
    },
    {
     "name": "stdout",
     "output_type": "stream",
     "text": [
      "Can't optimize any more\n",
      "[0.9323389100225522, 0.93309579730886738, 0.93313127829213194]\n",
      "Average score 0.93286\n",
      "\n",
      "Iteration 4\n",
      "Split to bas of 166 where last 166\n",
      "Optimizing bag 0\n"
     ]
    },
    {
     "name": "stderr",
     "output_type": "stream",
     "text": [
      "100%|██████████| 166/166 [00:12<00:00, 14.28it/s]\n",
      "  1%|          | 2/166 [00:00<00:11, 13.80it/s]"
     ]
    },
    {
     "name": "stdout",
     "output_type": "stream",
     "text": [
      "0: Best candidate model is 119 with improvement of 0.92669\n",
      "0: Best ensemble [119]\n",
      "0: New ensemble score 0.92669\n"
     ]
    },
    {
     "name": "stderr",
     "output_type": "stream",
     "text": [
      "100%|██████████| 166/166 [00:11<00:00, 13.99it/s]\n",
      "  1%|          | 1/166 [00:00<00:23,  6.96it/s]"
     ]
    },
    {
     "name": "stdout",
     "output_type": "stream",
     "text": [
      "1: Best candidate model is 51 with improvement of 0.00310\n",
      "1: Best ensemble [119, 51]\n",
      "1: New ensemble score 0.92980\n"
     ]
    },
    {
     "name": "stderr",
     "output_type": "stream",
     "text": [
      "100%|██████████| 166/166 [00:12<00:00, 13.79it/s]\n",
      "  1%|          | 2/166 [00:00<00:12, 13.40it/s]"
     ]
    },
    {
     "name": "stdout",
     "output_type": "stream",
     "text": [
      "2: Best candidate model is 126 with improvement of 0.00133\n",
      "2: Best ensemble [119, 51, 126]\n",
      "2: New ensemble score 0.93113\n"
     ]
    },
    {
     "name": "stderr",
     "output_type": "stream",
     "text": [
      "100%|██████████| 166/166 [00:12<00:00, 13.56it/s]\n",
      "  1%|          | 1/166 [00:00<00:25,  6.47it/s]"
     ]
    },
    {
     "name": "stdout",
     "output_type": "stream",
     "text": [
      "3: Best candidate model is 133 with improvement of 0.00066\n",
      "3: Best ensemble [119, 51, 126, 133]\n",
      "3: New ensemble score 0.93179\n"
     ]
    },
    {
     "name": "stderr",
     "output_type": "stream",
     "text": [
      "100%|██████████| 166/166 [00:13<00:00, 13.29it/s]\n",
      "  1%|          | 1/166 [00:00<00:24,  6.79it/s]"
     ]
    },
    {
     "name": "stdout",
     "output_type": "stream",
     "text": [
      "4: Best candidate model is 141 with improvement of 0.00041\n",
      "4: Best ensemble [119, 51, 126, 133, 141]\n",
      "4: New ensemble score 0.93220\n"
     ]
    },
    {
     "name": "stderr",
     "output_type": "stream",
     "text": [
      "100%|██████████| 166/166 [00:12<00:00, 13.15it/s]\n",
      "  1%|          | 1/166 [00:00<00:25,  6.41it/s]"
     ]
    },
    {
     "name": "stdout",
     "output_type": "stream",
     "text": [
      "5: Best candidate model is 32 with improvement of 0.00033\n",
      "5: Best ensemble [119, 51, 126, 133, 141, 32]\n",
      "5: New ensemble score 0.93253\n"
     ]
    },
    {
     "name": "stderr",
     "output_type": "stream",
     "text": [
      "100%|██████████| 166/166 [00:13<00:00, 12.90it/s]\n"
     ]
    },
    {
     "name": "stdout",
     "output_type": "stream",
     "text": [
      "Can't optimize any more\n",
      "Optimizing bag 1\n"
     ]
    },
    {
     "name": "stderr",
     "output_type": "stream",
     "text": [
      "100%|██████████| 166/166 [00:12<00:00, 13.59it/s]\n",
      "  1%|          | 1/166 [00:00<00:23,  7.03it/s]"
     ]
    },
    {
     "name": "stdout",
     "output_type": "stream",
     "text": [
      "0: Best candidate model is 134 with improvement of 0.92730\n",
      "0: Best ensemble [134]\n",
      "0: New ensemble score 0.92730\n"
     ]
    },
    {
     "name": "stderr",
     "output_type": "stream",
     "text": [
      "100%|██████████| 166/166 [00:12<00:00, 14.00it/s]\n",
      "  1%|          | 2/166 [00:00<00:11, 13.68it/s]"
     ]
    },
    {
     "name": "stdout",
     "output_type": "stream",
     "text": [
      "1: Best candidate model is 59 with improvement of 0.00286\n",
      "1: Best ensemble [134, 59]\n",
      "1: New ensemble score 0.93017\n"
     ]
    },
    {
     "name": "stderr",
     "output_type": "stream",
     "text": [
      "100%|██████████| 166/166 [00:12<00:00, 13.84it/s]\n",
      "  1%|          | 1/166 [00:00<00:24,  6.73it/s]"
     ]
    },
    {
     "name": "stdout",
     "output_type": "stream",
     "text": [
      "2: Best candidate model is 40 with improvement of 0.00095\n",
      "2: Best ensemble [134, 59, 40]\n",
      "2: New ensemble score 0.93111\n"
     ]
    },
    {
     "name": "stderr",
     "output_type": "stream",
     "text": [
      "100%|██████████| 166/166 [00:12<00:00, 13.31it/s]\n",
      "  1%|          | 1/166 [00:00<00:24,  6.82it/s]"
     ]
    },
    {
     "name": "stdout",
     "output_type": "stream",
     "text": [
      "3: Best candidate model is 43 with improvement of 0.00067\n",
      "3: Best ensemble [134, 59, 40, 43]\n",
      "3: New ensemble score 0.93179\n"
     ]
    },
    {
     "name": "stderr",
     "output_type": "stream",
     "text": [
      "100%|██████████| 166/166 [00:12<00:00, 13.05it/s]\n",
      "  1%|          | 2/166 [00:00<00:12, 13.00it/s]"
     ]
    },
    {
     "name": "stdout",
     "output_type": "stream",
     "text": [
      "4: Best candidate model is 148 with improvement of 0.00055\n",
      "4: Best ensemble [134, 59, 40, 43, 148]\n",
      "4: New ensemble score 0.93234\n"
     ]
    },
    {
     "name": "stderr",
     "output_type": "stream",
     "text": [
      "100%|██████████| 166/166 [00:12<00:00, 13.23it/s]\n",
      "  1%|          | 2/166 [00:00<00:12, 12.86it/s]"
     ]
    },
    {
     "name": "stdout",
     "output_type": "stream",
     "text": [
      "5: Best candidate model is 73 with improvement of 0.00020\n",
      "5: Best ensemble [134, 59, 40, 43, 148, 73]\n",
      "5: New ensemble score 0.93254\n"
     ]
    },
    {
     "name": "stderr",
     "output_type": "stream",
     "text": [
      "100%|██████████| 166/166 [00:12<00:00, 13.12it/s]\n",
      "  1%|          | 1/166 [00:00<00:24,  6.63it/s]"
     ]
    },
    {
     "name": "stdout",
     "output_type": "stream",
     "text": [
      "6: Best candidate model is 97 with improvement of 0.00014\n",
      "6: Best ensemble [134, 59, 40, 43, 148, 73, 97]\n",
      "6: New ensemble score 0.93268\n"
     ]
    },
    {
     "name": "stderr",
     "output_type": "stream",
     "text": [
      "100%|██████████| 166/166 [00:13<00:00, 12.75it/s]\n",
      "  1%|          | 1/166 [00:00<00:24,  6.62it/s]"
     ]
    },
    {
     "name": "stdout",
     "output_type": "stream",
     "text": [
      "7: Best candidate model is 144 with improvement of 0.00013\n",
      "7: Best ensemble [134, 59, 40, 43, 148, 73, 97, 144]\n",
      "7: New ensemble score 0.93280\n"
     ]
    },
    {
     "name": "stderr",
     "output_type": "stream",
     "text": [
      "100%|██████████| 166/166 [00:14<00:00, 12.59it/s]\n",
      "  1%|          | 1/166 [00:00<00:25,  6.52it/s]"
     ]
    },
    {
     "name": "stdout",
     "output_type": "stream",
     "text": [
      "8: Best candidate model is 134 with improvement of 0.00002\n",
      "8: Best ensemble [134, 59, 40, 43, 148, 73, 97, 144, 134]\n",
      "8: New ensemble score 0.93283\n"
     ]
    },
    {
     "name": "stderr",
     "output_type": "stream",
     "text": [
      "100%|██████████| 166/166 [00:15<00:00, 10.61it/s]\n",
      "  1%|          | 1/166 [00:00<00:27,  5.94it/s]"
     ]
    },
    {
     "name": "stdout",
     "output_type": "stream",
     "text": [
      "9: Best candidate model is 70 with improvement of 0.00003\n",
      "9: Best ensemble [134, 59, 40, 43, 148, 73, 97, 144, 134, 70]\n",
      "9: New ensemble score 0.93285\n"
     ]
    },
    {
     "name": "stderr",
     "output_type": "stream",
     "text": [
      "100%|██████████| 166/166 [00:14<00:00, 11.14it/s]\n",
      "  1%|          | 2/166 [00:00<00:14, 11.66it/s]"
     ]
    },
    {
     "name": "stdout",
     "output_type": "stream",
     "text": [
      "10: Best candidate model is 90 with improvement of 0.00005\n",
      "10: Best ensemble [134, 59, 40, 43, 148, 73, 97, 144, 134, 70, 90]\n",
      "10: New ensemble score 0.93290\n"
     ]
    },
    {
     "name": "stderr",
     "output_type": "stream",
     "text": [
      "100%|██████████| 166/166 [00:14<00:00, 11.32it/s]\n",
      "  1%|          | 2/166 [00:00<00:14, 11.58it/s]"
     ]
    },
    {
     "name": "stdout",
     "output_type": "stream",
     "text": [
      "11: Best candidate model is 159 with improvement of 0.00009\n",
      "11: Best ensemble [134, 59, 40, 43, 148, 73, 97, 144, 134, 70, 90, 159]\n",
      "11: New ensemble score 0.93299\n"
     ]
    },
    {
     "name": "stderr",
     "output_type": "stream",
     "text": [
      "100%|██████████| 166/166 [00:14<00:00, 11.14it/s]\n",
      "  1%|          | 1/166 [00:00<00:17,  9.70it/s]"
     ]
    },
    {
     "name": "stdout",
     "output_type": "stream",
     "text": [
      "12: Best candidate model is 97 with improvement of 0.00002\n",
      "12: Best ensemble [134, 59, 40, 43, 148, 73, 97, 144, 134, 70, 90, 159, 97]\n",
      "12: New ensemble score 0.93301\n"
     ]
    },
    {
     "name": "stderr",
     "output_type": "stream",
     "text": [
      "100%|██████████| 166/166 [00:16<00:00, 10.22it/s]\n"
     ]
    },
    {
     "name": "stdout",
     "output_type": "stream",
     "text": [
      "Can't optimize any more\n",
      "Optimizing bag 2\n"
     ]
    },
    {
     "name": "stderr",
     "output_type": "stream",
     "text": [
      "100%|██████████| 166/166 [00:12<00:00, 13.75it/s]\n",
      "  1%|          | 2/166 [00:00<00:11, 13.89it/s]"
     ]
    },
    {
     "name": "stdout",
     "output_type": "stream",
     "text": [
      "0: Best candidate model is 82 with improvement of 0.92802\n",
      "0: Best ensemble [82]\n",
      "0: New ensemble score 0.92802\n"
     ]
    },
    {
     "name": "stderr",
     "output_type": "stream",
     "text": [
      "100%|██████████| 166/166 [00:11<00:00, 13.76it/s]\n",
      "  1%|          | 1/166 [00:00<00:23,  6.95it/s]"
     ]
    },
    {
     "name": "stdout",
     "output_type": "stream",
     "text": [
      "1: Best candidate model is 114 with improvement of 0.00243\n",
      "1: Best ensemble [82, 114]\n",
      "1: New ensemble score 0.93045\n"
     ]
    },
    {
     "name": "stderr",
     "output_type": "stream",
     "text": [
      "100%|██████████| 166/166 [00:15<00:00, 10.81it/s]\n",
      "  1%|          | 2/166 [00:00<00:12, 13.23it/s]"
     ]
    },
    {
     "name": "stdout",
     "output_type": "stream",
     "text": [
      "2: Best candidate model is 20 with improvement of 0.00107\n",
      "2: Best ensemble [82, 114, 20]\n",
      "2: New ensemble score 0.93152\n"
     ]
    },
    {
     "name": "stderr",
     "output_type": "stream",
     "text": [
      "100%|██████████| 166/166 [00:12<00:00, 13.56it/s]\n",
      "  1%|          | 2/166 [00:00<00:12, 13.11it/s]"
     ]
    },
    {
     "name": "stdout",
     "output_type": "stream",
     "text": [
      "3: Best candidate model is 0 with improvement of 0.00082\n",
      "3: Best ensemble [82, 114, 20, 0]\n",
      "3: New ensemble score 0.93235\n"
     ]
    },
    {
     "name": "stderr",
     "output_type": "stream",
     "text": [
      "100%|██████████| 166/166 [00:12<00:00, 13.36it/s]\n",
      "  1%|          | 1/166 [00:00<00:25,  6.59it/s]"
     ]
    },
    {
     "name": "stdout",
     "output_type": "stream",
     "text": [
      "4: Best candidate model is 78 with improvement of 0.00026\n",
      "4: Best ensemble [82, 114, 20, 0, 78]\n",
      "4: New ensemble score 0.93260\n"
     ]
    },
    {
     "name": "stderr",
     "output_type": "stream",
     "text": [
      "100%|██████████| 166/166 [00:13<00:00, 12.70it/s]\n",
      "  1%|          | 2/166 [00:00<00:12, 12.79it/s]"
     ]
    },
    {
     "name": "stdout",
     "output_type": "stream",
     "text": [
      "5: Best candidate model is 162 with improvement of 0.00056\n",
      "5: Best ensemble [82, 114, 20, 0, 78, 162]\n",
      "5: New ensemble score 0.93316\n"
     ]
    },
    {
     "name": "stderr",
     "output_type": "stream",
     "text": [
      "100%|██████████| 166/166 [00:12<00:00, 12.91it/s]\n",
      "  1%|          | 1/166 [00:00<00:25,  6.59it/s]"
     ]
    },
    {
     "name": "stdout",
     "output_type": "stream",
     "text": [
      "6: Best candidate model is 118 with improvement of 0.00022\n",
      "6: Best ensemble [82, 114, 20, 0, 78, 162, 118]\n",
      "6: New ensemble score 0.93339\n"
     ]
    },
    {
     "name": "stderr",
     "output_type": "stream",
     "text": [
      "100%|██████████| 166/166 [00:14<00:00, 11.25it/s]"
     ]
    },
    {
     "name": "stdout",
     "output_type": "stream",
     "text": [
      "Can't optimize any more\n",
      "[0.93253013180903299, 0.93301207022898069, 0.93338583616532222]\n",
      "Average score 0.93298\n"
     ]
    },
    {
     "name": "stderr",
     "output_type": "stream",
     "text": [
      "\n"
     ]
    }
   ],
   "source": [
    "# l = np.random.choice(np.arange(len(preds_valid)), size=32)\n",
    "# preds_ = preds_valid[l].copy()\n",
    "all_ensembles = []\n",
    "all_scores = []\n",
    "for i in range(3):\n",
    "    print(\"\\nIteration %d\" % i)\n",
    "    ensembles, scores = optimize_with_split(n_splits=3, preds_in=preds_valid, y_true=y_true_valid)\n",
    "    all_ensembles += ensembles\n",
    "    all_scores += scores"
   ]
  },
  {
   "cell_type": "code",
   "execution_count": 31,
   "metadata": {
    "scrolled": true
   },
   "outputs": [
    {
     "name": "stdout",
     "output_type": "stream",
     "text": [
      "[435 408  87 337 138 484 443 421 118 179 372]\n",
      "[483 110 355 455 141 403 336 140]\n",
      "[482 177 381 112 433 373 482 235 137 112 382 339 420 433 373 112]\n",
      "[455 446 372 112 393 177  52 339 395]\n",
      "[435 482 337 408  22 359 435]\n",
      "[484 381 141 138  23 355 122 484 344 342 137 461]\n",
      "[443 138 359 119 408 122]\n",
      "[482 383 337 112 419 484 141 339 355 401]\n",
      "[435 110 343 423 387 336 373  22 118 177  43 432 455 423]\n",
      "Vote score on validation set 0.93348\n"
     ]
    }
   ],
   "source": [
    "for ens_list in all_ensembles:\n",
    "    print(ens_list)\n",
    "\n",
    "vote_preds = []\n",
    "for ens_list in all_ensembles:\n",
    "    ensemble_preds = [preds_valid[j] for j in ens_list]\n",
    "    p = (np.mean(ensemble_preds, axis=0) > 0.2).astype(int)\n",
    "    vote_preds.append(p)\n",
    "    \n",
    "final_pred = vote(np.array(vote_preds))\n",
    "vote_score = fbeta_score(y_true_valid, final_pred, beta=2, average='samples')\n",
    "print(\"Vote score on validation set %.5f\" % vote_score)"
   ]
  }
 ],
 "metadata": {
  "kernelspec": {
   "display_name": "Python 2",
   "language": "python",
   "name": "python2"
  },
  "language_info": {
   "codemirror_mode": {
    "name": "ipython",
    "version": 2
   },
   "file_extension": ".py",
   "mimetype": "text/x-python",
   "name": "python",
   "nbconvert_exporter": "python",
   "pygments_lexer": "ipython2",
   "version": "2.7.12"
  }
 },
 "nbformat": 4,
 "nbformat_minor": 2
}
