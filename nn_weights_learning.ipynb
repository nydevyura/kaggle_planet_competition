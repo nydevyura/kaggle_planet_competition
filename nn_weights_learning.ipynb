{
 "cells": [
  {
   "cell_type": "code",
   "execution_count": 127,
   "metadata": {
    "collapsed": true,
    "deletable": true,
    "editable": true
   },
   "outputs": [],
   "source": [
    "import argparse\n",
    "import os, sys\n",
    "from utils.data_utils import *\n",
    "from glob import glob\n",
    "import pandas as pd\n",
    "import numpy as np\n",
    "import shutil\n",
    "from tqdm import tqdm\n",
    "%matplotlib inline  \n",
    "import matplotlib.pyplot as plt\n",
    "plt.rcParams[\"figure.figsize\"] = [12,9]\n",
    "\n",
    "from keras.models import Input, Model, Sequential\n",
    "from keras.layers import Dense\n",
    "\n",
    "np.set_printoptions(precision=5)\n",
    "np.set_printoptions(suppress=True)"
   ]
  },
  {
   "cell_type": "code",
   "execution_count": 41,
   "metadata": {
    "collapsed": true,
    "deletable": true,
    "editable": true
   },
   "outputs": [],
   "source": [
    "def is_windows():\n",
    "    return sys.platform == 'win32'\n",
    "\n",
    "res_dir = os.path.join('predictions')\n",
    "if is_windows():\n",
    "    l_dirs = ['0.21', '0.22', '0.23', '0.24', '0.25']\n",
    "else:\n",
    "    l_dirs = ['0.09']\n",
    "    \n",
    "def get_data_dir(a, t):\n",
    "    if t:\n",
    "        if a:\n",
    "            data_dir = 'train_ex'\n",
    "        else:\n",
    "            data_dir = 'train'\n",
    "    else:\n",
    "        if a:\n",
    "            data_dir = 'valid_ex'\n",
    "        else:\n",
    "            data_dir = 'valid'\n",
    "    return data_dir\n",
    "\n",
    "def load_loss_df(l_dirs, augmented=False, train=False):\n",
    "    data_dir = get_data_dir(augmented, train)\n",
    "    dataframes = []\n",
    "    for d in l_dirs:\n",
    "        dataframes.append(pd.read_csv(os.path.join(res_dir, data_dir, d, 'models.csv')))\n",
    "\n",
    "    df_l = pd.concat(dataframes, ignore_index=True)\n",
    "    return df_l\n",
    "\n",
    "def get_gt_name(a, t):\n",
    "    if t:\n",
    "        if a:\n",
    "            name = 'Y_train_augmented.npz'\n",
    "        else:\n",
    "            name = 'Y_train.npz'\n",
    "    else:\n",
    "        if a:\n",
    "            name = 'Y_valid_augmented.npz'\n",
    "        else:\n",
    "            name = 'Y_valid.npz'\n",
    "    return name\n",
    "\n",
    "def load_ground_truth(data_dir, augmented=False, train=False):\n",
    "    gt_name = get_gt_name(augmented, train)\n",
    "    y_true_path = os.path.join('augmented', data_dir, gt_name)\n",
    "    y_true = npz_to_ndarray(np.load(y_true_path))\n",
    "    return y_true\n",
    "\n",
    "def load_preds(df_loss, transposed=False):\n",
    "    preds = []\n",
    "    for npz_path in df_loss.res_path:\n",
    "        p = npz_to_ndarray(np.load(npz_path))\n",
    "        if transposed:\n",
    "            preds.append(p.transpose())\n",
    "        else:\n",
    "            preds.append(p)\n",
    "    return np.array(preds)"
   ]
  },
  {
   "cell_type": "code",
   "execution_count": 4,
   "metadata": {
    "collapsed": true,
    "deletable": true,
    "editable": true
   },
   "outputs": [],
   "source": [
    "train_augmented = True\n",
    "valid_augmented = True"
   ]
  },
  {
   "cell_type": "code",
   "execution_count": 5,
   "metadata": {
    "collapsed": false,
    "deletable": true,
    "editable": true
   },
   "outputs": [
    {
     "name": "stdout",
     "output_type": "stream",
     "text": [
      "76\n",
      "76\n"
     ]
    }
   ],
   "source": [
    "df_loss_valid = load_loss_df(l_dirs, augmented=valid_augmented, train=False)\n",
    "print(len(df_loss_valid))\n",
    "df_loss_train = load_loss_df(l_dirs, augmented=train_augmented, train=True)\n",
    "print(len(df_loss_train))"
   ]
  },
  {
   "cell_type": "code",
   "execution_count": 43,
   "metadata": {
    "collapsed": false,
    "deletable": true,
    "editable": true
   },
   "outputs": [
    {
     "name": "stdout",
     "output_type": "stream",
     "text": [
      "(76, 17, 64768)\n",
      "(76, 17, 259064)\n"
     ]
    }
   ],
   "source": [
    "preds_valid = load_preds(df_loss_valid, transposed=True)\n",
    "print(preds_valid.shape)\n",
    "preds_train = load_preds(df_loss_train, transposed=True)\n",
    "print(preds_train.shape)"
   ]
  },
  {
   "cell_type": "code",
   "execution_count": 7,
   "metadata": {
    "collapsed": false,
    "deletable": true,
    "editable": true
   },
   "outputs": [
    {
     "name": "stdout",
     "output_type": "stream",
     "text": [
      "(64768, 17)\n",
      "(259064, 17)\n"
     ]
    }
   ],
   "source": [
    "y_true_valid = load_ground_truth('train_augmented_size_128_mult_8_seed_0', augmented=valid_augmented, train=False)\n",
    "print(y_true_valid.shape)\n",
    "y_true_train = load_ground_truth('train_augmented_size_128_mult_8_seed_0', augmented=train_augmented, train=True)\n",
    "print(y_true_train.shape)"
   ]
  },
  {
   "cell_type": "code",
   "execution_count": 8,
   "metadata": {
    "collapsed": true,
    "deletable": true,
    "editable": true
   },
   "outputs": [],
   "source": [
    "def get_ensemble_avg_score(ensemble, all_preds, y_true, opt_th=False, opt_step=0.05, th=0.2):\n",
    "    ensemble_preds = [all_preds[j] for j in ensemble]\n",
    "    avg_pred = np.mean(ensemble_preds, axis=0)\n",
    "    if not opt_th:\n",
    "        avg_pred_final = (avg_pred > th).astype(int)\n",
    "    else:\n",
    "        thresholds = find_ratios(y_true, avg_pred, step=opt_step)\n",
    "        avg_pred_final = (avg_pred > thresholds).astype(int)\n",
    "    avg_score = fbeta_score(y_true, avg_pred_final, beta=2, average='samples')\n",
    "    return avg_score\n",
    "\n",
    "def opt_thresholds(ensemble, all_preds, y_true, opt_step=0.05):\n",
    "    ensemble_preds = [all_preds[j] for j in ensemble]\n",
    "    avg_pred = np.mean(ensemble_preds, axis=0)\n",
    "    thresholds = find_ratios(y_true, avg_pred, step=opt_step)\n",
    "    avg_pred_final = (avg_pred > thresholds).astype(int)\n",
    "    avg_score = fbeta_score(y_true, avg_pred_final, beta=2, average='samples')\n",
    "    return np.array(thresholds), avg_score"
   ]
  },
  {
   "cell_type": "code",
   "execution_count": 9,
   "metadata": {
    "collapsed": false,
    "deletable": true,
    "editable": true
   },
   "outputs": [
    {
     "name": "stdout",
     "output_type": "stream",
     "text": [
      "Score 0.92870 of models [20, 62, 13, 46, 8]\n"
     ]
    }
   ],
   "source": [
    "# ensemble = [20, 62]\n",
    "ensemble = [20, 62, 13, 46, 8]\n",
    "# ensemble = [20, 62, 13, 46, 8, 22, 12, 51, 25]\n",
    "print(\"Score %.5f of models %s\" % (get_ensemble_avg_score(ensemble, preds_valid, y_true_valid), ensemble))"
   ]
  },
  {
   "cell_type": "code",
   "execution_count": 55,
   "metadata": {
    "collapsed": false
   },
   "outputs": [
    {
     "name": "stdout",
     "output_type": "stream",
     "text": [
      "(5, 17, 259064), (5, 17, 64768)\n"
     ]
    }
   ],
   "source": [
    "preds_train_ensemble = np.array([preds_train[j] for j in ensemble])\n",
    "preds_valid_ensemble = np.array([preds_valid[j] for j in ensemble])\n",
    "print(\"%s, %s\" % (preds_train_ensemble.shape, preds_valid_ensemble.shape))\n",
    "dim_batch_train = preds_train_ensemble.shape[2]\n",
    "dim_batch_valid = preds_valid_ensemble.shape[2]\n",
    "dim_classes = preds_train_ensemble.shape[1]\n",
    "dim_models = preds_train_ensemble.shape[0]"
   ]
  },
  {
   "cell_type": "code",
   "execution_count": 60,
   "metadata": {
    "collapsed": false
   },
   "outputs": [
    {
     "name": "stdout",
     "output_type": "stream",
     "text": [
      "(259064, 85), (259064, 17)\n"
     ]
    }
   ],
   "source": [
    "X_train = preds_train_ensemble.transpose().reshape((dim_batch_train, dim_classes*dim_models))\n",
    "Y_train = y_true_train\n",
    "print(\"%s, %s\" % (X_train.shape, Y_train.shape))"
   ]
  },
  {
   "cell_type": "code",
   "execution_count": 59,
   "metadata": {
    "collapsed": false
   },
   "outputs": [
    {
     "name": "stdout",
     "output_type": "stream",
     "text": [
      "(64768, 85), (64768, 17)\n"
     ]
    }
   ],
   "source": [
    "X_valid = preds_valid_ensemble.transpose().reshape((dim_batch_valid, dim_classes*dim_models))\n",
    "Y_valid = y_true_valid\n",
    "print(\"%s, %s\" % (X_valid.shape, Y_valid.shape))"
   ]
  },
  {
   "cell_type": "code",
   "execution_count": 87,
   "metadata": {
    "collapsed": false
   },
   "outputs": [],
   "source": [
    "X=np.concatenate([X_train, X_valid])\n",
    "Y=np.concatenate([Y_train, Y_valid])"
   ]
  },
  {
   "cell_type": "code",
   "execution_count": 88,
   "metadata": {
    "collapsed": true
   },
   "outputs": [],
   "source": [
    "X_t, X_v, Y_t, Y_v = train_test_split(X, Y, test_size=0.2, random_state=0)"
   ]
  },
  {
   "cell_type": "code",
   "execution_count": 177,
   "metadata": {
    "collapsed": false
   },
   "outputs": [
    {
     "name": "stdout",
     "output_type": "stream",
     "text": [
      "_________________________________________________________________\n",
      "Layer (type)                 Output Shape              Param #   \n",
      "=================================================================\n",
      "input_27 (InputLayer)        (None, 85)                0         \n",
      "_________________________________________________________________\n",
      "dense_17 (Dense)             (None, 17)                1462      \n",
      "=================================================================\n",
      "Total params: 1,462\n",
      "Trainable params: 1,462\n",
      "Non-trainable params: 0\n",
      "_________________________________________________________________\n"
     ]
    }
   ],
   "source": [
    "inp = Input(batch_shape=(None, dim_classes*dim_models))\n",
    "x = Dense(17, activation='sigmoid')(inp)\n",
    "model = Model(inputs=inp, outputs=x)\n",
    "model.compile(loss='binary_crossentropy', optimizer='nadam', metrics=['accuracy'])\n",
    "model.summary()"
   ]
  },
  {
   "cell_type": "code",
   "execution_count": 178,
   "metadata": {
    "collapsed": false
   },
   "outputs": [
    {
     "name": "stdout",
     "output_type": "stream",
     "text": [
      "Train on 259065 samples, validate on 64767 samples\n",
      "Epoch 1/100\n",
      "5s - loss: 0.1432 - acc: 0.9593 - val_loss: 0.0826 - val_acc: 0.9725\n",
      "Epoch 2/100\n",
      "4s - loss: 0.0783 - acc: 0.9730 - val_loss: 0.0756 - val_acc: 0.9733\n",
      "Epoch 3/100\n",
      "4s - loss: 0.0749 - acc: 0.9735 - val_loss: 0.0740 - val_acc: 0.9736\n",
      "Epoch 4/100\n",
      "4s - loss: 0.0737 - acc: 0.9737 - val_loss: 0.0732 - val_acc: 0.9738\n",
      "Epoch 5/100\n",
      "4s - loss: 0.0731 - acc: 0.9739 - val_loss: 0.0727 - val_acc: 0.9739\n",
      "Epoch 6/100\n",
      "4s - loss: 0.0726 - acc: 0.9740 - val_loss: 0.0723 - val_acc: 0.9740\n",
      "Epoch 7/100\n",
      "4s - loss: 0.0723 - acc: 0.9740 - val_loss: 0.0720 - val_acc: 0.9741\n",
      "Epoch 8/100\n",
      "4s - loss: 0.0721 - acc: 0.9741 - val_loss: 0.0719 - val_acc: 0.9741\n",
      "Epoch 9/100\n",
      "4s - loss: 0.0719 - acc: 0.9742 - val_loss: 0.0717 - val_acc: 0.9742\n",
      "Epoch 10/100\n",
      "4s - loss: 0.0718 - acc: 0.9742 - val_loss: 0.0717 - val_acc: 0.9743\n",
      "Epoch 11/100\n",
      "4s - loss: 0.0717 - acc: 0.9742 - val_loss: 0.0715 - val_acc: 0.9743\n",
      "Epoch 12/100\n",
      "4s - loss: 0.0716 - acc: 0.9743 - val_loss: 0.0714 - val_acc: 0.9743\n",
      "Epoch 13/100\n",
      "4s - loss: 0.0715 - acc: 0.9743 - val_loss: 0.0714 - val_acc: 0.9742\n",
      "Epoch 14/100\n",
      "4s - loss: 0.0714 - acc: 0.9743 - val_loss: 0.0713 - val_acc: 0.9743\n",
      "Epoch 15/100\n",
      "4s - loss: 0.0714 - acc: 0.9743 - val_loss: 0.0713 - val_acc: 0.9743\n",
      "Epoch 16/100\n",
      "4s - loss: 0.0713 - acc: 0.9743 - val_loss: 0.0712 - val_acc: 0.9743\n",
      "Epoch 17/100\n",
      "4s - loss: 0.0713 - acc: 0.9743 - val_loss: 0.0712 - val_acc: 0.9743\n",
      "Epoch 18/100\n",
      "4s - loss: 0.0712 - acc: 0.9743 - val_loss: 0.0711 - val_acc: 0.9744\n",
      "Epoch 19/100\n",
      "4s - loss: 0.0712 - acc: 0.9744 - val_loss: 0.0711 - val_acc: 0.9744\n",
      "Epoch 20/100\n",
      "4s - loss: 0.0712 - acc: 0.9743 - val_loss: 0.0711 - val_acc: 0.9744\n",
      "Epoch 21/100\n",
      "4s - loss: 0.0711 - acc: 0.9744 - val_loss: 0.0711 - val_acc: 0.9743\n",
      "Epoch 22/100\n",
      "4s - loss: 0.0711 - acc: 0.9744 - val_loss: 0.0711 - val_acc: 0.9744\n",
      "Epoch 23/100\n",
      "4s - loss: 0.0711 - acc: 0.9744 - val_loss: 0.0711 - val_acc: 0.9744\n",
      "Epoch 24/100\n",
      "4s - loss: 0.0711 - acc: 0.9744 - val_loss: 0.0710 - val_acc: 0.9743\n",
      "Epoch 25/100\n",
      "4s - loss: 0.0710 - acc: 0.9744 - val_loss: 0.0710 - val_acc: 0.9744\n",
      "Epoch 26/100\n",
      "4s - loss: 0.0710 - acc: 0.9744 - val_loss: 0.0709 - val_acc: 0.9744\n",
      "Epoch 27/100\n",
      "4s - loss: 0.0710 - acc: 0.9744 - val_loss: 0.0709 - val_acc: 0.9744\n",
      "Epoch 28/100\n",
      "4s - loss: 0.0710 - acc: 0.9744 - val_loss: 0.0709 - val_acc: 0.9744\n",
      "Epoch 29/100\n",
      "4s - loss: 0.0710 - acc: 0.9744 - val_loss: 0.0709 - val_acc: 0.9744\n",
      "Epoch 30/100\n",
      "4s - loss: 0.0709 - acc: 0.9744 - val_loss: 0.0709 - val_acc: 0.9744\n",
      "Epoch 31/100\n",
      "4s - loss: 0.0709 - acc: 0.9744 - val_loss: 0.0709 - val_acc: 0.9744\n",
      "Epoch 32/100\n",
      "4s - loss: 0.0709 - acc: 0.9744 - val_loss: 0.0709 - val_acc: 0.9744\n",
      "Epoch 33/100\n",
      "4s - loss: 0.0709 - acc: 0.9744 - val_loss: 0.0709 - val_acc: 0.9744\n",
      "Epoch 34/100\n",
      "4s - loss: 0.0709 - acc: 0.9744 - val_loss: 0.0708 - val_acc: 0.9744\n",
      "Epoch 35/100\n",
      "4s - loss: 0.0709 - acc: 0.9744 - val_loss: 0.0708 - val_acc: 0.9745\n",
      "Epoch 36/100\n",
      "4s - loss: 0.0709 - acc: 0.9744 - val_loss: 0.0708 - val_acc: 0.9745\n",
      "Epoch 37/100\n",
      "4s - loss: 0.0708 - acc: 0.9744 - val_loss: 0.0708 - val_acc: 0.9744\n",
      "Epoch 38/100\n",
      "4s - loss: 0.0708 - acc: 0.9744 - val_loss: 0.0708 - val_acc: 0.9745\n",
      "Epoch 39/100\n",
      "4s - loss: 0.0708 - acc: 0.9744 - val_loss: 0.0709 - val_acc: 0.9744\n",
      "Epoch 40/100\n",
      "4s - loss: 0.0708 - acc: 0.9744 - val_loss: 0.0708 - val_acc: 0.9744\n",
      "Epoch 41/100\n",
      "4s - loss: 0.0708 - acc: 0.9744 - val_loss: 0.0708 - val_acc: 0.9744\n",
      "Epoch 42/100\n",
      "4s - loss: 0.0708 - acc: 0.9744 - val_loss: 0.0708 - val_acc: 0.9744\n",
      "Epoch 43/100\n",
      "4s - loss: 0.0708 - acc: 0.9744 - val_loss: 0.0708 - val_acc: 0.9745\n",
      "Epoch 44/100\n",
      "4s - loss: 0.0708 - acc: 0.9744 - val_loss: 0.0708 - val_acc: 0.9744\n",
      "Epoch 45/100\n",
      "4s - loss: 0.0708 - acc: 0.9744 - val_loss: 0.0707 - val_acc: 0.9745\n",
      "Epoch 46/100\n",
      "4s - loss: 0.0708 - acc: 0.9744 - val_loss: 0.0708 - val_acc: 0.9745\n",
      "Epoch 47/100\n",
      "4s - loss: 0.0708 - acc: 0.9744 - val_loss: 0.0708 - val_acc: 0.9745\n",
      "Epoch 48/100\n",
      "4s - loss: 0.0707 - acc: 0.9744 - val_loss: 0.0707 - val_acc: 0.9744\n",
      "Epoch 49/100\n",
      "4s - loss: 0.0707 - acc: 0.9744 - val_loss: 0.0708 - val_acc: 0.9744\n",
      "Epoch 50/100\n",
      "4s - loss: 0.0707 - acc: 0.9744 - val_loss: 0.0707 - val_acc: 0.9745\n",
      "Epoch 51/100\n",
      "4s - loss: 0.0707 - acc: 0.9744 - val_loss: 0.0708 - val_acc: 0.9745\n",
      "Epoch 52/100\n",
      "4s - loss: 0.0707 - acc: 0.9745 - val_loss: 0.0707 - val_acc: 0.9744\n",
      "Epoch 53/100\n",
      "4s - loss: 0.0707 - acc: 0.9744 - val_loss: 0.0707 - val_acc: 0.9744\n",
      "Epoch 54/100\n",
      "4s - loss: 0.0707 - acc: 0.9744 - val_loss: 0.0707 - val_acc: 0.9745\n",
      "Epoch 55/100\n",
      "4s - loss: 0.0707 - acc: 0.9744 - val_loss: 0.0707 - val_acc: 0.9744\n",
      "Epoch 56/100\n",
      "4s - loss: 0.0707 - acc: 0.9744 - val_loss: 0.0707 - val_acc: 0.9745\n",
      "Epoch 57/100\n",
      "4s - loss: 0.0707 - acc: 0.9744 - val_loss: 0.0707 - val_acc: 0.9744\n",
      "Epoch 58/100\n",
      "4s - loss: 0.0707 - acc: 0.9744 - val_loss: 0.0707 - val_acc: 0.9745\n",
      "Epoch 59/100\n",
      "4s - loss: 0.0707 - acc: 0.9744 - val_loss: 0.0707 - val_acc: 0.9744\n",
      "Epoch 60/100\n",
      "4s - loss: 0.0707 - acc: 0.9744 - val_loss: 0.0707 - val_acc: 0.9745\n",
      "Epoch 61/100\n",
      "4s - loss: 0.0707 - acc: 0.9744 - val_loss: 0.0707 - val_acc: 0.9745\n",
      "Epoch 62/100\n",
      "4s - loss: 0.0707 - acc: 0.9744 - val_loss: 0.0706 - val_acc: 0.9745\n",
      "Epoch 63/100\n",
      "4s - loss: 0.0707 - acc: 0.9745 - val_loss: 0.0707 - val_acc: 0.9744\n",
      "Epoch 64/100\n",
      "4s - loss: 0.0707 - acc: 0.9744 - val_loss: 0.0707 - val_acc: 0.9744\n",
      "Epoch 65/100\n",
      "4s - loss: 0.0707 - acc: 0.9744 - val_loss: 0.0706 - val_acc: 0.9744\n",
      "Epoch 66/100\n",
      "4s - loss: 0.0707 - acc: 0.9744 - val_loss: 0.0707 - val_acc: 0.9744\n",
      "Epoch 67/100\n",
      "4s - loss: 0.0706 - acc: 0.9744 - val_loss: 0.0707 - val_acc: 0.9744\n",
      "Epoch 68/100\n",
      "4s - loss: 0.0706 - acc: 0.9744 - val_loss: 0.0707 - val_acc: 0.9744\n",
      "Epoch 69/100\n",
      "4s - loss: 0.0706 - acc: 0.9744 - val_loss: 0.0707 - val_acc: 0.9745\n",
      "Epoch 70/100\n",
      "4s - loss: 0.0706 - acc: 0.9744 - val_loss: 0.0707 - val_acc: 0.9744\n",
      "Epoch 71/100\n",
      "4s - loss: 0.0706 - acc: 0.9744 - val_loss: 0.0706 - val_acc: 0.9745\n",
      "Epoch 72/100\n",
      "4s - loss: 0.0706 - acc: 0.9745 - val_loss: 0.0707 - val_acc: 0.9744\n",
      "Epoch 73/100\n",
      "4s - loss: 0.0706 - acc: 0.9744 - val_loss: 0.0706 - val_acc: 0.9745\n",
      "Epoch 74/100\n",
      "4s - loss: 0.0706 - acc: 0.9745 - val_loss: 0.0707 - val_acc: 0.9744\n",
      "Epoch 75/100\n",
      "4s - loss: 0.0706 - acc: 0.9744 - val_loss: 0.0706 - val_acc: 0.9745\n",
      "Epoch 76/100\n",
      "4s - loss: 0.0706 - acc: 0.9744 - val_loss: 0.0706 - val_acc: 0.9745\n",
      "Epoch 77/100\n",
      "4s - loss: 0.0706 - acc: 0.9744 - val_loss: 0.0706 - val_acc: 0.9745\n",
      "Epoch 78/100\n",
      "4s - loss: 0.0706 - acc: 0.9745 - val_loss: 0.0707 - val_acc: 0.9744\n",
      "Epoch 79/100\n",
      "4s - loss: 0.0706 - acc: 0.9744 - val_loss: 0.0706 - val_acc: 0.9745\n",
      "Epoch 80/100\n",
      "4s - loss: 0.0706 - acc: 0.9745 - val_loss: 0.0706 - val_acc: 0.9745\n",
      "Epoch 81/100\n",
      "4s - loss: 0.0706 - acc: 0.9744 - val_loss: 0.0706 - val_acc: 0.9745\n",
      "Epoch 82/100\n",
      "4s - loss: 0.0706 - acc: 0.9744 - val_loss: 0.0706 - val_acc: 0.9745\n",
      "Epoch 83/100\n",
      "4s - loss: 0.0706 - acc: 0.9744 - val_loss: 0.0706 - val_acc: 0.9745\n",
      "Epoch 84/100\n",
      "4s - loss: 0.0706 - acc: 0.9744 - val_loss: 0.0706 - val_acc: 0.9745\n",
      "Epoch 85/100\n",
      "4s - loss: 0.0706 - acc: 0.9744 - val_loss: 0.0706 - val_acc: 0.9745\n",
      "Epoch 86/100\n",
      "4s - loss: 0.0706 - acc: 0.9744 - val_loss: 0.0706 - val_acc: 0.9745\n",
      "Epoch 87/100\n",
      "4s - loss: 0.0706 - acc: 0.9745 - val_loss: 0.0706 - val_acc: 0.9744\n",
      "Epoch 88/100\n",
      "4s - loss: 0.0706 - acc: 0.9745 - val_loss: 0.0706 - val_acc: 0.9744\n",
      "Epoch 89/100\n",
      "4s - loss: 0.0706 - acc: 0.9744 - val_loss: 0.0706 - val_acc: 0.9745\n",
      "Epoch 90/100\n",
      "4s - loss: 0.0706 - acc: 0.9745 - val_loss: 0.0706 - val_acc: 0.9745\n",
      "Epoch 91/100\n",
      "4s - loss: 0.0706 - acc: 0.9744 - val_loss: 0.0706 - val_acc: 0.9745\n",
      "Epoch 92/100\n",
      "4s - loss: 0.0706 - acc: 0.9745 - val_loss: 0.0706 - val_acc: 0.9745\n",
      "Epoch 93/100\n",
      "4s - loss: 0.0706 - acc: 0.9745 - val_loss: 0.0706 - val_acc: 0.9745\n",
      "Epoch 94/100\n",
      "4s - loss: 0.0706 - acc: 0.9744 - val_loss: 0.0706 - val_acc: 0.9745\n",
      "Epoch 95/100\n",
      "4s - loss: 0.0706 - acc: 0.9744 - val_loss: 0.0706 - val_acc: 0.9745\n",
      "Epoch 96/100\n",
      "4s - loss: 0.0706 - acc: 0.9745 - val_loss: 0.0705 - val_acc: 0.9744\n",
      "Epoch 97/100\n",
      "4s - loss: 0.0706 - acc: 0.9744 - val_loss: 0.0705 - val_acc: 0.9745\n",
      "Epoch 98/100\n",
      "4s - loss: 0.0705 - acc: 0.9745 - val_loss: 0.0706 - val_acc: 0.9745\n",
      "Epoch 99/100\n",
      "4s - loss: 0.0705 - acc: 0.9744 - val_loss: 0.0706 - val_acc: 0.9745\n",
      "Epoch 100/100\n",
      "4s - loss: 0.0705 - acc: 0.9745 - val_loss: 0.0706 - val_acc: 0.9745\n"
     ]
    },
    {
     "data": {
      "text/plain": [
       "<matplotlib.legend.Legend at 0x7fdeb80afd10>"
      ]
     },
     "execution_count": 178,
     "metadata": {},
     "output_type": "execute_result"
    },
    {
     "data": {
      "image/png": "[encoded data removed]",
      "text/plain": [
       "<matplotlib.figure.Figure at 0x7fdeb85299d0>"
      ]
     },
     "metadata": {},
     "output_type": "display_data"
    }
   ],
   "source": [
    "batch_size = 256\n",
    "epochs = 100\n",
    "history_callback = model.fit(X_t, Y_t, batch_size=batch_size, epochs=epochs, verbose=2, \\\n",
    "          validation_data=(X_v, Y_v))\n",
    "\n",
    "# print(\"Max score %f at epoch %d\" % (np.max(scores), np.argmax(scores)))\n",
    "plt.figure(figsize=(12, 4))\n",
    "plt.subplot(1, 2, 1)\n",
    "plt.plot(history_callback.history['loss'])\n",
    "plt.plot(history_callback.history['val_loss'])\n",
    "plt.legend(labels=['loss', 'val_loss'])\n",
    "# plt.subplot(1, 2, 2)\n",
    "# plt.plot(scores)\n",
    "# plt.legend(labels=['val_fbeta'])\n",
    "# plt.show()"
   ]
  },
  {
   "cell_type": "code",
   "execution_count": 179,
   "metadata": {
    "collapsed": false
   },
   "outputs": [
    {
     "data": {
      "text/plain": [
       "0.94125291328732319"
      ]
     },
     "execution_count": 179,
     "metadata": {},
     "output_type": "execute_result"
    }
   ],
   "source": [
    "pred_v_final = (model.predict(X_v) > 0.2).astype(int)\n",
    "fbeta_score(Y_v, pred_v_final, beta=2, average='samples')"
   ]
  },
  {
   "cell_type": "code",
   "execution_count": 180,
   "metadata": {
    "collapsed": false
   },
   "outputs": [
    {
     "data": {
      "text/plain": [
       "0.94506739202288514"
      ]
     },
     "execution_count": 180,
     "metadata": {},
     "output_type": "execute_result"
    }
   ],
   "source": [
    "pred_train_final = (model.predict(X_train) > 0.2).astype(int)\n",
    "fbeta_score(y_true_train, pred_train_final, beta=2, average='samples')"
   ]
  },
  {
   "cell_type": "code",
   "execution_count": 186,
   "metadata": {
    "collapsed": false
   },
   "outputs": [
    {
     "name": "stdout",
     "output_type": "stream",
     "text": [
      "[-15.0847   -4.06113  -7.57677 -16.78234  -5.39819]\n",
      "[-0.62543  0.80531 -0.75107 -1.19027  0.14674]\n",
      "[ -8.88086  -2.84881   7.07265  36.54503  26.58259]\n",
      "[ 0.44704  0.2467   5.15314  2.4847   1.84196]\n",
      "[-0.17713 -0.99379  1.01715 -0.82558 -1.23105]\n",
      "[-2.97537  3.47419 -0.87784 -0.65745 -0.46761]\n",
      "[-0.19913  0.09611 -0.44161 -0.03633 -0.81241]\n",
      "[-1.39572 -0.43365 -1.2265  -0.56022  0.01494]\n",
      "[  2.52688   4.24145  -1.02049  11.44044   0.12588]\n",
      "[-0.99351 -0.18186 -1.105    0.03765 -0.52204]\n",
      "[-0.91355  1.76397 -3.20688 -2.0808   2.21245]\n",
      "[-0.51412 -0.58624  0.27673 -1.12249  0.27859]\n",
      "[ 2.44586 -1.38619 -0.23896 -1.23565  0.95288]\n",
      "[-11.06025  -7.47486   2.16442   8.16653   0.74888]\n",
      "[-0.66162 -0.31268 -1.07015 -1.14211 -0.1778 ]\n",
      "[-0.32547 -0.33468  0.76427 -0.29174  0.3493 ]\n",
      "[  2.91964   8.06445  -5.17206  37.90324  22.07038]\n"
     ]
    }
   ],
   "source": [
    "cls=3\n",
    "w1=model.get_weights()[0][:,cls].reshape((17,5))\n",
    "for i in range(17):\n",
    "    print(w1[i,:])"
   ]
  },
  {
   "cell_type": "code",
   "execution_count": 181,
   "metadata": {
    "collapsed": true
   },
   "outputs": [],
   "source": [
    "def reconstruct(X_r):\n",
    "    X_r_reconstructed = np.empty((5,X_r.shape[0],17))\n",
    "    temp1 = X_r.reshape((X_r.shape[0],17,5)).transpose()\n",
    "    for i in range(temp1.shape[0]):\n",
    "        X_r_reconstructed[i] = temp1[i].transpose()\n",
    "    return X_r_reconstructed"
   ]
  },
  {
   "cell_type": "code",
   "execution_count": 182,
   "metadata": {
    "collapsed": false
   },
   "outputs": [
    {
     "data": {
      "text/plain": [
       "0.94173161452971843"
      ]
     },
     "execution_count": 182,
     "metadata": {},
     "output_type": "execute_result"
    }
   ],
   "source": [
    "p_v_reconstructed = (np.mean(reconstruct(X_v), axis=0) > 0.2).astype(int)\n",
    "fbeta_score(Y_v, p_v_reconstructed, beta=2, average='samples')"
   ]
  },
  {
   "cell_type": "code",
   "execution_count": 183,
   "metadata": {
    "collapsed": false
   },
   "outputs": [
    {
     "data": {
      "text/plain": [
       "0.94096011664754398"
      ]
     },
     "execution_count": 183,
     "metadata": {},
     "output_type": "execute_result"
    }
   ],
   "source": [
    "p_t_reconstructed = (np.mean(reconstruct(X_t), axis=0) > 0.2).astype(int)\n",
    "fbeta_score(Y_t, p_t_reconstructed, beta=2, average='samples')"
   ]
  },
  {
   "cell_type": "code",
   "execution_count": 184,
   "metadata": {
    "collapsed": false
   },
   "outputs": [
    {
     "data": {
      "text/plain": [
       "0.94111441765341974"
      ]
     },
     "execution_count": 184,
     "metadata": {},
     "output_type": "execute_result"
    }
   ],
   "source": [
    "p_reconstructed = (np.mean(reconstruct(X), axis=0) > 0.2).astype(int)\n",
    "fbeta_score(Y, p_reconstructed, beta=2, average='samples')"
   ]
  },
  {
   "cell_type": "code",
   "execution_count": 173,
   "metadata": {
    "collapsed": false
   },
   "outputs": [
    {
     "name": "stdout",
     "output_type": "stream",
     "text": [
      "_________________________________________________________________\n",
      "Layer (type)                 Output Shape              Param #   \n",
      "=================================================================\n",
      "input_26 (InputLayer)        (None, 85)                0         \n",
      "_________________________________________________________________\n",
      "dense_16 (Dense)             (None, 17)                1462      \n",
      "=================================================================\n",
      "Total params: 1,462\n",
      "Trainable params: 1,462\n",
      "Non-trainable params: 0\n",
      "_________________________________________________________________\n"
     ]
    }
   ],
   "source": [
    "from keras.optimizers import rmsprop\n",
    "inp = Input(batch_shape=(None, dim_classes*dim_models))\n",
    "x = Dense(17, activation='sigmoid')(inp)\n",
    "model2 = Model(inputs=inp, outputs=x)\n",
    "model2.compile(loss='binary_crossentropy', optimizer='adam', metrics=['accuracy'])\n",
    "model2.summary()"
   ]
  },
  {
   "cell_type": "code",
   "execution_count": 174,
   "metadata": {
    "collapsed": false
   },
   "outputs": [
    {
     "name": "stdout",
     "output_type": "stream",
     "text": [
      "Train on 259065 samples, validate on 64767 samples\n",
      "Epoch 1/100\n",
      "4s - loss: 0.1895 - acc: 0.9483 - val_loss: 0.1005 - val_acc: 0.9705\n",
      "Epoch 2/100\n",
      "4s - loss: 0.0890 - acc: 0.9717 - val_loss: 0.0814 - val_acc: 0.9726\n",
      "Epoch 3/100\n",
      "4s - loss: 0.0789 - acc: 0.9729 - val_loss: 0.0765 - val_acc: 0.9732\n",
      "Epoch 4/100\n",
      "4s - loss: 0.0758 - acc: 0.9733 - val_loss: 0.0747 - val_acc: 0.9735\n",
      "Epoch 5/100\n",
      "4s - loss: 0.0745 - acc: 0.9735 - val_loss: 0.0739 - val_acc: 0.9736\n",
      "Epoch 6/100\n",
      "4s - loss: 0.0738 - acc: 0.9737 - val_loss: 0.0733 - val_acc: 0.9738\n",
      "Epoch 7/100\n",
      "4s - loss: 0.0733 - acc: 0.9738 - val_loss: 0.0729 - val_acc: 0.9738\n",
      "Epoch 8/100\n",
      "4s - loss: 0.0729 - acc: 0.9739 - val_loss: 0.0726 - val_acc: 0.9740\n",
      "Epoch 9/100\n",
      "4s - loss: 0.0727 - acc: 0.9739 - val_loss: 0.0724 - val_acc: 0.9740\n",
      "Epoch 10/100\n",
      "4s - loss: 0.0725 - acc: 0.9740 - val_loss: 0.0723 - val_acc: 0.9740\n",
      "Epoch 11/100\n",
      "4s - loss: 0.0723 - acc: 0.9740 - val_loss: 0.0721 - val_acc: 0.9741\n",
      "Epoch 12/100\n",
      "4s - loss: 0.0722 - acc: 0.9741 - val_loss: 0.0720 - val_acc: 0.9741\n",
      "Epoch 13/100\n",
      "4s - loss: 0.0720 - acc: 0.9741 - val_loss: 0.0719 - val_acc: 0.9741\n",
      "Epoch 14/100\n",
      "4s - loss: 0.0720 - acc: 0.9741 - val_loss: 0.0718 - val_acc: 0.9742\n",
      "Epoch 15/100\n",
      "4s - loss: 0.0719 - acc: 0.9741 - val_loss: 0.0718 - val_acc: 0.9741\n",
      "Epoch 16/100\n",
      "4s - loss: 0.0718 - acc: 0.9741 - val_loss: 0.0717 - val_acc: 0.9742\n",
      "Epoch 17/100\n",
      "4s - loss: 0.0717 - acc: 0.9742 - val_loss: 0.0716 - val_acc: 0.9742\n",
      "Epoch 18/100\n",
      "4s - loss: 0.0717 - acc: 0.9742 - val_loss: 0.0716 - val_acc: 0.9743\n",
      "Epoch 19/100\n",
      "4s - loss: 0.0716 - acc: 0.9742 - val_loss: 0.0715 - val_acc: 0.9743\n",
      "Epoch 20/100\n",
      "4s - loss: 0.0716 - acc: 0.9742 - val_loss: 0.0715 - val_acc: 0.9743\n",
      "Epoch 21/100\n",
      "4s - loss: 0.0715 - acc: 0.9743 - val_loss: 0.0715 - val_acc: 0.9743\n",
      "Epoch 22/100\n",
      "4s - loss: 0.0715 - acc: 0.9743 - val_loss: 0.0714 - val_acc: 0.9743\n",
      "Epoch 23/100\n",
      "4s - loss: 0.0714 - acc: 0.9743 - val_loss: 0.0714 - val_acc: 0.9743\n",
      "Epoch 24/100\n",
      "4s - loss: 0.0714 - acc: 0.9743 - val_loss: 0.0713 - val_acc: 0.9743\n",
      "Epoch 25/100\n",
      "4s - loss: 0.0714 - acc: 0.9743 - val_loss: 0.0713 - val_acc: 0.9743\n",
      "Epoch 26/100\n",
      "4s - loss: 0.0713 - acc: 0.9743 - val_loss: 0.0713 - val_acc: 0.9743\n",
      "Epoch 27/100\n",
      "4s - loss: 0.0713 - acc: 0.9743 - val_loss: 0.0713 - val_acc: 0.9743\n",
      "Epoch 28/100\n",
      "4s - loss: 0.0713 - acc: 0.9743 - val_loss: 0.0712 - val_acc: 0.9744\n",
      "Epoch 29/100\n",
      "4s - loss: 0.0713 - acc: 0.9743 - val_loss: 0.0712 - val_acc: 0.9743\n",
      "Epoch 30/100\n",
      "4s - loss: 0.0712 - acc: 0.9743 - val_loss: 0.0712 - val_acc: 0.9744\n",
      "Epoch 31/100\n",
      "4s - loss: 0.0712 - acc: 0.9743 - val_loss: 0.0712 - val_acc: 0.9743\n",
      "Epoch 32/100\n",
      "4s - loss: 0.0712 - acc: 0.9743 - val_loss: 0.0711 - val_acc: 0.9744\n",
      "Epoch 33/100\n",
      "4s - loss: 0.0712 - acc: 0.9743 - val_loss: 0.0711 - val_acc: 0.9744\n",
      "Epoch 34/100\n",
      "4s - loss: 0.0712 - acc: 0.9744 - val_loss: 0.0711 - val_acc: 0.9744\n",
      "Epoch 35/100\n",
      "4s - loss: 0.0711 - acc: 0.9743 - val_loss: 0.0711 - val_acc: 0.9744\n",
      "Epoch 36/100\n",
      "4s - loss: 0.0711 - acc: 0.9744 - val_loss: 0.0711 - val_acc: 0.9744\n",
      "Epoch 37/100\n",
      "4s - loss: 0.0711 - acc: 0.9744 - val_loss: 0.0711 - val_acc: 0.9744\n",
      "Epoch 38/100\n",
      "4s - loss: 0.0711 - acc: 0.9744 - val_loss: 0.0711 - val_acc: 0.9743\n",
      "Epoch 39/100\n",
      "4s - loss: 0.0711 - acc: 0.9744 - val_loss: 0.0710 - val_acc: 0.9744\n",
      "Epoch 40/100\n",
      "4s - loss: 0.0711 - acc: 0.9744 - val_loss: 0.0710 - val_acc: 0.9744\n",
      "Epoch 41/100\n",
      "4s - loss: 0.0711 - acc: 0.9744 - val_loss: 0.0710 - val_acc: 0.9744\n",
      "Epoch 42/100\n",
      "4s - loss: 0.0710 - acc: 0.9744 - val_loss: 0.0710 - val_acc: 0.9744\n",
      "Epoch 43/100\n",
      "4s - loss: 0.0710 - acc: 0.9744 - val_loss: 0.0710 - val_acc: 0.9744\n",
      "Epoch 44/100\n",
      "4s - loss: 0.0710 - acc: 0.9744 - val_loss: 0.0710 - val_acc: 0.9744\n",
      "Epoch 45/100\n",
      "4s - loss: 0.0710 - acc: 0.9744 - val_loss: 0.0710 - val_acc: 0.9744\n",
      "Epoch 46/100\n",
      "3s - loss: 0.0710 - acc: 0.9744 - val_loss: 0.0710 - val_acc: 0.9744\n",
      "Epoch 47/100\n",
      "4s - loss: 0.0710 - acc: 0.9744 - val_loss: 0.0710 - val_acc: 0.9744\n",
      "Epoch 48/100\n",
      "4s - loss: 0.0710 - acc: 0.9744 - val_loss: 0.0709 - val_acc: 0.9744\n",
      "Epoch 49/100\n",
      "3s - loss: 0.0709 - acc: 0.9744 - val_loss: 0.0709 - val_acc: 0.9744\n",
      "Epoch 50/100\n",
      "4s - loss: 0.0709 - acc: 0.9744 - val_loss: 0.0709 - val_acc: 0.9745\n",
      "Epoch 51/100\n",
      "4s - loss: 0.0709 - acc: 0.9744 - val_loss: 0.0709 - val_acc: 0.9744\n",
      "Epoch 52/100\n",
      "4s - loss: 0.0709 - acc: 0.9744 - val_loss: 0.0709 - val_acc: 0.9744\n",
      "Epoch 53/100\n",
      "3s - loss: 0.0709 - acc: 0.9744 - val_loss: 0.0709 - val_acc: 0.9744\n",
      "Epoch 54/100\n",
      "3s - loss: 0.0709 - acc: 0.9744 - val_loss: 0.0709 - val_acc: 0.9744\n",
      "Epoch 55/100\n",
      "3s - loss: 0.0709 - acc: 0.9744 - val_loss: 0.0709 - val_acc: 0.9744\n",
      "Epoch 56/100\n",
      "4s - loss: 0.0709 - acc: 0.9744 - val_loss: 0.0709 - val_acc: 0.9744\n",
      "Epoch 57/100\n",
      "4s - loss: 0.0709 - acc: 0.9744 - val_loss: 0.0709 - val_acc: 0.9744\n",
      "Epoch 58/100\n",
      "4s - loss: 0.0709 - acc: 0.9744 - val_loss: 0.0709 - val_acc: 0.9744\n",
      "Epoch 59/100\n",
      "3s - loss: 0.0709 - acc: 0.9744 - val_loss: 0.0709 - val_acc: 0.9744\n",
      "Epoch 60/100\n",
      "4s - loss: 0.0709 - acc: 0.9744 - val_loss: 0.0708 - val_acc: 0.9744\n",
      "Epoch 61/100\n",
      "4s - loss: 0.0709 - acc: 0.9744 - val_loss: 0.0708 - val_acc: 0.9744\n",
      "Epoch 62/100\n",
      "3s - loss: 0.0708 - acc: 0.9744 - val_loss: 0.0708 - val_acc: 0.9745\n",
      "Epoch 63/100\n",
      "4s - loss: 0.0708 - acc: 0.9744 - val_loss: 0.0708 - val_acc: 0.9744\n",
      "Epoch 64/100\n",
      "4s - loss: 0.0708 - acc: 0.9744 - val_loss: 0.0709 - val_acc: 0.9744\n",
      "Epoch 65/100\n",
      "3s - loss: 0.0708 - acc: 0.9744 - val_loss: 0.0708 - val_acc: 0.9744\n",
      "Epoch 66/100\n",
      "4s - loss: 0.0708 - acc: 0.9744 - val_loss: 0.0708 - val_acc: 0.9744\n",
      "Epoch 67/100\n",
      "3s - loss: 0.0708 - acc: 0.9744 - val_loss: 0.0708 - val_acc: 0.9744\n",
      "Epoch 68/100\n",
      "3s - loss: 0.0708 - acc: 0.9744 - val_loss: 0.0708 - val_acc: 0.9745\n",
      "Epoch 69/100\n",
      "3s - loss: 0.0708 - acc: 0.9744 - val_loss: 0.0708 - val_acc: 0.9744\n",
      "Epoch 70/100\n",
      "4s - loss: 0.0708 - acc: 0.9744 - val_loss: 0.0708 - val_acc: 0.9744\n",
      "Epoch 71/100\n",
      "4s - loss: 0.0708 - acc: 0.9744 - val_loss: 0.0708 - val_acc: 0.9745\n",
      "Epoch 72/100\n",
      "4s - loss: 0.0708 - acc: 0.9744 - val_loss: 0.0708 - val_acc: 0.9744\n",
      "Epoch 73/100\n",
      "4s - loss: 0.0708 - acc: 0.9744 - val_loss: 0.0708 - val_acc: 0.9744\n",
      "Epoch 74/100\n",
      "4s - loss: 0.0708 - acc: 0.9744 - val_loss: 0.0708 - val_acc: 0.9744\n",
      "Epoch 75/100\n",
      "4s - loss: 0.0708 - acc: 0.9744 - val_loss: 0.0708 - val_acc: 0.9744\n",
      "Epoch 76/100\n",
      "4s - loss: 0.0708 - acc: 0.9744 - val_loss: 0.0708 - val_acc: 0.9744\n",
      "Epoch 77/100\n",
      "4s - loss: 0.0708 - acc: 0.9744 - val_loss: 0.0708 - val_acc: 0.9744\n",
      "Epoch 78/100\n",
      "4s - loss: 0.0708 - acc: 0.9744 - val_loss: 0.0707 - val_acc: 0.9744\n",
      "Epoch 79/100\n",
      "4s - loss: 0.0707 - acc: 0.9744 - val_loss: 0.0708 - val_acc: 0.9745\n",
      "Epoch 80/100\n",
      "4s - loss: 0.0707 - acc: 0.9744 - val_loss: 0.0707 - val_acc: 0.9744\n",
      "Epoch 81/100\n",
      "4s - loss: 0.0707 - acc: 0.9744 - val_loss: 0.0708 - val_acc: 0.9744\n",
      "Epoch 82/100\n",
      "4s - loss: 0.0707 - acc: 0.9744 - val_loss: 0.0708 - val_acc: 0.9744\n",
      "Epoch 83/100\n",
      "3s - loss: 0.0707 - acc: 0.9744 - val_loss: 0.0707 - val_acc: 0.9745\n",
      "Epoch 84/100\n",
      "4s - loss: 0.0707 - acc: 0.9744 - val_loss: 0.0708 - val_acc: 0.9744\n",
      "Epoch 85/100\n",
      "3s - loss: 0.0707 - acc: 0.9744 - val_loss: 0.0707 - val_acc: 0.9744\n",
      "Epoch 86/100\n",
      "4s - loss: 0.0707 - acc: 0.9744 - val_loss: 0.0707 - val_acc: 0.9745\n",
      "Epoch 87/100\n",
      "4s - loss: 0.0707 - acc: 0.9744 - val_loss: 0.0707 - val_acc: 0.9744\n",
      "Epoch 88/100\n",
      "4s - loss: 0.0707 - acc: 0.9744 - val_loss: 0.0707 - val_acc: 0.9744\n",
      "Epoch 89/100\n",
      "4s - loss: 0.0707 - acc: 0.9744 - val_loss: 0.0707 - val_acc: 0.9745\n",
      "Epoch 90/100\n",
      "4s - loss: 0.0707 - acc: 0.9744 - val_loss: 0.0707 - val_acc: 0.9744\n",
      "Epoch 91/100\n",
      "4s - loss: 0.0707 - acc: 0.9744 - val_loss: 0.0707 - val_acc: 0.9745\n",
      "Epoch 92/100\n",
      "4s - loss: 0.0707 - acc: 0.9744 - val_loss: 0.0707 - val_acc: 0.9745\n",
      "Epoch 93/100\n",
      "4s - loss: 0.0707 - acc: 0.9744 - val_loss: 0.0707 - val_acc: 0.9745\n",
      "Epoch 94/100\n",
      "4s - loss: 0.0707 - acc: 0.9744 - val_loss: 0.0707 - val_acc: 0.9745\n",
      "Epoch 95/100\n",
      "4s - loss: 0.0707 - acc: 0.9744 - val_loss: 0.0707 - val_acc: 0.9744\n",
      "Epoch 96/100\n",
      "4s - loss: 0.0707 - acc: 0.9744 - val_loss: 0.0707 - val_acc: 0.9745\n",
      "Epoch 97/100\n",
      "4s - loss: 0.0707 - acc: 0.9744 - val_loss: 0.0707 - val_acc: 0.9744\n",
      "Epoch 98/100\n",
      "4s - loss: 0.0707 - acc: 0.9744 - val_loss: 0.0707 - val_acc: 0.9745\n",
      "Epoch 99/100\n",
      "4s - loss: 0.0707 - acc: 0.9745 - val_loss: 0.0707 - val_acc: 0.9744\n",
      "Epoch 100/100\n",
      "4s - loss: 0.0707 - acc: 0.9744 - val_loss: 0.0707 - val_acc: 0.9744\n"
     ]
    },
    {
     "data": {
      "text/plain": [
       "<matplotlib.legend.Legend at 0x7fdee818af10>"
      ]
     },
     "execution_count": 174,
     "metadata": {},
     "output_type": "execute_result"
    },
    {
     "data": {
      "image/png": "[encoded data removed]",
      "text/plain": [
       "<matplotlib.figure.Figure at 0x7fdee8542090>"
      ]
     },
     "metadata": {},
     "output_type": "display_data"
    }
   ],
   "source": [
    "batch_size = 256\n",
    "epochs = 100\n",
    "history_callback = model2.fit(X_t, Y_t, batch_size=batch_size, epochs=epochs, verbose=2, \\\n",
    "          validation_data=(X_v, Y_v))\n",
    "\n",
    "# print(\"Max score %f at epoch %d\" % (np.max(scores), np.argmax(scores)))\n",
    "plt.figure(figsize=(12, 4))\n",
    "plt.subplot(1, 2, 1)\n",
    "plt.plot(history_callback.history['loss'])\n",
    "plt.plot(history_callback.history['val_loss'])\n",
    "plt.legend(labels=['loss', 'val_loss'])"
   ]
  },
  {
   "cell_type": "code",
   "execution_count": 175,
   "metadata": {
    "collapsed": false
   },
   "outputs": [
    {
     "data": {
      "text/plain": [
       "0.94116320723963653"
      ]
     },
     "execution_count": 175,
     "metadata": {},
     "output_type": "execute_result"
    }
   ],
   "source": [
    "pred_v_final = (model2.predict(X_v) > 0.2).astype(int)\n",
    "fbeta_score(Y_v, pred_v_final, beta=2, average='samples')"
   ]
  },
  {
   "cell_type": "code",
   "execution_count": 176,
   "metadata": {
    "collapsed": false
   },
   "outputs": [
    {
     "data": {
      "text/plain": [
       "0.94502204382852439"
      ]
     },
     "execution_count": 176,
     "metadata": {},
     "output_type": "execute_result"
    }
   ],
   "source": [
    "pred_train_final = (model2.predict(X_train) > 0.2).astype(int)\n",
    "fbeta_score(y_true_train, pred_train_final, beta=2, average='samples')"
   ]
  }
 ],
 "metadata": {
  "kernelspec": {
   "display_name": "Python 2",
   "language": "python",
   "name": "python2"
  },
  "language_info": {
   "codemirror_mode": {
    "name": "ipython",
    "version": 2
   },
   "file_extension": ".py",
   "mimetype": "text/x-python",
   "name": "python",
   "nbconvert_exporter": "python",
   "pygments_lexer": "ipython2",
   "version": "2.7.6"
  }
 },
 "nbformat": 4,
 "nbformat_minor": 2
}
