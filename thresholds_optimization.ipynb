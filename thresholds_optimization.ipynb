{
 "cells": [
  {
   "cell_type": "code",
   "execution_count": 1,
   "metadata": {
    "collapsed": true
   },
   "outputs": [],
   "source": [
    "import argparse\n",
    "import os, sys\n",
    "from utils.data_utils import *\n",
    "from glob import glob\n",
    "import pandas as pd\n",
    "import numpy as np\n",
    "import shutil\n",
    "from tqdm import tqdm\n",
    "%matplotlib inline  \n",
    "import matplotlib.pyplot as plt\n",
    "plt.rcParams[\"figure.figsize\"] = [12,9]"
   ]
  },
  {
   "cell_type": "code",
   "execution_count": 2,
   "metadata": {
    "collapsed": true
   },
   "outputs": [],
   "source": [
    "def is_windows():\n",
    "    return sys.platform == 'win32'\n",
    "\n",
    "res_dir = os.path.join('predictions')\n",
    "if is_windows():\n",
    "    l_dirs = ['0.21', '0.22', '0.23', '0.24', '0.25']\n",
    "else:\n",
    "    l_dirs = ['0.09']\n",
    "    \n",
    "def get_data_dir(a, t):\n",
    "    if t:\n",
    "        if a:\n",
    "            data_dir = 'train_ex'\n",
    "        else:\n",
    "            data_dir = 'train'\n",
    "    else:\n",
    "        if a:\n",
    "            data_dir = 'valid_ex'\n",
    "        else:\n",
    "            data_dir = 'valid'\n",
    "    return data_dir\n",
    "\n",
    "def load_loss_df(l_dirs, augmented=False, train=False):\n",
    "    data_dir = get_data_dir(augmented, train)\n",
    "    dataframes = []\n",
    "    for d in l_dirs:\n",
    "        dataframes.append(pd.read_csv(os.path.join(res_dir, data_dir, d, 'models.csv')))\n",
    "\n",
    "    df_l = pd.concat(dataframes, ignore_index=True)\n",
    "    return df_l\n",
    "\n",
    "def get_gt_name(a, t):\n",
    "    if t:\n",
    "        if a:\n",
    "            name = 'Y_train_augmented.npz'\n",
    "        else:\n",
    "            name = 'Y_train.npz'\n",
    "    else:\n",
    "        if a:\n",
    "            name = 'Y_valid_augmented.npz'\n",
    "        else:\n",
    "            name = 'Y_valid.npz'\n",
    "    return name\n",
    "\n",
    "def load_ground_truth(data_dir, augmented=False, train=False):\n",
    "    gt_name = get_gt_name(augmented, train)\n",
    "    y_true_path = os.path.join('augmented', data_dir, gt_name)\n",
    "    y_true = npz_to_ndarray(np.load(y_true_path))\n",
    "    return y_true\n",
    "\n",
    "def load_preds(df_loss):\n",
    "    preds = []\n",
    "    for npz_path in df_loss.res_path:\n",
    "        p = npz_to_ndarray(np.load(npz_path))\n",
    "        preds.append(p)\n",
    "    return np.array(preds)"
   ]
  },
  {
   "cell_type": "code",
   "execution_count": 4,
   "metadata": {
    "collapsed": true
   },
   "outputs": [],
   "source": [
    "train_augmented = True\n",
    "valid_augmented = True"
   ]
  },
  {
   "cell_type": "code",
   "execution_count": 14,
   "metadata": {
    "collapsed": false
   },
   "outputs": [
    {
     "name": "stdout",
     "output_type": "stream",
     "text": [
      "76\n",
      "76\n"
     ]
    }
   ],
   "source": [
    "df_loss_valid = load_loss_df(l_dirs, augmented=valid_augmented, train=False)\n",
    "print(len(df_loss_valid))\n",
    "df_loss_train = load_loss_df(l_dirs, augmented=train_augmented, train=True)\n",
    "print(len(df_loss_train))"
   ]
  },
  {
   "cell_type": "code",
   "execution_count": 7,
   "metadata": {
    "collapsed": false
   },
   "outputs": [
    {
     "name": "stdout",
     "output_type": "stream",
     "text": [
      "(76, 64768, 17)\n",
      "(76, 259064, 17)\n"
     ]
    }
   ],
   "source": [
    "preds_valid = load_preds(df_loss_valid)\n",
    "print(preds_valid.shape)\n",
    "preds_train = load_preds(df_loss_train)\n",
    "print(preds_train.shape)"
   ]
  },
  {
   "cell_type": "code",
   "execution_count": 8,
   "metadata": {
    "collapsed": false
   },
   "outputs": [
    {
     "name": "stdout",
     "output_type": "stream",
     "text": [
      "(64768, 17)\n",
      "(259064, 17)\n"
     ]
    }
   ],
   "source": [
    "y_true_valid = load_ground_truth('train_augmented_size_128_mult_8_seed_0', augmented=valid_augmented, train=False)\n",
    "print(y_true_valid.shape)\n",
    "y_true_train = load_ground_truth('train_augmented_size_128_mult_8_seed_0', augmented=train_augmented, train=True)\n",
    "print(y_true_train.shape)"
   ]
  },
  {
   "cell_type": "code",
   "execution_count": 75,
   "metadata": {
    "collapsed": true
   },
   "outputs": [],
   "source": [
    "def find_ratios(y_true, y_pred, default=0.2, step = 0.05):\n",
    "    threshold = [0.2]*17\n",
    "    best_score = fbeta_score(y_true, (y_pred > threshold).astype(int), beta=2, average='samples')\n",
    "    step = step\n",
    "    n = int(1/step)\n",
    "    for j in tqdm(range(17)):\n",
    "        temp_threshold = threshold[:]\n",
    "        r = step\n",
    "        for _ in range(n):\n",
    "            temp_threshold[j] = r\n",
    "            score = fbeta_score(y_true, (y_pred > temp_threshold).astype(int), beta=2, average='samples')\n",
    "            if score > best_score:\n",
    "                best_score = score\n",
    "                threshold[j] = r\n",
    "            r += step\n",
    "\n",
    "    return threshold\n",
    "\n",
    "def get_ensemble_avg_score(ensemble, all_preds, y_true, opt_th=False, opt_step=0.05, th=0.2):\n",
    "    ensemble_preds = [all_preds[j] for j in ensemble]\n",
    "    avg_pred = np.mean(ensemble_preds, axis=0)\n",
    "    if not opt_th:\n",
    "        avg_pred_final = (avg_pred > th).astype(int)\n",
    "    else:\n",
    "        thresholds = find_ratios(y_true, avg_pred, step=opt_step)\n",
    "        avg_pred_final = (avg_pred > thresholds).astype(int)\n",
    "    avg_score = fbeta_score(y_true, avg_pred_final, beta=2, average='samples')\n",
    "    return avg_score\n",
    "\n",
    "def opt_thresholds(ensemble, all_preds, y_true, opt_step=0.05):\n",
    "    ensemble_preds = [all_preds[j] for j in ensemble]\n",
    "    avg_pred = np.mean(ensemble_preds, axis=0)\n",
    "    thresholds = find_ratios(y_true, avg_pred, step=opt_step)\n",
    "    avg_pred_final = (avg_pred > thresholds).astype(int)\n",
    "    avg_score = fbeta_score(y_true, avg_pred_final, beta=2, average='samples')\n",
    "    return np.array(thresholds), avg_score"
   ]
  },
  {
   "cell_type": "code",
   "execution_count": 90,
   "metadata": {
    "collapsed": false
   },
   "outputs": [
    {
     "name": "stdout",
     "output_type": "stream",
     "text": [
      "Score 0.92870 of models [20, 62, 13, 46, 8]\n"
     ]
    }
   ],
   "source": [
    "# ensemble = [20, 62]\n",
    "ensemble = [20, 62, 13, 46, 8]\n",
    "# ensemble = [20, 62, 13, 46, 8, 22, 12, 51, 25]\n",
    "print(\"Score %.5f of models %s\" % (get_ensemble_avg_score(ensemble, preds_valid, y_true_valid), ensemble))"
   ]
  },
  {
   "cell_type": "code",
   "execution_count": 91,
   "metadata": {
    "collapsed": false
   },
   "outputs": [
    {
     "name": "stderr",
     "output_type": "stream",
     "text": [
      "100%|██████████| 17/17 [03:42<00:00, 12.85s/it]\n"
     ]
    },
    {
     "name": "stdout",
     "output_type": "stream",
     "text": [
      "Training score with opt thresholds 0.94531\n",
      "[ 0.15   0.275  0.175  0.2    0.15   0.075  0.225  0.2    0.225  0.275\n",
      "  0.325  0.175  0.125  0.1    0.25   0.25   0.15 ]\n"
     ]
    }
   ],
   "source": [
    "train_th, train_score = opt_thresholds(ensemble, preds_train, y_true_train, opt_step=0.025)\n",
    "print(\"Training score with opt thresholds %.5f\" % train_score)\n",
    "print(train_th)"
   ]
  },
  {
   "cell_type": "code",
   "execution_count": 92,
   "metadata": {
    "collapsed": false
   },
   "outputs": [
    {
     "name": "stderr",
     "output_type": "stream",
     "text": [
      "100%|██████████| 17/17 [00:46<00:00,  2.72s/it]"
     ]
    },
    {
     "name": "stdout",
     "output_type": "stream",
     "text": [
      "Validation score with opt thresholds 0.92943\n",
      "[ 0.275  0.2    0.225  0.275  0.2    0.075  0.2    0.225  0.2    0.2    0.25\n",
      "  0.175  0.1    0.4    0.25   0.175  0.125]\n"
     ]
    },
    {
     "name": "stderr",
     "output_type": "stream",
     "text": [
      "\n"
     ]
    }
   ],
   "source": [
    "val_th, val_score = opt_thresholds(ensemble, preds_valid, y_true_valid, opt_step=0.025)\n",
    "print(\"Validation score with opt thresholds %.5f\" % (val_score))\n",
    "print(val_th)"
   ]
  },
  {
   "cell_type": "code",
   "execution_count": 93,
   "metadata": {
    "collapsed": false
   },
   "outputs": [
    {
     "name": "stdout",
     "output_type": "stream",
     "text": [
      "[ 0.15   0.275  0.175  0.2    0.15   0.075  0.225  0.2    0.225  0.275\n",
      "  0.325  0.175  0.125  0.1    0.25   0.25   0.15 ]\n",
      "[ 0.275  0.2    0.225  0.275  0.2    0.075  0.2    0.225  0.2    0.2    0.25\n",
      "  0.175  0.1    0.4    0.25   0.175  0.125]\n",
      "[ 0.2125  0.2375  0.2     0.2375  0.175   0.075   0.2125  0.2125  0.2125\n",
      "  0.2375  0.2875  0.175   0.1125  0.25    0.25    0.2125  0.1375]\n"
     ]
    }
   ],
   "source": [
    "print(np.array(train_th))\n",
    "print(np.array(val_th))\n",
    "mean_thresholds = np.mean([train_th, val_th], axis=0)\n",
    "print(mean_thresholds)"
   ]
  },
  {
   "cell_type": "code",
   "execution_count": 94,
   "metadata": {
    "collapsed": false
   },
   "outputs": [
    {
     "name": "stdout",
     "output_type": "stream",
     "text": [
      "Train score 0.94422\n",
      "Train score with opt thresolds 0.94482\n"
     ]
    }
   ],
   "source": [
    "print(\"Train score %.5f\" % get_ensemble_avg_score(ensemble, preds_train, y_true_train))\n",
    "print(\"Train score with opt thresolds %.5f\" % get_ensemble_avg_score(ensemble, preds_train, y_true_train, th=mean_thresholds))"
   ]
  },
  {
   "cell_type": "code",
   "execution_count": 95,
   "metadata": {
    "collapsed": false
   },
   "outputs": [
    {
     "name": "stdout",
     "output_type": "stream",
     "text": [
      "Valid score 0.92870\n",
      "Valid score with opt thresolds 0.92907\n"
     ]
    }
   ],
   "source": [
    "print(\"Valid score %.5f\" % get_ensemble_avg_score(ensemble, preds_valid, y_true_valid))\n",
    "print(\"Valid score with opt thresolds %.5f\" % get_ensemble_avg_score(ensemble, preds_valid, y_true_valid, th=mean_thresholds))"
   ]
  },
  {
   "cell_type": "code",
   "execution_count": 96,
   "metadata": {
    "collapsed": false
   },
   "outputs": [
    {
     "name": "stdout",
     "output_type": "stream",
     "text": [
      "Done\n"
     ]
    }
   ],
   "source": [
    "import shutil\n",
    "copy_to = os.path.join('other_models', 'ensemble16')\n",
    "if not os.path.exists(copy_to):\n",
    "    os.makedirs(copy_to)\n",
    "for j, i in enumerate(ensemble):\n",
    "    m = df_loss_valid.loc[i].path\n",
    "    dest = os.path.join(copy_to, df_loss_valid.loc[i].model + '.h5')\n",
    "    shutil.copyfile(m, dest)\n",
    "    \n",
    "np.save(os.path.join(copy_to, 'avg_model_thresholds.npy'), mean_thresholds)\n",
    "print(\"Done\")"
   ]
  }
 ],
 "metadata": {
  "kernelspec": {
   "display_name": "Python 2",
   "language": "python",
   "name": "python2"
  },
  "language_info": {
   "codemirror_mode": {
    "name": "ipython",
    "version": 2
   },
   "file_extension": ".py",
   "mimetype": "text/x-python",
   "name": "python",
   "nbconvert_exporter": "python",
   "pygments_lexer": "ipython2",
   "version": "2.7.6"
  }
 },
 "nbformat": 4,
 "nbformat_minor": 2
}
