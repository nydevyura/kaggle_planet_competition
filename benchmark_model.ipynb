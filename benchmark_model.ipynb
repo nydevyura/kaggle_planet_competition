{
 "cells": [
  {
   "cell_type": "code",
   "execution_count": 1,
   "metadata": {
    "collapsed": true
   },
   "outputs": [],
   "source": [
    "import os, math\n",
    "import numpy as np\n",
    "import pandas as pd\n",
    "import matplotlib.pyplot as plt\n",
    "%matplotlib inline\n",
    "plt.rcParams[\"figure.figsize\"] = [12,9]\n",
    "from matplotlib.pyplot import imshow\n",
    "\n",
    "from sklearn.model_selection import train_test_split\n",
    "from sklearn.metrics import fbeta_score\n",
    "\n",
    "from utils.data_utils import *"
   ]
  },
  {
   "cell_type": "code",
   "execution_count": 2,
   "metadata": {},
   "outputs": [
    {
     "data": {
      "text/plain": [
       "array(['slash_burn', 'clear', 'blooming', 'primary', 'cloudy',\n",
       "       'conventional_mine', 'water', 'haze', 'cultivation',\n",
       "       'partly_cloudy', 'artisinal_mine', 'habitation', 'bare_ground',\n",
       "       'blow_down', 'agriculture', 'road', 'selective_logging'],\n",
       "      dtype='|S17')"
      ]
     },
     "execution_count": 2,
     "metadata": {},
     "output_type": "execute_result"
    }
   ],
   "source": [
    "df_train = pd.read_csv('inputs/train_v2.csv')\n",
    "labels, label_map, inv_label_map = get_labels()\n",
    "np.array(labels)"
   ]
  },
  {
   "cell_type": "code",
   "execution_count": 3,
   "metadata": {},
   "outputs": [
    {
     "name": "stderr",
     "output_type": "stream",
     "text": [
      "100%|██████████| 40479/40479 [00:43<00:00, 935.09it/s]"
     ]
    },
    {
     "name": "stdout",
     "output_type": "stream",
     "text": [
      "Creating numpy array for data...\n",
      "(40479, 128, 128, 3)\n"
     ]
    },
    {
     "name": "stderr",
     "output_type": "stream",
     "text": [
      "\n"
     ]
    }
   ],
   "source": [
    "X, Y = load_data(df_train, 'inputs/train-jpg', label_map, img_size=128)\n",
    "print(X.shape)"
   ]
  },
  {
   "cell_type": "code",
   "execution_count": 9,
   "metadata": {},
   "outputs": [],
   "source": [
    "X_train, X_valid, Y_train, Y_valid = train_test_split(X, Y, test_size=0.2, random_state=0)"
   ]
  },
  {
   "cell_type": "code",
   "execution_count": 98,
   "metadata": {},
   "outputs": [
    {
     "name": "stdout",
     "output_type": "stream",
     "text": [
      "Benchmark model0 F-beta score 0.33850\n"
     ]
    }
   ],
   "source": [
    "benchmark_model0 = np.random.uniform(size = Y_valid.size).reshape(Y_valid.shape)\n",
    "benchmark_model0 = (benchmark_model0 > 0.5).astype(int)\n",
    "score = fbeta_score(Y_valid, benchmark_model0, beta=2, average='samples')\n",
    "print(\"Benchmark model0 F-beta score %.5f\" % score)"
   ]
  },
  {
   "cell_type": "code",
   "execution_count": 22,
   "metadata": {},
   "outputs": [],
   "source": [
    "def get_probs(y):\n",
    "    probs = np.empty(y.shape[1])\n",
    "    for i in range(y.shape[1]):\n",
    "        probs[i] = float(np.sum(y[:,i]))/y.shape[0]\n",
    "    return probs"
   ]
  },
  {
   "cell_type": "code",
   "execution_count": 93,
   "metadata": {},
   "outputs": [
    {
     "data": {
      "text/plain": [
       "array([ 0.00481734,  0.70215854,  0.00818331,  0.92650465,  0.05252756,\n",
       "        0.00234691,  0.18361486,  0.06685607,  0.11005775,  0.17842695,\n",
       "        0.00843035,  0.09041781,  0.02068987,  0.00256307,  0.30525276,\n",
       "        0.19880802,  0.00818331])"
      ]
     },
     "execution_count": 93,
     "metadata": {},
     "output_type": "execute_result"
    }
   ],
   "source": [
    "get_probs(Y_train)"
   ]
  },
  {
   "cell_type": "code",
   "execution_count": 28,
   "metadata": {},
   "outputs": [],
   "source": [
    "model_probs = get_probs(Y_train)"
   ]
  },
  {
   "cell_type": "code",
   "execution_count": 97,
   "metadata": {},
   "outputs": [
    {
     "name": "stdout",
     "output_type": "stream",
     "text": [
      "Benchmark model1 F-beta score 0.56052\n"
     ]
    }
   ],
   "source": [
    "benchmark_model1 = np.empty(Y_valid.shape)\n",
    "for i in range(Y_valid.shape[1]):\n",
    "    temp = np.random.uniform(size = Y_valid.shape[0])\n",
    "    benchmark_model1[:,i] = (temp < model_probs[i]).astype(int)\n",
    "score = fbeta_score(Y_valid, benchmark_model1, beta=2, average='samples')\n",
    "print(\"Benchmark model1 F-beta score %.5f\" % score)"
   ]
  },
  {
   "cell_type": "code",
   "execution_count": 62,
   "metadata": {
    "collapsed": true
   },
   "outputs": [],
   "source": [
    "def get_benchmark2(threshold, shape, model_probs):\n",
    "    benchmark_model2 = np.empty(shape)\n",
    "    for i in range(shape[1]):\n",
    "        if model_probs[i] < threshold:\n",
    "            benchmark_model2[:,i] = 0\n",
    "        else:\n",
    "            benchmark_model2[:,i] = 1\n",
    "    return benchmark_model2"
   ]
  },
  {
   "cell_type": "code",
   "execution_count": 71,
   "metadata": {},
   "outputs": [
    {
     "data": {
      "text/plain": [
       "array([ 0.01,  0.02,  0.03,  0.04,  0.05,  0.06,  0.07,  0.08,  0.09,\n",
       "        0.1 ,  0.11,  0.12,  0.13,  0.14,  0.15,  0.16,  0.17,  0.18,\n",
       "        0.19,  0.2 ,  0.21,  0.22,  0.23,  0.24,  0.25,  0.26,  0.27,\n",
       "        0.28,  0.29,  0.3 ,  0.31,  0.32,  0.33,  0.34,  0.35,  0.36,\n",
       "        0.37,  0.38,  0.39,  0.4 ,  0.41,  0.42,  0.43,  0.44,  0.45,\n",
       "        0.46,  0.47,  0.48,  0.49,  0.5 ])"
      ]
     },
     "execution_count": 71,
     "metadata": {},
     "output_type": "execute_result"
    }
   ],
   "source": [
    "thresholds = np.arange(50)/100. + 0.01\n",
    "thresholds"
   ]
  },
  {
   "cell_type": "code",
   "execution_count": 89,
   "metadata": {
    "scrolled": true
   },
   "outputs": [
    {
     "name": "stderr",
     "output_type": "stream",
     "text": [
      "100%|██████████| 50/50 [00:01<00:00, 26.26it/s]\n"
     ]
    }
   ],
   "source": [
    "train_scores = []\n",
    "for th in tqdm(thresholds):\n",
    "    benchmark_model2 = get_benchmark2(th, Y_train.shape, model_probs)\n",
    "    score = fbeta_score(Y_train, benchmark_model2, beta=2, average='samples')\n",
    "    train_scores.append(score)"
   ]
  },
  {
   "cell_type": "code",
   "execution_count": 90,
   "metadata": {},
   "outputs": [
    {
     "name": "stderr",
     "output_type": "stream",
     "text": [
      "100%|██████████| 50/50 [00:00<00:00, 88.77it/s]\n"
     ]
    }
   ],
   "source": [
    "valid_scores = []\n",
    "for th in tqdm(thresholds):\n",
    "    benchmark_model2 = get_benchmark2(th, Y_valid.shape, model_probs)\n",
    "    score = fbeta_score(Y_valid, benchmark_model2, beta=2, average='samples')\n",
    "    valid_scores.append(score)"
   ]
  },
  {
   "cell_type": "code",
   "execution_count": 92,
   "metadata": {},
   "outputs": [
    {
     "data": {
      "text/plain": [
       "<matplotlib.legend.Legend at 0x7efe9c682fd0>"
      ]
     },
     "execution_count": 92,
     "metadata": {},
     "output_type": "execute_result"
    },
    {
     "data": {
      "image/png": "[encoded data removed]",
      "text/plain": [
       "<matplotlib.figure.Figure at 0x7efe9c70c510>"
      ]
     },
     "metadata": {},
     "output_type": "display_data"
    }
   ],
   "source": [
    "plt.plot(thresholds, train_scores)\n",
    "plt.plot(thresholds, valid_scores)\n",
    "plt.legend(['train', 'valid'])"
   ]
  },
  {
   "cell_type": "code",
   "execution_count": 96,
   "metadata": {},
   "outputs": [
    {
     "name": "stdout",
     "output_type": "stream",
     "text": [
      "Benchmark model2 F-beta score 0.69054\n"
     ]
    }
   ],
   "source": [
    "benchmark_model2 = get_benchmark2(0.15, Y_valid.shape, model_probs)\n",
    "score = fbeta_score(Y_valid, benchmark_model2, beta=2, average='samples')\n",
    "print(\"Benchmark model2 F-beta score %.5f\" % score)"
   ]
  }
 ],
 "metadata": {
  "kernelspec": {
   "display_name": "Python 2",
   "language": "python",
   "name": "python2"
  },
  "language_info": {
   "codemirror_mode": {
    "name": "ipython",
    "version": 2
   },
   "file_extension": ".py",
   "mimetype": "text/x-python",
   "name": "python",
   "nbconvert_exporter": "python",
   "pygments_lexer": "ipython2",
   "version": "2.7.12"
  }
 },
 "nbformat": 4,
 "nbformat_minor": 2
}
