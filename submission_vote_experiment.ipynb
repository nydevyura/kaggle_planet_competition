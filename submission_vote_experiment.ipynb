{
 "cells": [
  {
   "cell_type": "code",
   "execution_count": 12,
   "metadata": {
    "collapsed": true
   },
   "outputs": [],
   "source": [
    "import numpy as np # linear algebra\n",
    "import pandas as pd # data processing, CSV file I/O (e.g. pd.read_csv)\n",
    "import matplotlib.pyplot as plt\n",
    "import os\n",
    "from glob import glob\n",
    "from tqdm import tqdm\n",
    "from sklearn.metrics import matthews_corrcoef\n",
    "from sklearn.metrics import explained_variance_score"
   ]
  },
  {
   "cell_type": "code",
   "execution_count": 13,
   "metadata": {},
   "outputs": [
    {
     "name": "stdout",
     "output_type": "stream",
     "text": [
      "['slash_burn', 'clear', 'blooming', 'primary', 'cloudy', 'conventional_mine', 'water', 'haze', 'cultivation', 'partly_cloudy', 'artisinal_mine', 'habitation', 'bare_ground', 'blow_down', 'agriculture', 'road', 'selective_logging']\n"
     ]
    }
   ],
   "source": [
    "def get_labels():\n",
    "    labels = [\n",
    "        'slash_burn',\n",
    "        'clear',\n",
    "        'blooming',\n",
    "        'primary',\n",
    "        'cloudy',\n",
    "        'conventional_mine',\n",
    "        'water',\n",
    "        'haze',\n",
    "        'cultivation',\n",
    "        'partly_cloudy',\n",
    "        'artisinal_mine',\n",
    "        'habitation',\n",
    "        'bare_ground',\n",
    "        'blow_down',\n",
    "        'agriculture',\n",
    "        'road',\n",
    "        'selective_logging'\n",
    "    ]\n",
    "\n",
    "    l_map = {l: i for i, l in enumerate(labels)}\n",
    "    inv_map = {i: l for l, i in l_map.items()}\n",
    "    return labels, l_map, inv_map\n",
    "\n",
    "labels, label_map, inv_label_map = get_labels()\n",
    "print(labels)\n",
    "\n",
    "def dfsub_to_np(df_sub):\n",
    "    sub = np.zeros((len(df_sub), 17), dtype=int)\n",
    "    for i, tags in tqdm(enumerate(df_sub.tags), miniters=1000):\n",
    "        for t in tags.split(' '):\n",
    "            sub[i][label_map[t]] = 1\n",
    "    return sub\n",
    "\n",
    "def vote(preds):\n",
    "    return (preds.mean(axis=0) > 0.5).astype(int)\n",
    "\n",
    "def to_tagging(one_hot_data, inv_label_map):\n",
    "    res = pd.DataFrame(index=range(len(one_hot_data)), columns=['tags'])\n",
    "    for j in tqdm(range(len(one_hot_data))):\n",
    "        tags = []\n",
    "        for i in range(17):\n",
    "            if one_hot_data[j][i] == 1:\n",
    "                tags.append(inv_label_map[i])\n",
    "        res['tags'][j] = ' '.join(sorted(tags))\n",
    "    return res\n",
    "\n",
    "def get_test_df():\n",
    "    inputs_dir = 'inputs'\n",
    "    df_submission = pd.read_csv(os.path.join(inputs_dir, 'sample_submission_v2.csv'))\n",
    "    return df_submission\n",
    "\n",
    "def create_submission(pred, sufix):\n",
    "    print(\"Reading submission dataframe\")\n",
    "    df_submission = get_test_df()\n",
    "    print(\"Creating tags\")\n",
    "    p_tags = to_tagging(pred, inv_label_map)\n",
    "    df_submission.tags = p_tags.tags\n",
    "    submission_dir = os.path.join('submissions', 'ensemble_vote_test')\n",
    "    if not os.path.exists(submission_dir):\n",
    "        os.makedirs(submission_dir)\n",
    "        \n",
    "    file_name = 'submission_' + sufix + '.csv'\n",
    "    print(\"Saving submission to file\")\n",
    "    df_submission.to_csv(os.path.join(submission_dir, file_name), index=False)\n",
    "    print(\"%s created\" % os.path.join(submission_dir, file_name))"
   ]
  },
  {
   "cell_type": "code",
   "execution_count": 14,
   "metadata": {},
   "outputs": [
    {
     "name": "stderr",
     "output_type": "stream",
     "text": [
      "61191it [00:00, 449940.41it/s]\n",
      "61191it [00:00, 440229.26it/s]\n",
      "61191it [00:00, 443549.41it/s]\n"
     ]
    },
    {
     "data": {
      "text/plain": [
       "(3, 61191, 17)"
      ]
     },
     "execution_count": 14,
     "metadata": {},
     "output_type": "execute_result"
    }
   ],
   "source": [
    "submissions_dir = os.path.join('best_submissions', 'top2_submissions')\n",
    "sub_files = glob(os.path.join(submissions_dir, '*.csv'))\n",
    "submissions = []\n",
    "for s_f in sub_files:\n",
    "    df_s = pd.read_csv(s_f)\n",
    "    sub = dfsub_to_np(df_s)\n",
    "    submissions.append(sub)\n",
    "submissions = np.array(submissions)\n",
    "submissions.shape"
   ]
  },
  {
   "cell_type": "code",
   "execution_count": 15,
   "metadata": {
    "collapsed": true
   },
   "outputs": [],
   "source": [
    "def mean_matthews_corrcoef(p1, p2):\n",
    "    mean_mcc = 0\n",
    "    for i in range(17):\n",
    "        mean_mcc += matthews_corrcoef(p1[:,i], p2[:,i])\n",
    "    mean_mcc /= 17\n",
    "    return mean_mcc"
   ]
  },
  {
   "cell_type": "code",
   "execution_count": 16,
   "metadata": {},
   "outputs": [
    {
     "name": "stderr",
     "output_type": "stream",
     "text": [
      "100%|██████████| 3/3 [00:00<00:00,  8.47it/s]\n"
     ]
    },
    {
     "data": {
      "text/html": [
       "<div>\n",
       "<table border=\"1\" class=\"dataframe\">\n",
       "  <thead>\n",
       "    <tr style=\"text-align: right;\">\n",
       "      <th></th>\n",
       "      <th>i</th>\n",
       "      <th>j</th>\n",
       "      <th>mcc</th>\n",
       "    </tr>\n",
       "  </thead>\n",
       "  <tbody>\n",
       "    <tr>\n",
       "      <th>2</th>\n",
       "      <td>1</td>\n",
       "      <td>2</td>\n",
       "      <td>0.947169</td>\n",
       "    </tr>\n",
       "    <tr>\n",
       "      <th>1</th>\n",
       "      <td>0</td>\n",
       "      <td>2</td>\n",
       "      <td>0.950918</td>\n",
       "    </tr>\n",
       "    <tr>\n",
       "      <th>0</th>\n",
       "      <td>0</td>\n",
       "      <td>1</td>\n",
       "      <td>0.977665</td>\n",
       "    </tr>\n",
       "  </tbody>\n",
       "</table>\n",
       "</div>"
      ],
      "text/plain": [
       "   i  j       mcc\n",
       "2  1  2  0.947169\n",
       "1  0  2  0.950918\n",
       "0  0  1  0.977665"
      ]
     },
     "execution_count": 16,
     "metadata": {},
     "output_type": "execute_result"
    }
   ],
   "source": [
    "mcc_list = []\n",
    "ij = []\n",
    "for i in tqdm(range(len(submissions))):\n",
    "    for j in range(len(submissions)):\n",
    "        if i < j:\n",
    "            mcc = mean_matthews_corrcoef(submissions[i], submissions[j])\n",
    "            mcc_list.append(mcc)\n",
    "            ij.append([i,j])\n",
    "#             print(\"Matthews correlation of [%d,%d] is %f\" % (i,j,mcc))\n",
    "ij = np.array(ij)\n",
    "df_corr = pd.DataFrame(columns=['i', 'j', 'mcc'])\n",
    "df_corr['mcc'] = mcc_list\n",
    "df_corr['i'] = ij[:,0]\n",
    "df_corr['j'] = ij[:,1]\n",
    "df_corr.sort_values(by='mcc')"
   ]
  },
  {
   "cell_type": "code",
   "execution_count": 17,
   "metadata": {
    "collapsed": true
   },
   "outputs": [],
   "source": [
    "def get_mcc(i,j):\n",
    "    if i < j:\n",
    "        return df_corr[(df_corr.i == i) & (df_corr.j == j)].mcc.values[0]\n",
    "    else:\n",
    "        return df_corr[(df_corr.i == j) & (df_corr.j == i)].mcc.values[0]\n",
    "\n",
    "def find_best_candidate(init_ens):\n",
    "    min_mcc = 1\n",
    "    best_candidate = -1\n",
    "    a = np.arange(len(submissions))\n",
    "    for i in a:\n",
    "        if i not in init_ens:\n",
    "            mcc_of_i = []\n",
    "            for j in range(len(init_ens)):\n",
    "                mcc_of_i.append(get_mcc(i, init_ens[j]))\n",
    "                avgmcc = np.mean(mcc_of_i)\n",
    "            if avgmcc < min_mcc:\n",
    "                best_candidate = i\n",
    "                min_mcc = avgmcc\n",
    "    return best_candidate"
   ]
  },
  {
   "cell_type": "code",
   "execution_count": 18,
   "metadata": {},
   "outputs": [
    {
     "data": {
      "text/plain": [
       "['best_submissions\\\\top2_submissions\\\\submission__vote_179_193_201.csv',\n",
       " 'best_submissions\\\\top2_submissions\\\\submission__vote_201_195_198.csv',\n",
       " 'best_submissions\\\\top2_submissions\\\\submission__vote_split_3_5_7.csv']"
      ]
     },
     "execution_count": 18,
     "metadata": {},
     "output_type": "execute_result"
    }
   ],
   "source": [
    "sub_files"
   ]
  },
  {
   "cell_type": "code",
   "execution_count": 19,
   "metadata": {},
   "outputs": [
    {
     "name": "stdout",
     "output_type": "stream",
     "text": [
      "0.991830937393\n",
      "0.985864938793\n",
      "0.959063505694\n"
     ]
    }
   ],
   "source": [
    "vote_ens = [0,1,2]\n",
    "vote_pred = vote(submissions[vote_ens])\n",
    "for i in vote_ens:\n",
    "    print(mean_matthews_corrcoef(submissions[i], vote_pred))"
   ]
  },
  {
   "cell_type": "code",
   "execution_count": 20,
   "metadata": {},
   "outputs": [
    {
     "name": "stdout",
     "output_type": "stream",
     "text": [
      "Reading submission dataframe\n",
      "Creating tags\n"
     ]
    },
    {
     "name": "stderr",
     "output_type": "stream",
     "text": [
      "100%|██████████| 61191/61191 [00:18<00:00, 3247.25it/s]\n"
     ]
    },
    {
     "name": "stdout",
     "output_type": "stream",
     "text": [
      "Saving submission to file\n",
      "submissions\\ensemble_vote_test\\submission__vote_last.csv created\n"
     ]
    }
   ],
   "source": [
    "create_submission(vote_pred, '_vote_last')"
   ]
  }
 ],
 "metadata": {
  "kernelspec": {
   "display_name": "Python 3",
   "language": "python",
   "name": "python3"
  },
  "language_info": {
   "codemirror_mode": {
    "name": "ipython",
    "version": 3
   },
   "file_extension": ".py",
   "mimetype": "text/x-python",
   "name": "python",
   "nbconvert_exporter": "python",
   "pygments_lexer": "ipython3",
   "version": "3.5.3"
  }
 },
 "nbformat": 4,
 "nbformat_minor": 2
}
